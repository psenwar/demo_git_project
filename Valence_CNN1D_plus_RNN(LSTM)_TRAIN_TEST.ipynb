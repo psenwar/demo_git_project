{
  "nbformat": 4,
  "nbformat_minor": 0,
  "metadata": {
    "colab": {
      "name": "Valence -  CNN1D_plus_RNN(LSTM)_TRAIN_TEST.ipynb",
      "provenance": [],
      "collapsed_sections": []
    },
    "kernelspec": {
      "name": "python3",
      "display_name": "Python 3"
    },
    "language_info": {
      "name": "python"
    },
    "accelerator": "TPU"
  },
  "cells": [
    {
      "cell_type": "code",
      "metadata": {
        "colab": {
          "base_uri": "https://localhost:8080/"
        },
        "id": "hMEJnaiM8LRF",
        "outputId": "49e6dab3-8e72-4328-e3f3-4ab27ecbcab5"
      },
      "source": [
        "!pip install git+https://github.com/forrestbao/pyeeg.git\n",
        "\n",
        "import pandas as pd\n",
        "import keras.backend as K\n",
        "import numpy as np\n",
        "import pandas as pd\n",
        "import pyeeg as pe\n",
        "import pickle as pickle\n",
        "import math\n",
        "from sklearn import svm\n",
        "from sklearn.preprocessing import normalize\n",
        "\n",
        "import os\n",
        "import time"
      ],
      "execution_count": 2,
      "outputs": [
        {
          "output_type": "stream",
          "text": [
            "Collecting git+https://github.com/forrestbao/pyeeg.git\n",
            "  Cloning https://github.com/forrestbao/pyeeg.git to /tmp/pip-req-build-zgp42c45\n",
            "  Running command git clone -q https://github.com/forrestbao/pyeeg.git /tmp/pip-req-build-zgp42c45\n",
            "Requirement already satisfied: numpy>=1.9.2 in /usr/local/lib/python3.7/dist-packages (from pyeeg==0.4.4) (1.19.5)\n",
            "Building wheels for collected packages: pyeeg\n",
            "  Building wheel for pyeeg (setup.py) ... \u001b[?25l\u001b[?25hdone\n",
            "  Created wheel for pyeeg: filename=pyeeg-0.4.4-py2.py3-none-any.whl size=28123 sha256=60a62195b5c49ddff14cf63ba2a79acdccfd295dad3fe2b617b7000fae2470f1\n",
            "  Stored in directory: /tmp/pip-ephem-wheel-cache-99yz75rr/wheels/2d/3f/ad/106d4fc80b61d1ea1fc18e76e7439fd98aa043d83d58eae741\n",
            "Successfully built pyeeg\n",
            "Installing collected packages: pyeeg\n",
            "Successfully installed pyeeg-0.4.4\n"
          ],
          "name": "stdout"
        }
      ]
    },
    {
      "cell_type": "code",
      "metadata": {
        "id": "Urne3a1N8cOw"
      },
      "source": [
        "import keras\n",
        "from keras.models import Sequential\n",
        "from keras.layers import Dense, Dropout, Flatten\n",
        "from keras.layers.convolutional import Convolution1D, MaxPooling1D, ZeroPadding1D,Conv1D\n",
        "from keras.models import Sequential\n",
        "from keras.utils import to_categorical \n",
        "\n",
        "from keras.models import Model\n",
        "import timeit\n",
        "from keras.optimizers import SGD\n",
        "\n",
        "import warnings\n",
        "warnings.filterwarnings('ignore')"
      ],
      "execution_count": 3,
      "outputs": []
    },
    {
      "cell_type": "code",
      "metadata": {
        "colab": {
          "base_uri": "https://localhost:8080/"
        },
        "id": "meCnfLQI8j5t",
        "outputId": "cd67836e-7357-4e66-9780-be8c073c4c7a"
      },
      "source": [
        "from google.colab import drive\n",
        "drive.mount('/content/drive/')"
      ],
      "execution_count": 4,
      "outputs": [
        {
          "output_type": "stream",
          "text": [
            "Mounted at /content/drive/\n"
          ],
          "name": "stdout"
        }
      ]
    },
    {
      "cell_type": "markdown",
      "metadata": {
        "id": "o0S7ZRRtqH6b"
      },
      "source": [
        "# Opening data"
      ]
    },
    {
      "cell_type": "code",
      "metadata": {
        "id": "zOEOQSX997zs"
      },
      "source": [
        "with open('/content/drive/MyDrive/Colab Notebooks/DEAP  - saved/data_training.npy', 'rb') as fileX_training:\n",
        "    X_train  = np.load(fileX_training)\n",
        "    \n",
        "with open('/content/drive/MyDrive/Colab Notebooks/DEAP  - saved/label_training.npy', 'rb') as fileY_training:\n",
        "    Y_train  = np.load(fileY_training)   \n"
      ],
      "execution_count": 5,
      "outputs": []
    },
    {
      "cell_type": "code",
      "metadata": {
        "id": "hbCH-KI9Ox4B"
      },
      "source": [
        "X_train = normalize(X_train)\n",
        "Z_train = np.ravel(Y_train[:, [1]])  # valence\n",
        "#labels\n",
        "train_arousal = np.ravel(Y_train[:, [0]])\n",
        "train_valence = np.ravel(Y_train[:, [1]])\n",
        "train_dominance = np.ravel(Y_train[:, [2]])\n",
        "train_liking = np.ravel(Y_train[:, [3]])"
      ],
      "execution_count": 8,
      "outputs": []
    },
    {
      "cell_type": "code",
      "metadata": {
        "id": "4EzCRkCO98Qy"
      },
      "source": [
        "from keras.utils import to_categorical\n",
        "y_train = to_categorical(Z_train)\n",
        "x_train = np.array(X_train[:])"
      ],
      "execution_count": 9,
      "outputs": []
    },
    {
      "cell_type": "code",
      "metadata": {
        "id": "zCvT3HHF8mJt"
      },
      "source": [
        "with open('/content/drive/MyDrive/Colab Notebooks/DEAP  - saved/data_testing.npy', 'rb') as fileX_training:\n",
        "    X_test  = np.load(fileX_training)\n",
        "    \n",
        "with open('/content/drive/MyDrive/Colab Notebooks/DEAP  - saved/label_testing.npy', 'rb') as fileY_training:\n",
        "    Y_test  = np.load(fileY_training)\n"
      ],
      "execution_count": 10,
      "outputs": []
    },
    {
      "cell_type": "code",
      "metadata": {
        "id": "b8yjRoB18xnj"
      },
      "source": [
        "X_test = normalize(X_test)\n",
        "Z_test = np.ravel(Y_test[:, [1]]) # valence\n",
        "\n",
        "test_arousal = np.ravel(Y_test[:, [0]])\n",
        "test_valence = np.ravel(Y_test[:, [1]])\n",
        "test_dominance = np.ravel(Y_test[:, [2]])\n",
        "test_liking = np.ravel(Y_test[:, [3]])"
      ],
      "execution_count": 11,
      "outputs": []
    },
    {
      "cell_type": "code",
      "metadata": {
        "id": "MChoh7b6O9jw"
      },
      "source": [
        "x_test = np.array(X_test[:])"
      ],
      "execution_count": 12,
      "outputs": []
    },
    {
      "cell_type": "code",
      "metadata": {
        "colab": {
          "base_uri": "https://localhost:8080/"
        },
        "id": "k5suXVhN9UsL",
        "outputId": "fd431f97-8741-4ba8-c798-42068d88d16b"
      },
      "source": [
        "from keras.utils import to_categorical\n",
        "y_test = to_categorical(Z_test)\n",
        "y_test"
      ],
      "execution_count": 13,
      "outputs": [
        {
          "output_type": "execute_result",
          "data": {
            "text/plain": [
              "array([[0., 0., 0., ..., 0., 0., 0.],\n",
              "       [0., 0., 0., ..., 0., 0., 0.],\n",
              "       [0., 0., 0., ..., 0., 0., 0.],\n",
              "       ...,\n",
              "       [0., 0., 1., ..., 0., 0., 0.],\n",
              "       [0., 0., 1., ..., 0., 0., 0.],\n",
              "       [0., 0., 1., ..., 0., 0., 0.]], dtype=float32)"
            ]
          },
          "metadata": {
            "tags": []
          },
          "execution_count": 13
        }
      ]
    },
    {
      "cell_type": "code",
      "metadata": {
        "colab": {
          "base_uri": "https://localhost:8080/"
        },
        "id": "BjYWsyDs9WMz",
        "outputId": "7270c5cb-ef2d-4911-a755-7a6b21f5d2da"
      },
      "source": [
        "y_test[1]"
      ],
      "execution_count": 14,
      "outputs": [
        {
          "output_type": "execute_result",
          "data": {
            "text/plain": [
              "array([0., 0., 0., 0., 0., 1., 0., 0., 0., 0.], dtype=float32)"
            ]
          },
          "metadata": {
            "tags": []
          },
          "execution_count": 14
        }
      ]
    },
    {
      "cell_type": "code",
      "metadata": {
        "id": "WvQGHIGo9X5V"
      },
      "source": [
        "from sklearn.preprocessing import StandardScaler\n",
        "temp = StandardScaler()\n",
        "x_train = temp.fit_transform(x_train)\n",
        "x_test = temp.fit_transform(x_test)"
      ],
      "execution_count": 15,
      "outputs": []
    },
    {
      "cell_type": "code",
      "metadata": {
        "colab": {
          "base_uri": "https://localhost:8080/"
        },
        "id": "PB74mc2wa-Eg",
        "outputId": "d64870b7-a13d-4359-b22c-f2b6e7934f80"
      },
      "source": [
        "x_train = x_train.reshape(x_train.shape[0],x_train.shape[1], 1)\n",
        "x_test = x_test.reshape(x_test.shape[0],x_test.shape[1], 1)\n",
        "classes = 10\n",
        "shape=(x_train.shape[1], 1)\n",
        "print(shape)"
      ],
      "execution_count": 16,
      "outputs": [
        {
          "output_type": "stream",
          "text": [
            "(70, 1)\n"
          ],
          "name": "stdout"
        }
      ]
    },
    {
      "cell_type": "markdown",
      "metadata": {
        "id": "LakY1Tmgqa1Q"
      },
      "source": [
        "# CNN + RNN model"
      ]
    },
    {
      "cell_type": "code",
      "metadata": {
        "colab": {
          "base_uri": "https://localhost:8080/"
        },
        "id": "WUo3Q5gL9ZWs",
        "outputId": "39cfe6eb-2029-43c3-9575-1df1bfbe5efe"
      },
      "source": [
        "\n",
        "from keras.layers import Convolution2D, ZeroPadding2D, MaxPooling2D, BatchNormalization, Activation, Dropout, Flatten, Dense\n",
        "from keras.regularizers import l2\n",
        "from keras.layers import Bidirectional\n",
        "from keras.layers import LSTM\n",
        "\n",
        "\n",
        "model_mix = Sequential()\n",
        "\n",
        "# Using CNN layers\n",
        "model_mix.add(Conv1D(128, kernel_size=3,padding = 'same',activation='relu',input_shape=shape))\n",
        "model_mix.add(BatchNormalization())\n",
        "model_mix.add(MaxPooling1D(pool_size=(2)))\n",
        "\n",
        "model_mix.add(Conv1D(128,kernel_size=(3),padding = 'same', activation='relu'))\n",
        "model_mix.add(BatchNormalization())\n",
        "model_mix.add(MaxPooling1D(pool_size=(2)))\n",
        "\n",
        "# Using RNN(LSTM) layers\n",
        "model_mix.add(Bidirectional(LSTM(128, return_sequences=True), input_shape=shape))\n",
        "model_mix.add(Dropout(0.6))\n",
        "\n",
        "model_mix.add(LSTM(units = 256, return_sequences = True))  \n",
        "model_mix.add(Dropout(0.6))\n",
        "\n",
        "model_mix.add(LSTM(units = 64, return_sequences = True))  \n",
        "model_mix.add(Dropout(0.6))\n",
        "\n",
        "model_mix.add(Flatten())\n",
        "\n",
        "# simple dense layers\n",
        "model_mix.add(Dense(64, activation='relu'))\n",
        "model_mix.add(Dropout(0.2))\n",
        "model_mix.add(Dense(32, activation='relu'))\n",
        "model_mix.add(Dropout(0.2))\n",
        "model_mix.add(Dense(16, activation='relu'))\n",
        "model_mix.add(Dropout(0.2))\n",
        "model_mix.add(Dense(classes, activation='softmax'))\n",
        "model_mix.summary()\n",
        "\n"
      ],
      "execution_count": 17,
      "outputs": [
        {
          "output_type": "stream",
          "text": [
            "Model: \"sequential\"\n",
            "_________________________________________________________________\n",
            "Layer (type)                 Output Shape              Param #   \n",
            "=================================================================\n",
            "conv1d (Conv1D)              (None, 70, 128)           512       \n",
            "_________________________________________________________________\n",
            "batch_normalization (BatchNo (None, 70, 128)           512       \n",
            "_________________________________________________________________\n",
            "max_pooling1d (MaxPooling1D) (None, 35, 128)           0         \n",
            "_________________________________________________________________\n",
            "conv1d_1 (Conv1D)            (None, 35, 128)           49280     \n",
            "_________________________________________________________________\n",
            "batch_normalization_1 (Batch (None, 35, 128)           512       \n",
            "_________________________________________________________________\n",
            "max_pooling1d_1 (MaxPooling1 (None, 17, 128)           0         \n",
            "_________________________________________________________________\n",
            "bidirectional (Bidirectional (None, 17, 256)           263168    \n",
            "_________________________________________________________________\n",
            "dropout (Dropout)            (None, 17, 256)           0         \n",
            "_________________________________________________________________\n",
            "lstm_1 (LSTM)                (None, 17, 256)           525312    \n",
            "_________________________________________________________________\n",
            "dropout_1 (Dropout)          (None, 17, 256)           0         \n",
            "_________________________________________________________________\n",
            "lstm_2 (LSTM)                (None, 17, 64)            82176     \n",
            "_________________________________________________________________\n",
            "dropout_2 (Dropout)          (None, 17, 64)            0         \n",
            "_________________________________________________________________\n",
            "flatten (Flatten)            (None, 1088)              0         \n",
            "_________________________________________________________________\n",
            "dense (Dense)                (None, 64)                69696     \n",
            "_________________________________________________________________\n",
            "dropout_3 (Dropout)          (None, 64)                0         \n",
            "_________________________________________________________________\n",
            "dense_1 (Dense)              (None, 32)                2080      \n",
            "_________________________________________________________________\n",
            "dropout_4 (Dropout)          (None, 32)                0         \n",
            "_________________________________________________________________\n",
            "dense_2 (Dense)              (None, 16)                528       \n",
            "_________________________________________________________________\n",
            "dropout_5 (Dropout)          (None, 16)                0         \n",
            "_________________________________________________________________\n",
            "dense_3 (Dense)              (None, 10)                170       \n",
            "=================================================================\n",
            "Total params: 993,946\n",
            "Trainable params: 993,434\n",
            "Non-trainable params: 512\n",
            "_________________________________________________________________\n"
          ],
          "name": "stdout"
        }
      ]
    },
    {
      "cell_type": "code",
      "metadata": {
        "id": "ZUTOCoa89s16"
      },
      "source": [
        "model_mix.compile(loss=keras.losses.categorical_crossentropy,\n",
        "              optimizer='adam',\n",
        "              metrics=['accuracy'])"
      ],
      "execution_count": 18,
      "outputs": []
    },
    {
      "cell_type": "code",
      "metadata": {
        "id": "gGubhgmG-Wp6"
      },
      "source": [
        "iter = 50"
      ],
      "execution_count": 20,
      "outputs": []
    },
    {
      "cell_type": "code",
      "metadata": {
        "colab": {
          "base_uri": "https://localhost:8080/"
        },
        "id": "2rceX5oy9uCb",
        "outputId": "5239752d-10e7-449c-852f-b3da050c8f91"
      },
      "source": [
        "\n",
        "m=model_mix.fit(x_train, y_train,batch_size=256,epochs=iter,  verbose=1,validation_data=(x_test,y_test))"
      ],
      "execution_count": 21,
      "outputs": [
        {
          "output_type": "stream",
          "text": [
            "Epoch 1/50\n",
            "179/179 [==============================] - 149s 790ms/step - loss: 2.2007 - accuracy: 0.1737 - val_loss: 2.2701 - val_accuracy: 0.1967\n",
            "Epoch 2/50\n",
            "179/179 [==============================] - 139s 775ms/step - loss: 2.0022 - accuracy: 0.2500 - val_loss: 2.1728 - val_accuracy: 0.2544\n",
            "Epoch 3/50\n",
            "179/179 [==============================] - 141s 788ms/step - loss: 1.9229 - accuracy: 0.2711 - val_loss: 1.8531 - val_accuracy: 0.3084\n",
            "Epoch 4/50\n",
            "179/179 [==============================] - 139s 779ms/step - loss: 1.8744 - accuracy: 0.2856 - val_loss: 1.7449 - val_accuracy: 0.3388\n",
            "Epoch 5/50\n",
            "179/179 [==============================] - 140s 782ms/step - loss: 1.8087 - accuracy: 0.3220 - val_loss: 1.8329 - val_accuracy: 0.3443\n",
            "Epoch 6/50\n",
            "179/179 [==============================] - 139s 775ms/step - loss: 1.7543 - accuracy: 0.3471 - val_loss: 1.6425 - val_accuracy: 0.3818\n",
            "Epoch 7/50\n",
            "179/179 [==============================] - 138s 772ms/step - loss: 1.6783 - accuracy: 0.3729 - val_loss: 1.5478 - val_accuracy: 0.4190\n",
            "Epoch 8/50\n",
            "179/179 [==============================] - 140s 782ms/step - loss: 1.6246 - accuracy: 0.3938 - val_loss: 1.4938 - val_accuracy: 0.4512\n",
            "Epoch 9/50\n",
            "179/179 [==============================] - 140s 780ms/step - loss: 1.5595 - accuracy: 0.4282 - val_loss: 1.4425 - val_accuracy: 0.4719\n",
            "Epoch 10/50\n",
            "179/179 [==============================] - 139s 775ms/step - loss: 1.4885 - accuracy: 0.4579 - val_loss: 1.3790 - val_accuracy: 0.5014\n",
            "Epoch 11/50\n",
            "179/179 [==============================] - 140s 781ms/step - loss: 1.4440 - accuracy: 0.4800 - val_loss: 1.3390 - val_accuracy: 0.5240\n",
            "Epoch 12/50\n",
            "179/179 [==============================] - 141s 790ms/step - loss: 1.3681 - accuracy: 0.5123 - val_loss: 1.2655 - val_accuracy: 0.5521\n",
            "Epoch 13/50\n",
            "179/179 [==============================] - 140s 780ms/step - loss: 1.3239 - accuracy: 0.5382 - val_loss: 1.2537 - val_accuracy: 0.5578\n",
            "Epoch 14/50\n",
            "179/179 [==============================] - 141s 788ms/step - loss: 1.2702 - accuracy: 0.5529 - val_loss: 1.2718 - val_accuracy: 0.5662\n",
            "Epoch 15/50\n",
            "179/179 [==============================] - 140s 781ms/step - loss: 1.2122 - accuracy: 0.5760 - val_loss: 1.1301 - val_accuracy: 0.6091\n",
            "Epoch 16/50\n",
            "179/179 [==============================] - 139s 778ms/step - loss: 1.1668 - accuracy: 0.5939 - val_loss: 1.0972 - val_accuracy: 0.6240\n",
            "Epoch 17/50\n",
            "179/179 [==============================] - 139s 778ms/step - loss: 1.1235 - accuracy: 0.6099 - val_loss: 1.0582 - val_accuracy: 0.6416\n",
            "Epoch 18/50\n",
            "179/179 [==============================] - 139s 778ms/step - loss: 1.0733 - accuracy: 0.6316 - val_loss: 1.0887 - val_accuracy: 0.6372\n",
            "Epoch 19/50\n",
            "179/179 [==============================] - 140s 781ms/step - loss: 1.0494 - accuracy: 0.6425 - val_loss: 1.0848 - val_accuracy: 0.6478\n",
            "Epoch 20/50\n",
            "179/179 [==============================] - 140s 780ms/step - loss: 1.0168 - accuracy: 0.6535 - val_loss: 1.0007 - val_accuracy: 0.6736\n",
            "Epoch 21/50\n",
            "179/179 [==============================] - 140s 780ms/step - loss: 0.9753 - accuracy: 0.6719 - val_loss: 0.9885 - val_accuracy: 0.6826\n",
            "Epoch 22/50\n",
            "179/179 [==============================] - 139s 777ms/step - loss: 0.9619 - accuracy: 0.6783 - val_loss: 0.9742 - val_accuracy: 0.6830\n",
            "Epoch 23/50\n",
            "179/179 [==============================] - 139s 775ms/step - loss: 0.9280 - accuracy: 0.6857 - val_loss: 0.9670 - val_accuracy: 0.6921\n",
            "Epoch 24/50\n",
            "179/179 [==============================] - 139s 776ms/step - loss: 0.8972 - accuracy: 0.6988 - val_loss: 0.9815 - val_accuracy: 0.6919\n",
            "Epoch 25/50\n",
            "179/179 [==============================] - 139s 776ms/step - loss: 0.8624 - accuracy: 0.7151 - val_loss: 0.9684 - val_accuracy: 0.7009\n",
            "Epoch 26/50\n",
            "179/179 [==============================] - 139s 776ms/step - loss: 0.8586 - accuracy: 0.7150 - val_loss: 0.9411 - val_accuracy: 0.7164\n",
            "Epoch 27/50\n",
            "179/179 [==============================] - 139s 776ms/step - loss: 0.8159 - accuracy: 0.7291 - val_loss: 0.9189 - val_accuracy: 0.7137\n",
            "Epoch 28/50\n",
            "179/179 [==============================] - 139s 778ms/step - loss: 0.7719 - accuracy: 0.7437 - val_loss: 0.9419 - val_accuracy: 0.7217\n",
            "Epoch 29/50\n",
            "179/179 [==============================] - 139s 776ms/step - loss: 0.7619 - accuracy: 0.7508 - val_loss: 0.9121 - val_accuracy: 0.7331\n",
            "Epoch 30/50\n",
            "179/179 [==============================] - 139s 779ms/step - loss: 0.7674 - accuracy: 0.7487 - val_loss: 0.9961 - val_accuracy: 0.7265\n",
            "Epoch 31/50\n",
            "179/179 [==============================] - 140s 780ms/step - loss: 0.7375 - accuracy: 0.7590 - val_loss: 1.0053 - val_accuracy: 0.7277\n",
            "Epoch 32/50\n",
            "179/179 [==============================] - 139s 777ms/step - loss: 0.7182 - accuracy: 0.7654 - val_loss: 0.9698 - val_accuracy: 0.7355\n",
            "Epoch 33/50\n",
            "179/179 [==============================] - 139s 777ms/step - loss: 0.6768 - accuracy: 0.7799 - val_loss: 0.8871 - val_accuracy: 0.7526\n",
            "Epoch 34/50\n",
            "179/179 [==============================] - 139s 776ms/step - loss: 0.6806 - accuracy: 0.7770 - val_loss: 0.8781 - val_accuracy: 0.7578\n",
            "Epoch 35/50\n",
            "179/179 [==============================] - 139s 774ms/step - loss: 0.6667 - accuracy: 0.7858 - val_loss: 0.9056 - val_accuracy: 0.7597\n",
            "Epoch 36/50\n",
            "179/179 [==============================] - 139s 775ms/step - loss: 0.6431 - accuracy: 0.7909 - val_loss: 0.9227 - val_accuracy: 0.7603\n",
            "Epoch 37/50\n",
            "179/179 [==============================] - 142s 791ms/step - loss: 0.6382 - accuracy: 0.7939 - val_loss: 0.8648 - val_accuracy: 0.7609\n",
            "Epoch 38/50\n",
            "179/179 [==============================] - 141s 790ms/step - loss: 0.6249 - accuracy: 0.8000 - val_loss: 0.9377 - val_accuracy: 0.7635\n",
            "Epoch 39/50\n",
            "179/179 [==============================] - 141s 787ms/step - loss: 0.6189 - accuracy: 0.8013 - val_loss: 0.8970 - val_accuracy: 0.7680\n",
            "Epoch 40/50\n",
            "179/179 [==============================] - 140s 784ms/step - loss: 0.5921 - accuracy: 0.8082 - val_loss: 0.9047 - val_accuracy: 0.7831\n",
            "Epoch 41/50\n",
            "179/179 [==============================] - 140s 782ms/step - loss: 0.5814 - accuracy: 0.8159 - val_loss: 0.8471 - val_accuracy: 0.7826\n",
            "Epoch 42/50\n",
            "179/179 [==============================] - 142s 791ms/step - loss: 0.5646 - accuracy: 0.8197 - val_loss: 0.8705 - val_accuracy: 0.7767\n",
            "Epoch 43/50\n",
            "179/179 [==============================] - 140s 784ms/step - loss: 0.5460 - accuracy: 0.8267 - val_loss: 0.8508 - val_accuracy: 0.7749\n",
            "Epoch 44/50\n",
            "179/179 [==============================] - 140s 783ms/step - loss: 0.5555 - accuracy: 0.8227 - val_loss: 0.8845 - val_accuracy: 0.7842\n",
            "Epoch 45/50\n",
            "179/179 [==============================] - 140s 784ms/step - loss: 0.5419 - accuracy: 0.8295 - val_loss: 0.9784 - val_accuracy: 0.7872\n",
            "Epoch 46/50\n",
            "179/179 [==============================] - 143s 798ms/step - loss: 0.5179 - accuracy: 0.8389 - val_loss: 0.8928 - val_accuracy: 0.7892\n",
            "Epoch 47/50\n",
            "179/179 [==============================] - 142s 796ms/step - loss: 0.5105 - accuracy: 0.8379 - val_loss: 0.8345 - val_accuracy: 0.7979\n",
            "Epoch 48/50\n",
            "179/179 [==============================] - 141s 788ms/step - loss: 0.5018 - accuracy: 0.8429 - val_loss: 0.9321 - val_accuracy: 0.7914\n",
            "Epoch 49/50\n",
            "179/179 [==============================] - 140s 781ms/step - loss: 0.4932 - accuracy: 0.8470 - val_loss: 0.8948 - val_accuracy: 0.8025\n",
            "Epoch 50/50\n",
            "179/179 [==============================] - 142s 792ms/step - loss: 0.4887 - accuracy: 0.8482 - val_loss: 0.8836 - val_accuracy: 0.8074\n"
          ],
          "name": "stdout"
        }
      ]
    },
    {
      "cell_type": "code",
      "metadata": {
        "id": "ofjfReCD-apy",
        "colab": {
          "base_uri": "https://localhost:8080/"
        },
        "outputId": "bddda919-96ee-4dd6-be3f-8d9b8c007e3f"
      },
      "source": [
        "model_score = model_mix.evaluate(x_test, y_test, verbose=1)\n",
        "print('Test loss:', model_score[0])\n",
        "print('Test accuracy:', model_score[1])"
      ],
      "execution_count": 22,
      "outputs": [
        {
          "output_type": "stream",
          "text": [
            "357/357 [==============================] - 16s 46ms/step - loss: 0.8836 - accuracy: 0.8074\n",
            "Test loss: 0.8836345672607422\n",
            "Test accuracy: 0.8073723912239075\n"
          ],
          "name": "stdout"
        }
      ]
    },
    {
      "cell_type": "code",
      "metadata": {
        "colab": {
          "base_uri": "https://localhost:8080/"
        },
        "id": "TCbdo4ue-3Wx",
        "outputId": "5eb0aabf-9aec-484d-f58d-74ae73fdd208"
      },
      "source": [
        "# list all data in history\n",
        "print(m.history.keys())\n",
        "import matplotlib.pyplot as plt\n",
        "import numpy\n"
      ],
      "execution_count": 24,
      "outputs": [
        {
          "output_type": "stream",
          "text": [
            "dict_keys(['loss', 'accuracy', 'val_loss', 'val_accuracy'])\n"
          ],
          "name": "stdout"
        }
      ]
    },
    {
      "cell_type": "code",
      "metadata": {
        "colab": {
          "base_uri": "https://localhost:8080/",
          "height": 295
        },
        "id": "xCKAvMHW-47t",
        "outputId": "8fe78494-215a-4f8a-b41d-05858dcf6d0d"
      },
      "source": [
        "# summarize history for accuracy\n",
        "plt.plot(m.history['accuracy'])\n",
        "plt.plot(m.history['val_accuracy'])\n",
        "plt.title('model accuracy')\n",
        "plt.ylabel('accuracy')\n",
        "plt.xlabel('epoch')\n",
        "plt.legend(['train', 'test'], loc='upper left')\n",
        "plt.show()"
      ],
      "execution_count": 25,
      "outputs": [
        {
          "output_type": "display_data",
          "data": {
            "image/png": "[encoded data removed]",
            "text/plain": [
              "<Figure size 432x288 with 1 Axes>"
            ]
          },
          "metadata": {
            "tags": [],
            "needs_background": "light"
          }
        }
      ]
    },
    {
      "cell_type": "code",
      "metadata": {
        "colab": {
          "base_uri": "https://localhost:8080/",
          "height": 295
        },
        "id": "Sy62Y140-6Pi",
        "outputId": "04e906a2-b3cd-4941-9de0-ac3e6442799e"
      },
      "source": [
        "# summarize history for loss\n",
        "plt.plot(m.history['loss'])\n",
        "plt.plot(m.history['val_loss'])\n",
        "plt.title('model loss')\n",
        "plt.ylabel('loss')\n",
        "plt.xlabel('epoch')\n",
        "plt.legend(['train', 'test'], loc='upper left')\n",
        "plt.show()"
      ],
      "execution_count": 26,
      "outputs": [
        {
          "output_type": "display_data",
          "data": {
            "image/png": "[encoded data removed]",
            "text/plain": [
              "<Figure size 432x288 with 1 Axes>"
            ]
          },
          "metadata": {
            "tags": [],
            "needs_background": "light"
          }
        }
      ]
    },
    {
      "cell_type": "code",
      "metadata": {
        "colab": {
          "base_uri": "https://localhost:8080/",
          "height": 295
        },
        "id": "KtVO7OGx-7r3",
        "outputId": "8d97261e-186e-4102-9c86-beaa2b46d815"
      },
      "source": [
        "plt.plot(m.history['val_accuracy'])\n",
        "plt.plot(m.history['val_loss'])\n",
        "plt.title('test model')\n",
        "plt.ylabel('test accuracy')\n",
        "plt.xlabel('test loss')\n",
        "plt.show()"
      ],
      "execution_count": 27,
      "outputs": [
        {
          "output_type": "display_data",
          "data": {
            "image/png": "[encoded data removed]",
            "text/plain": [
              "<Figure size 432x288 with 1 Axes>"
            ]
          },
          "metadata": {
            "tags": [],
            "needs_background": "light"
          }
        }
      ]
    },
    {
      "cell_type": "code",
      "metadata": {
        "id": "kdSmUfnk-89M"
      },
      "source": [
        "y_pred=model_mix.predict(x_test)\n",
        "from sklearn.metrics import confusion_matrix\n",
        "import numpy as np"
      ],
      "execution_count": 28,
      "outputs": []
    },
    {
      "cell_type": "code",
      "metadata": {
        "colab": {
          "base_uri": "https://localhost:8080/",
          "height": 599
        },
        "id": "dVRPjBaq_EJW",
        "outputId": "2bdf8169-15bf-427f-b5a2-d96bab46307e"
      },
      "source": [
        "y_test[1]\n",
        "y_pred[1]\n",
        "y_test1=np.argmax(y_test, axis=1)\n",
        "y_pred=np.argmax(y_pred,axis=1)\n",
        "cmatrix=confusion_matrix(y_test1, y_pred)\n",
        "import seaborn as sns\n",
        "figure = plt.figure(figsize=(8, 8))\n",
        "sns.heatmap(cmatrix, annot=True,cmap=plt.cm.Blues)\n",
        "plt.tight_layout()\n",
        "plt.ylabel('True label')\n",
        "plt.xlabel('Predicted label')\n",
        "plt.show()"
      ],
      "execution_count": 29,
      "outputs": [
        {
          "output_type": "display_data",
          "data": {
            "image/png": "[encoded data removed]",
            "text/plain": [
              "<Figure size 576x576 with 2 Axes>"
            ]
          },
          "metadata": {
            "tags": [],
            "needs_background": "light"
          }
        }
      ]
    },
    {
      "cell_type": "markdown",
      "metadata": {
        "id": "dgYqSAWZCSJp"
      },
      "source": [
        "# ROC Curve"
      ]
    },
    {
      "cell_type": "code",
      "metadata": {
        "id": "gUb1F2mxPMoJ"
      },
      "source": [
        "import numpy as np\n",
        "import matplotlib.pyplot as plt\n",
        "from itertools import cycle\n",
        "\n",
        "from sklearn import svm, datasets\n",
        "from sklearn.metrics import roc_curve, auc\n",
        "from sklearn.model_selection import train_test_split\n",
        "from sklearn.preprocessing import label_binarize\n",
        "from sklearn.multiclass import OneVsRestClassifier\n",
        "from scipy import interp\n",
        "from sklearn.metrics import roc_auc_score"
      ],
      "execution_count": 30,
      "outputs": []
    },
    {
      "cell_type": "code",
      "metadata": {
        "colab": {
          "base_uri": "https://localhost:8080/"
        },
        "id": "cYoid7EhNiRg",
        "outputId": "123a6955-98b1-49a5-a411-88fb4f6803fc"
      },
      "source": [
        "# make probability predictions with the model\n",
        "predictions = model_mix.predict(x_test)\n",
        "# round predictions \n",
        "rounded = [round(x[0]) for x in predictions]\n",
        "rounded = np.array(rounded)\n",
        "rounded.shape"
      ],
      "execution_count": 31,
      "outputs": [
        {
          "output_type": "execute_result",
          "data": {
            "text/plain": [
              "(11421,)"
            ]
          },
          "metadata": {
            "tags": []
          },
          "execution_count": 31
        }
      ]
    },
    {
      "cell_type": "code",
      "metadata": {
        "id": "Mk2twYtJNjR0"
      },
      "source": [
        "# make class predictions with the model\n",
        "predictions = model_mix.predict_classes(x_test)"
      ],
      "execution_count": 32,
      "outputs": []
    },
    {
      "cell_type": "code",
      "metadata": {
        "colab": {
          "base_uri": "https://localhost:8080/"
        },
        "id": "3wIC8Qd7NlMW",
        "outputId": "6bfa9abd-4d28-471e-ca66-eae4b3e20547"
      },
      "source": [
        "temp = label_binarize(predictions,classes = [0,1,2,3,4,5,6,7,8,9] )\n",
        "temp\n",
        "temp1 = label_binarize(y_test,classes = [0,1,2,3,4,5,6,7,8,9] )\n",
        "temp1"
      ],
      "execution_count": 33,
      "outputs": [
        {
          "output_type": "execute_result",
          "data": {
            "text/plain": [
              "array([[0, 0, 0, ..., 0, 0, 0],\n",
              "       [0, 0, 0, ..., 0, 0, 0],\n",
              "       [0, 0, 0, ..., 0, 0, 0],\n",
              "       ...,\n",
              "       [0, 0, 1, ..., 0, 0, 0],\n",
              "       [0, 0, 1, ..., 0, 0, 0],\n",
              "       [0, 0, 1, ..., 0, 0, 0]])"
            ]
          },
          "metadata": {
            "tags": []
          },
          "execution_count": 33
        }
      ]
    },
    {
      "cell_type": "code",
      "metadata": {
        "id": "PhUXy9D-NnmP"
      },
      "source": [
        "\n"
      ],
      "execution_count": 33,
      "outputs": []
    },
    {
      "cell_type": "code",
      "metadata": {
        "id": "WmItkEGINqfX"
      },
      "source": [
        "false_pr = dict()\n",
        "true_pr = dict()\n",
        "roc_auc = dict()\n",
        "for i in range(classes-1):\n",
        "    false_pr[i], true_pr[i], _ = roc_curve(temp1[:, i], temp[:, i])\n",
        "    roc_auc[i] = auc(false_pr[i], true_pr[i])\n",
        "\n",
        "false_pr[\"micro\"], true_pr[\"micro\"], _ = roc_curve(temp1.ravel(), temp.ravel())\n",
        "roc_auc[\"micro\"] = auc(false_pr[\"micro\"], true_pr[\"micro\"])"
      ],
      "execution_count": 34,
      "outputs": []
    },
    {
      "cell_type": "code",
      "metadata": {
        "id": "avWhkUrWNyAG"
      },
      "source": [
        "classes = classes  -1\n",
        "lw = 2"
      ],
      "execution_count": 35,
      "outputs": []
    },
    {
      "cell_type": "code",
      "metadata": {
        "colab": {
          "base_uri": "https://localhost:8080/",
          "height": 295
        },
        "id": "mskFQBdhN0Wh",
        "outputId": "e62a7315-30a5-4c03-9018-7b2557b1c17d"
      },
      "source": [
        "combined_fpr = np.unique(np.concatenate([false_pr[i] for i in range(classes)]))\n",
        "\n",
        "# Then interpolate all ROC curves at this points\n",
        "average_tpr = np.zeros_like(combined_fpr)\n",
        "for i in range(classes):\n",
        "    average_tpr += interp(combined_fpr, false_pr[i], true_pr[i])\n",
        "\n",
        "average_tpr /= (classes)\n",
        "\n",
        "false_pr[\"macro\"] = combined_fpr\n",
        "true_pr[\"macro\"] = average_tpr\n",
        "roc_auc[\"macro\"] = auc(false_pr[\"macro\"], true_pr[\"macro\"])\n",
        "\n",
        "# Plot all ROC curves\n",
        "plt.figure()\n",
        "plt.plot(false_pr[\"micro\"], true_pr[\"micro\"],\n",
        "         label='micro-average (area = {0:0.2f})'\n",
        "               ''.format(roc_auc[\"micro\"]),\n",
        "         color='deeppink', linestyle=':', linewidth=4)\n",
        "\n",
        "plt.plot(false_pr[\"macro\"], true_pr[\"macro\"],\n",
        "         label='macro-average(area = {0:0.2f})'\n",
        "               ''.format(roc_auc[\"macro\"]),\n",
        "         color='navy', linestyle=':', linewidth=4)\n",
        "\n",
        "colors = cycle(['aqua', 'darkorange', 'cornflowerblue'])\n",
        "for i, color in zip(range(classes), colors):\n",
        "    plt.plot(false_pr[i], true_pr[i], color=color, lw=lw,\n",
        "             label='ROC curve of class {0} (area = {1:0.2f})'\n",
        "             ''.format(i, roc_auc[i]))\n",
        "\n",
        "plt.plot([0, 1], [0, 1], 'k--', lw=lw)\n",
        "plt.xlim([0.0, 1.0])\n",
        "plt.ylim([0.0, 1.05])\n",
        "plt.xlabel('False Positive Rate')\n",
        "plt.ylabel('True Positive Rate')\n",
        "plt.title('Multi-class ROC')\n",
        "plt.legend(loc=\"lower right\")\n",
        "plt.show()"
      ],
      "execution_count": 36,
      "outputs": [
        {
          "output_type": "display_data",
          "data": {
            "image/png": "[encoded data removed]",
            "text/plain": [
              "<Figure size 432x288 with 1 Axes>"
            ]
          },
          "metadata": {
            "tags": [],
            "needs_background": "light"
          }
        }
      ]
    },
    {
      "cell_type": "code",
      "metadata": {
        "colab": {
          "base_uri": "https://localhost:8080/"
        },
        "id": "TJg4ErmdN383",
        "outputId": "1661c96a-55dd-46f1-b96f-e47541903856"
      },
      "source": [
        "cm = cmatrix\n",
        "cm"
      ],
      "execution_count": 37,
      "outputs": [
        {
          "output_type": "execute_result",
          "data": {
            "text/plain": [
              "array([[1446,   35,   63,   39,   52,   13,    9,   28,   75],\n",
              "       [  33, 1670,   54,   39,   24,   61,   23,   24,   21],\n",
              "       [  34,   35, 1613,   46,   70,   19,   13,   13,   13],\n",
              "       [  22,   48,   58, 1010,   21,   22,   22,   23,   43],\n",
              "       [  59,   25,   47,   20,  983,   76,   11,   18,   30],\n",
              "       [  15,   44,   26,   14,   53,  870,   13,   12,   28],\n",
              "       [  10,   27,   20,   19,   15,   44,  465,   30,   54],\n",
              "       [  35,   20,   13,   19,   12,   23,   68,  523,   67],\n",
              "       [  24,    6,    2,   15,    7,    3,   46,   35,  641]])"
            ]
          },
          "metadata": {
            "tags": []
          },
          "execution_count": 37
        }
      ]
    },
    {
      "cell_type": "code",
      "metadata": {
        "id": "Y8h8Ae82N5si"
      },
      "source": [
        "recall = np.diag(cm) / np.sum(cm, axis = 1)\n",
        "precision = np.diag(cm) / np.sum(cm, axis = 0)"
      ],
      "execution_count": 38,
      "outputs": []
    },
    {
      "cell_type": "code",
      "metadata": {
        "colab": {
          "base_uri": "https://localhost:8080/"
        },
        "id": "I0lqzoHhN6MQ",
        "outputId": "7d09645f-fd66-4b8e-9096-765352e635c9"
      },
      "source": [
        "print(\"Recall\",np.nanmean(recall))\n",
        "print(\"precision\",np.nanmean(precision))"
      ],
      "execution_count": 40,
      "outputs": [
        {
          "output_type": "stream",
          "text": [
            "Recall 0.7889479267972309\n",
            "precision 0.7857998103354055\n"
          ],
          "name": "stdout"
        }
      ]
    },
    {
      "cell_type": "code",
      "metadata": {
        "id": "UaII3YeyOOVg"
      },
      "source": [
        ""
      ],
      "execution_count": 39,
      "outputs": []
    }
  ]
}