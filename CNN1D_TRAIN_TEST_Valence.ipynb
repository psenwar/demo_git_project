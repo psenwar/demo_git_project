{
  "nbformat": 4,
  "nbformat_minor": 0,
  "metadata": {
    "colab": {
      "name": "Valence - CNN1D_TRAIN_TEST.ipynb",
      "provenance": [],
      "collapsed_sections": []
    },
    "kernelspec": {
      "name": "python3",
      "display_name": "Python 3"
    },
    "language_info": {
      "name": "python"
    },
    "accelerator": "TPU"
  },
  "cells": [
    {
      "cell_type": "code",
      "metadata": {
        "colab": {
          "base_uri": "https://localhost:8080/"
        },
        "id": "hMEJnaiM8LRF",
        "outputId": "9b1e9734-1224-4761-a875-dfe5b4295cae"
      },
      "source": [
        "!pip install git+https://github.com/forrestbao/pyeeg.git\n",
        "\n",
        "import pandas as pd\n",
        "import keras.backend as K\n",
        "import numpy as np\n",
        "import pandas as pd\n",
        "import pyeeg as pe\n",
        "import pickle as pickle\n",
        "import math\n",
        "from sklearn import svm\n",
        "from sklearn.preprocessing import normalize\n",
        "\n",
        "import os\n",
        "import time"
      ],
      "execution_count": 1,
      "outputs": [
        {
          "output_type": "stream",
          "text": [
            "Collecting git+https://github.com/forrestbao/pyeeg.git\n",
            "  Cloning https://github.com/forrestbao/pyeeg.git to /tmp/pip-req-build-s5k89y_4\n",
            "  Running command git clone -q https://github.com/forrestbao/pyeeg.git /tmp/pip-req-build-s5k89y_4\n",
            "Requirement already satisfied: numpy>=1.9.2 in /usr/local/lib/python3.7/dist-packages (from pyeeg==0.4.4) (1.19.5)\n",
            "Building wheels for collected packages: pyeeg\n",
            "  Building wheel for pyeeg (setup.py) ... \u001b[?25l\u001b[?25hdone\n",
            "  Created wheel for pyeeg: filename=pyeeg-0.4.4-py2.py3-none-any.whl size=28123 sha256=7a0e41f64fe053fb7f1fd8101414242d867b84ad1d3c9433760e96866b046b9f\n",
            "  Stored in directory: /tmp/pip-ephem-wheel-cache-rpftypat/wheels/2d/3f/ad/106d4fc80b61d1ea1fc18e76e7439fd98aa043d83d58eae741\n",
            "Successfully built pyeeg\n",
            "Installing collected packages: pyeeg\n",
            "Successfully installed pyeeg-0.4.4\n"
          ],
          "name": "stdout"
        }
      ]
    },
    {
      "cell_type": "code",
      "metadata": {
        "id": "_K3yZGPP8plq"
      },
      "source": [
        "import keras\n",
        "from keras.models import Sequential\n",
        "from keras.layers import Dense, Dropout, Flatten\n",
        "from keras.layers.convolutional import Convolution1D, MaxPooling1D, ZeroPadding1D,Conv1D\n",
        "from keras.models import Sequential\n",
        "from keras.utils import to_categorical \n",
        "\n",
        "from keras.models import Model\n",
        "import timeit\n",
        "from keras.optimizers import SGD\n",
        "\n",
        "import warnings\n",
        "warnings.filterwarnings('ignore')"
      ],
      "execution_count": 2,
      "outputs": []
    },
    {
      "cell_type": "code",
      "metadata": {
        "colab": {
          "base_uri": "https://localhost:8080/"
        },
        "id": "meCnfLQI8j5t",
        "outputId": "9d464f11-3e5d-45fe-a2a8-ad116b969fae"
      },
      "source": [
        "from google.colab import drive\n",
        "drive.mount('/content/drive/')"
      ],
      "execution_count": 3,
      "outputs": [
        {
          "output_type": "stream",
          "text": [
            "Mounted at /content/drive/\n"
          ],
          "name": "stdout"
        }
      ]
    },
    {
      "cell_type": "markdown",
      "metadata": {
        "id": "n3AnkWZYmxdQ"
      },
      "source": [
        "# Getting data "
      ]
    },
    {
      "cell_type": "code",
      "metadata": {
        "id": "zOEOQSX997zs"
      },
      "source": [
        "with open('/content/drive/MyDrive/Colab Notebooks/DEAP  - saved/data_training.npy', 'rb') as fileX_training:\n",
        "    X_train  = np.load(fileX_training)\n",
        "    \n",
        "with open('/content/drive/MyDrive/Colab Notebooks/DEAP  - saved/label_training.npy', 'rb') as fileY_training:\n",
        "    Y_train  = np.load(fileY_training)   "
      ],
      "execution_count": 4,
      "outputs": []
    },
    {
      "cell_type": "code",
      "metadata": {
        "id": "NT51ekSeA5AI"
      },
      "source": [
        "X_train = normalize(X_train)\n",
        "Z_train = np.ravel(Y_train[:, [1]])  # valence\n",
        "#labels\n",
        "train_arousal = np.ravel(Y_train[:, [0]])\n",
        "train_valence = np.ravel(Y_train[:, [1]])\n",
        "train_dominance = np.ravel(Y_train[:, [2]])\n",
        "train_liking = np.ravel(Y_train[:, [3]])"
      ],
      "execution_count": 8,
      "outputs": []
    },
    {
      "cell_type": "code",
      "metadata": {
        "id": "4EzCRkCO98Qy"
      },
      "source": [
        "from keras.utils import to_categorical\n",
        "y_train = to_categorical(Z_train)\n",
        "x_train = np.array(X_train[:])"
      ],
      "execution_count": 9,
      "outputs": []
    },
    {
      "cell_type": "code",
      "metadata": {
        "id": "zCvT3HHF8mJt"
      },
      "source": [
        "\n",
        "with open('/content/drive/MyDrive/Colab Notebooks/DEAP  - saved/data_testing.npy', 'rb') as fileX_training:\n",
        "    X_test  = np.load(fileX_training)\n",
        "    \n",
        "with open('/content/drive/MyDrive/Colab Notebooks/DEAP  - saved/label_testing.npy', 'rb') as fileY_training:\n",
        "    Y_test  = np.load(fileY_training)\n"
      ],
      "execution_count": 10,
      "outputs": []
    },
    {
      "cell_type": "code",
      "metadata": {
        "id": "sIXhr46gA8UW"
      },
      "source": [
        "X_test = normalize(X_test)\n",
        "Z_test = np.ravel(Y_test[:, [1]])  # valence\n",
        "\n",
        "test_arousal = np.ravel(Y_test[:, [0]])\n",
        "test_valence = np.ravel(Y_test[:, [1]])\n",
        "test_dominance = np.ravel(Y_test[:, [2]])\n",
        "test_liking = np.ravel(Y_test[:, [3]])"
      ],
      "execution_count": 11,
      "outputs": []
    },
    {
      "cell_type": "code",
      "metadata": {
        "id": "qQvCFUD59TRn"
      },
      "source": [
        "x_test = np.array(X_test[:])"
      ],
      "execution_count": 12,
      "outputs": []
    },
    {
      "cell_type": "code",
      "metadata": {
        "colab": {
          "base_uri": "https://localhost:8080/"
        },
        "id": "k5suXVhN9UsL",
        "outputId": "f83e773c-8c1b-4008-c931-017473d5766e"
      },
      "source": [
        "from keras.utils import to_categorical\n",
        "y_test = to_categorical(Z_test)\n",
        "y_test"
      ],
      "execution_count": 13,
      "outputs": [
        {
          "output_type": "execute_result",
          "data": {
            "text/plain": [
              "array([[0., 0., 0., ..., 0., 0., 0.],\n",
              "       [0., 0., 0., ..., 0., 0., 0.],\n",
              "       [0., 0., 0., ..., 0., 0., 0.],\n",
              "       ...,\n",
              "       [0., 0., 1., ..., 0., 0., 0.],\n",
              "       [0., 0., 1., ..., 0., 0., 0.],\n",
              "       [0., 0., 1., ..., 0., 0., 0.]], dtype=float32)"
            ]
          },
          "metadata": {
            "tags": []
          },
          "execution_count": 13
        }
      ]
    },
    {
      "cell_type": "code",
      "metadata": {
        "id": "WvQGHIGo9X5V"
      },
      "source": [
        "from sklearn.preprocessing import StandardScaler\n",
        "temp = StandardScaler()\n",
        "x_train = temp.fit_transform(x_train)\n",
        "x_test = temp.fit_transform(x_test)"
      ],
      "execution_count": 14,
      "outputs": []
    },
    {
      "cell_type": "markdown",
      "metadata": {
        "id": "KHOBMzAUmLwc"
      },
      "source": [
        "# CNN1D Model"
      ]
    },
    {
      "cell_type": "code",
      "metadata": {
        "colab": {
          "base_uri": "https://localhost:8080/"
        },
        "id": "WUo3Q5gL9ZWs",
        "outputId": "e455be9d-7720-493a-99a6-a9cbe4fde96e"
      },
      "source": [
        "x_train = x_train.reshape(x_train.shape[0],x_train.shape[1], 1)\n",
        "x_test = x_test.reshape(x_test.shape[0],x_test.shape[1], 1)\n",
        "x_train.shape\n",
        "classes = 10\n",
        "\n",
        "input_shape=(x_train.shape[1], 1)\n",
        "print(input_shape)\n",
        "\n",
        "from keras.layers import Convolution1D, ZeroPadding1D, MaxPooling1D, BatchNormalization, Activation, Dropout, Flatten, Dense\n",
        "from keras.regularizers import l2\n",
        "\n",
        "model_CNN1d = Sequential()\n",
        "intput_shape=(x_train.shape[1], 1)\n",
        "model_CNN1d.add(Conv1D(256, kernel_size=3,padding = 'same',activation='relu', input_shape=input_shape))\n",
        "model_CNN1d.add(BatchNormalization())\n",
        "model_CNN1d.add(MaxPooling1D(pool_size=(2)))\n",
        "model_CNN1d.add(Conv1D(128,kernel_size=3,padding = 'same', activation='relu'))\n",
        "model_CNN1d.add(BatchNormalization())\n",
        "model_CNN1d.add(MaxPooling1D(pool_size=(2)))\n",
        "model_CNN1d.add(Conv1D(64,kernel_size=3,padding = 'same', activation='relu'))\n",
        "model_CNN1d.add(MaxPooling1D(pool_size=(2)))\n",
        "model_CNN1d.add(Flatten())\n",
        "model_CNN1d.add(Dense(64, activation='relu'))\n",
        "model_CNN1d.add(Dropout(0.5))\n",
        "model_CNN1d.add(Dense(32, activation='relu'))\n",
        "model_CNN1d.add(Dropout(0.4))\n",
        "model_CNN1d.add(Dense(16, activation='relu'))\n",
        "model_CNN1d.add(Dropout(0.2))\n",
        "model_CNN1d.add(Dense(classes, activation='softmax'))\n",
        "model_CNN1d.summary()\n",
        "\n"
      ],
      "execution_count": 15,
      "outputs": [
        {
          "output_type": "stream",
          "text": [
            "(70, 1)\n",
            "Model: \"sequential\"\n",
            "_________________________________________________________________\n",
            "Layer (type)                 Output Shape              Param #   \n",
            "=================================================================\n",
            "conv1d (Conv1D)              (None, 70, 256)           1024      \n",
            "_________________________________________________________________\n",
            "batch_normalization (BatchNo (None, 70, 256)           1024      \n",
            "_________________________________________________________________\n",
            "max_pooling1d (MaxPooling1D) (None, 35, 256)           0         \n",
            "_________________________________________________________________\n",
            "conv1d_1 (Conv1D)            (None, 35, 128)           98432     \n",
            "_________________________________________________________________\n",
            "batch_normalization_1 (Batch (None, 35, 128)           512       \n",
            "_________________________________________________________________\n",
            "max_pooling1d_1 (MaxPooling1 (None, 17, 128)           0         \n",
            "_________________________________________________________________\n",
            "conv1d_2 (Conv1D)            (None, 17, 64)            24640     \n",
            "_________________________________________________________________\n",
            "max_pooling1d_2 (MaxPooling1 (None, 8, 64)             0         \n",
            "_________________________________________________________________\n",
            "flatten (Flatten)            (None, 512)               0         \n",
            "_________________________________________________________________\n",
            "dense (Dense)                (None, 64)                32832     \n",
            "_________________________________________________________________\n",
            "dropout (Dropout)            (None, 64)                0         \n",
            "_________________________________________________________________\n",
            "dense_1 (Dense)              (None, 32)                2080      \n",
            "_________________________________________________________________\n",
            "dropout_1 (Dropout)          (None, 32)                0         \n",
            "_________________________________________________________________\n",
            "dense_2 (Dense)              (None, 16)                528       \n",
            "_________________________________________________________________\n",
            "dropout_2 (Dropout)          (None, 16)                0         \n",
            "_________________________________________________________________\n",
            "dense_3 (Dense)              (None, 10)                170       \n",
            "=================================================================\n",
            "Total params: 161,242\n",
            "Trainable params: 160,474\n",
            "Non-trainable params: 768\n",
            "_________________________________________________________________\n"
          ],
          "name": "stdout"
        }
      ]
    },
    {
      "cell_type": "code",
      "metadata": {
        "id": "ZUTOCoa89s16"
      },
      "source": [
        "model_CNN1d.compile(loss=keras.losses.categorical_crossentropy,optimizer='adam',metrics=['accuracy'])\n",
        "\n"
      ],
      "execution_count": 16,
      "outputs": []
    },
    {
      "cell_type": "markdown",
      "metadata": {
        "id": "5hIZ8lA8mSrk"
      },
      "source": [
        "# Training and Testing Model"
      ]
    },
    {
      "cell_type": "code",
      "metadata": {
        "id": "gGubhgmG-Wp6"
      },
      "source": [
        "iter = 100"
      ],
      "execution_count": 17,
      "outputs": []
    },
    {
      "cell_type": "code",
      "metadata": {
        "colab": {
          "base_uri": "https://localhost:8080/"
        },
        "id": "2rceX5oy9uCb",
        "outputId": "3f67b0bc-3042-4a9f-c6f7-56ead00e879f"
      },
      "source": [
        "\n",
        "grpah_model=model_CNN1d.fit(x_train, y_train,batch_size=256,epochs=iter,  verbose=1,validation_data=(x_test,y_test))"
      ],
      "execution_count": 18,
      "outputs": [
        {
          "output_type": "stream",
          "text": [
            "Epoch 1/100\n",
            "179/179 [==============================] - 53s 287ms/step - loss: 2.2106 - accuracy: 0.1741 - val_loss: 2.1284 - val_accuracy: 0.1707\n",
            "Epoch 2/100\n",
            "179/179 [==============================] - 51s 282ms/step - loss: 2.0413 - accuracy: 0.2418 - val_loss: 2.0199 - val_accuracy: 0.2763\n",
            "Epoch 3/100\n",
            "179/179 [==============================] - 51s 283ms/step - loss: 1.9939 - accuracy: 0.2462 - val_loss: 1.9295 - val_accuracy: 0.2821\n",
            "Epoch 4/100\n",
            "179/179 [==============================] - 50s 282ms/step - loss: 1.9439 - accuracy: 0.2593 - val_loss: 1.8663 - val_accuracy: 0.2928\n",
            "Epoch 5/100\n",
            "179/179 [==============================] - 50s 282ms/step - loss: 1.9205 - accuracy: 0.2596 - val_loss: 1.8383 - val_accuracy: 0.2960\n",
            "Epoch 6/100\n",
            "179/179 [==============================] - 51s 283ms/step - loss: 1.8964 - accuracy: 0.2728 - val_loss: 1.8217 - val_accuracy: 0.3080\n",
            "Epoch 7/100\n",
            "179/179 [==============================] - 51s 286ms/step - loss: 1.8741 - accuracy: 0.2786 - val_loss: 1.8013 - val_accuracy: 0.3163\n",
            "Epoch 8/100\n",
            "179/179 [==============================] - 51s 283ms/step - loss: 1.8577 - accuracy: 0.2865 - val_loss: 1.7804 - val_accuracy: 0.3248\n",
            "Epoch 9/100\n",
            "179/179 [==============================] - 51s 283ms/step - loss: 1.8434 - accuracy: 0.2848 - val_loss: 1.7455 - val_accuracy: 0.3294\n",
            "Epoch 10/100\n",
            "179/179 [==============================] - 51s 284ms/step - loss: 1.8180 - accuracy: 0.2999 - val_loss: 1.7396 - val_accuracy: 0.3383\n",
            "Epoch 11/100\n",
            "179/179 [==============================] - 50s 282ms/step - loss: 1.8012 - accuracy: 0.3043 - val_loss: 1.7041 - val_accuracy: 0.3441\n",
            "Epoch 12/100\n",
            "179/179 [==============================] - 51s 284ms/step - loss: 1.7822 - accuracy: 0.3104 - val_loss: 1.6828 - val_accuracy: 0.3554\n",
            "Epoch 13/100\n",
            "179/179 [==============================] - 50s 280ms/step - loss: 1.7644 - accuracy: 0.3194 - val_loss: 1.6565 - val_accuracy: 0.3714\n",
            "Epoch 14/100\n",
            "179/179 [==============================] - 50s 280ms/step - loss: 1.7450 - accuracy: 0.3286 - val_loss: 1.6388 - val_accuracy: 0.3801\n",
            "Epoch 15/100\n",
            "179/179 [==============================] - 50s 278ms/step - loss: 1.7323 - accuracy: 0.3327 - val_loss: 1.6081 - val_accuracy: 0.3885\n",
            "Epoch 16/100\n",
            "179/179 [==============================] - 50s 281ms/step - loss: 1.7047 - accuracy: 0.3470 - val_loss: 1.5967 - val_accuracy: 0.4042\n",
            "Epoch 17/100\n",
            "179/179 [==============================] - 50s 280ms/step - loss: 1.6809 - accuracy: 0.3543 - val_loss: 1.5669 - val_accuracy: 0.4053\n",
            "Epoch 18/100\n",
            "179/179 [==============================] - 50s 281ms/step - loss: 1.6716 - accuracy: 0.3609 - val_loss: 1.5832 - val_accuracy: 0.4036\n",
            "Epoch 19/100\n",
            "179/179 [==============================] - 51s 285ms/step - loss: 1.6490 - accuracy: 0.3682 - val_loss: 1.5352 - val_accuracy: 0.4319\n",
            "Epoch 20/100\n",
            "179/179 [==============================] - 51s 284ms/step - loss: 1.6328 - accuracy: 0.3747 - val_loss: 1.5303 - val_accuracy: 0.4331\n",
            "Epoch 21/100\n",
            "179/179 [==============================] - 50s 281ms/step - loss: 1.6109 - accuracy: 0.3867 - val_loss: 1.5046 - val_accuracy: 0.4370\n",
            "Epoch 22/100\n",
            "179/179 [==============================] - 51s 283ms/step - loss: 1.6031 - accuracy: 0.3880 - val_loss: 1.4836 - val_accuracy: 0.4558\n",
            "Epoch 23/100\n",
            "179/179 [==============================] - 50s 281ms/step - loss: 1.5862 - accuracy: 0.3938 - val_loss: 1.4980 - val_accuracy: 0.4465\n",
            "Epoch 24/100\n",
            "179/179 [==============================] - 50s 281ms/step - loss: 1.5638 - accuracy: 0.4050 - val_loss: 1.4593 - val_accuracy: 0.4654\n",
            "Epoch 25/100\n",
            "179/179 [==============================] - 50s 281ms/step - loss: 1.5472 - accuracy: 0.4098 - val_loss: 1.4527 - val_accuracy: 0.4644\n",
            "Epoch 26/100\n",
            "179/179 [==============================] - 51s 284ms/step - loss: 1.5353 - accuracy: 0.4148 - val_loss: 1.4177 - val_accuracy: 0.4810\n",
            "Epoch 27/100\n",
            "179/179 [==============================] - 50s 282ms/step - loss: 1.5195 - accuracy: 0.4233 - val_loss: 1.4172 - val_accuracy: 0.4838\n",
            "Epoch 28/100\n",
            "179/179 [==============================] - 50s 281ms/step - loss: 1.5009 - accuracy: 0.4309 - val_loss: 1.4202 - val_accuracy: 0.4863\n",
            "Epoch 29/100\n",
            "179/179 [==============================] - 50s 281ms/step - loss: 1.4803 - accuracy: 0.4402 - val_loss: 1.3945 - val_accuracy: 0.4917\n",
            "Epoch 30/100\n",
            "179/179 [==============================] - 50s 282ms/step - loss: 1.4676 - accuracy: 0.4486 - val_loss: 1.3831 - val_accuracy: 0.5043\n",
            "Epoch 31/100\n",
            "179/179 [==============================] - 51s 283ms/step - loss: 1.4647 - accuracy: 0.4462 - val_loss: 1.3864 - val_accuracy: 0.4968\n",
            "Epoch 32/100\n",
            "179/179 [==============================] - 51s 283ms/step - loss: 1.4672 - accuracy: 0.4446 - val_loss: 1.3690 - val_accuracy: 0.5099\n",
            "Epoch 33/100\n",
            "179/179 [==============================] - 51s 283ms/step - loss: 1.4408 - accuracy: 0.4572 - val_loss: 1.3575 - val_accuracy: 0.5127\n",
            "Epoch 34/100\n",
            "179/179 [==============================] - 51s 284ms/step - loss: 1.4372 - accuracy: 0.4592 - val_loss: 1.3679 - val_accuracy: 0.5104\n",
            "Epoch 35/100\n",
            "179/179 [==============================] - 51s 286ms/step - loss: 1.4251 - accuracy: 0.4625 - val_loss: 1.3456 - val_accuracy: 0.5192\n",
            "Epoch 36/100\n",
            "179/179 [==============================] - 51s 285ms/step - loss: 1.4081 - accuracy: 0.4710 - val_loss: 1.3650 - val_accuracy: 0.5155\n",
            "Epoch 37/100\n",
            "179/179 [==============================] - 51s 283ms/step - loss: 1.3985 - accuracy: 0.4741 - val_loss: 1.3286 - val_accuracy: 0.5198\n",
            "Epoch 38/100\n",
            "179/179 [==============================] - 51s 285ms/step - loss: 1.3941 - accuracy: 0.4760 - val_loss: 1.3089 - val_accuracy: 0.5369\n",
            "Epoch 39/100\n",
            "179/179 [==============================] - 51s 285ms/step - loss: 1.3877 - accuracy: 0.4787 - val_loss: 1.3122 - val_accuracy: 0.5427\n",
            "Epoch 40/100\n",
            "179/179 [==============================] - 51s 284ms/step - loss: 1.3787 - accuracy: 0.4877 - val_loss: 1.3126 - val_accuracy: 0.5365\n",
            "Epoch 41/100\n",
            "179/179 [==============================] - 51s 283ms/step - loss: 1.3560 - accuracy: 0.4970 - val_loss: 1.2957 - val_accuracy: 0.5397\n",
            "Epoch 42/100\n",
            "179/179 [==============================] - 51s 284ms/step - loss: 1.3630 - accuracy: 0.4933 - val_loss: 1.2945 - val_accuracy: 0.5447\n",
            "Epoch 43/100\n",
            "179/179 [==============================] - 51s 285ms/step - loss: 1.3457 - accuracy: 0.4982 - val_loss: 1.2864 - val_accuracy: 0.5479\n",
            "Epoch 44/100\n",
            "179/179 [==============================] - 51s 285ms/step - loss: 1.3372 - accuracy: 0.4975 - val_loss: 1.2983 - val_accuracy: 0.5439\n",
            "Epoch 45/100\n",
            "179/179 [==============================] - 51s 284ms/step - loss: 1.3191 - accuracy: 0.5108 - val_loss: 1.2740 - val_accuracy: 0.5471\n",
            "Epoch 46/100\n",
            "179/179 [==============================] - 51s 284ms/step - loss: 1.3245 - accuracy: 0.5109 - val_loss: 1.2966 - val_accuracy: 0.5475\n",
            "Epoch 47/100\n",
            "179/179 [==============================] - 51s 284ms/step - loss: 1.3149 - accuracy: 0.5101 - val_loss: 1.2766 - val_accuracy: 0.5595\n",
            "Epoch 48/100\n",
            "179/179 [==============================] - 51s 285ms/step - loss: 1.2969 - accuracy: 0.5206 - val_loss: 1.2468 - val_accuracy: 0.5621\n",
            "Epoch 49/100\n",
            "179/179 [==============================] - 51s 283ms/step - loss: 1.3013 - accuracy: 0.5157 - val_loss: 1.2740 - val_accuracy: 0.5644\n",
            "Epoch 50/100\n",
            "179/179 [==============================] - 51s 283ms/step - loss: 1.2888 - accuracy: 0.5265 - val_loss: 1.2416 - val_accuracy: 0.5657\n",
            "Epoch 51/100\n",
            "179/179 [==============================] - 51s 286ms/step - loss: 1.2738 - accuracy: 0.5309 - val_loss: 1.2392 - val_accuracy: 0.5695\n",
            "Epoch 52/100\n",
            "179/179 [==============================] - 51s 285ms/step - loss: 1.2722 - accuracy: 0.5290 - val_loss: 1.2346 - val_accuracy: 0.5706\n",
            "Epoch 53/100\n",
            "179/179 [==============================] - 51s 283ms/step - loss: 1.2678 - accuracy: 0.5321 - val_loss: 1.2302 - val_accuracy: 0.5706\n",
            "Epoch 54/100\n",
            "179/179 [==============================] - 51s 285ms/step - loss: 1.2727 - accuracy: 0.5320 - val_loss: 1.2278 - val_accuracy: 0.5753\n",
            "Epoch 55/100\n",
            "179/179 [==============================] - 51s 285ms/step - loss: 1.2571 - accuracy: 0.5392 - val_loss: 1.2353 - val_accuracy: 0.5791\n",
            "Epoch 56/100\n",
            "179/179 [==============================] - 51s 284ms/step - loss: 1.2547 - accuracy: 0.5420 - val_loss: 1.2353 - val_accuracy: 0.5683\n",
            "Epoch 57/100\n",
            "179/179 [==============================] - 51s 287ms/step - loss: 1.2412 - accuracy: 0.5437 - val_loss: 1.2255 - val_accuracy: 0.5766\n",
            "Epoch 58/100\n",
            "179/179 [==============================] - 51s 286ms/step - loss: 1.2398 - accuracy: 0.5433 - val_loss: 1.2489 - val_accuracy: 0.5738\n",
            "Epoch 59/100\n",
            "179/179 [==============================] - 51s 287ms/step - loss: 1.2456 - accuracy: 0.5383 - val_loss: 1.2136 - val_accuracy: 0.5814\n",
            "Epoch 60/100\n",
            "179/179 [==============================] - 51s 287ms/step - loss: 1.2405 - accuracy: 0.5419 - val_loss: 1.2108 - val_accuracy: 0.5801\n",
            "Epoch 61/100\n",
            "179/179 [==============================] - 52s 290ms/step - loss: 1.2141 - accuracy: 0.5509 - val_loss: 1.2207 - val_accuracy: 0.5791\n",
            "Epoch 62/100\n",
            "179/179 [==============================] - 51s 287ms/step - loss: 1.2270 - accuracy: 0.5480 - val_loss: 1.2467 - val_accuracy: 0.5810\n",
            "Epoch 63/100\n",
            "179/179 [==============================] - 51s 285ms/step - loss: 1.2159 - accuracy: 0.5528 - val_loss: 1.2095 - val_accuracy: 0.5783\n",
            "Epoch 64/100\n",
            "179/179 [==============================] - 51s 287ms/step - loss: 1.2148 - accuracy: 0.5527 - val_loss: 1.1902 - val_accuracy: 0.5956\n",
            "Epoch 65/100\n",
            "179/179 [==============================] - 51s 286ms/step - loss: 1.1927 - accuracy: 0.5625 - val_loss: 1.1953 - val_accuracy: 0.5943\n",
            "Epoch 66/100\n",
            "179/179 [==============================] - 51s 287ms/step - loss: 1.1945 - accuracy: 0.5609 - val_loss: 1.2216 - val_accuracy: 0.5848\n",
            "Epoch 67/100\n",
            "179/179 [==============================] - 51s 287ms/step - loss: 1.1902 - accuracy: 0.5606 - val_loss: 1.2538 - val_accuracy: 0.5852\n",
            "Epoch 68/100\n",
            "179/179 [==============================] - 51s 285ms/step - loss: 1.2000 - accuracy: 0.5570 - val_loss: 1.1797 - val_accuracy: 0.5921\n",
            "Epoch 69/100\n",
            "179/179 [==============================] - 51s 285ms/step - loss: 1.1736 - accuracy: 0.5681 - val_loss: 1.2123 - val_accuracy: 0.5922\n",
            "Epoch 70/100\n",
            "179/179 [==============================] - 52s 289ms/step - loss: 1.1748 - accuracy: 0.5704 - val_loss: 1.1712 - val_accuracy: 0.5973\n",
            "Epoch 71/100\n",
            "179/179 [==============================] - 51s 285ms/step - loss: 1.1811 - accuracy: 0.5671 - val_loss: 1.1799 - val_accuracy: 0.5926\n",
            "Epoch 72/100\n",
            "179/179 [==============================] - 51s 287ms/step - loss: 1.1767 - accuracy: 0.5676 - val_loss: 1.2125 - val_accuracy: 0.5932\n",
            "Epoch 73/100\n",
            "179/179 [==============================] - 51s 287ms/step - loss: 1.1667 - accuracy: 0.5717 - val_loss: 1.2009 - val_accuracy: 0.5999\n",
            "Epoch 74/100\n",
            "179/179 [==============================] - 51s 287ms/step - loss: 1.1594 - accuracy: 0.5731 - val_loss: 1.1951 - val_accuracy: 0.5997\n",
            "Epoch 75/100\n",
            "179/179 [==============================] - 51s 286ms/step - loss: 1.1559 - accuracy: 0.5791 - val_loss: 1.2160 - val_accuracy: 0.5893\n",
            "Epoch 76/100\n",
            "179/179 [==============================] - 52s 289ms/step - loss: 1.1502 - accuracy: 0.5780 - val_loss: 1.2227 - val_accuracy: 0.5915\n",
            "Epoch 77/100\n",
            "179/179 [==============================] - 51s 286ms/step - loss: 1.1362 - accuracy: 0.5829 - val_loss: 1.1947 - val_accuracy: 0.5955\n",
            "Epoch 78/100\n",
            "179/179 [==============================] - 51s 284ms/step - loss: 1.1505 - accuracy: 0.5780 - val_loss: 1.1979 - val_accuracy: 0.5990\n",
            "Epoch 79/100\n",
            "179/179 [==============================] - 51s 285ms/step - loss: 1.1433 - accuracy: 0.5822 - val_loss: 1.1798 - val_accuracy: 0.6032\n",
            "Epoch 80/100\n",
            "179/179 [==============================] - 51s 286ms/step - loss: 1.1418 - accuracy: 0.5839 - val_loss: 1.1843 - val_accuracy: 0.6038\n",
            "Epoch 81/100\n",
            "179/179 [==============================] - 51s 286ms/step - loss: 1.1340 - accuracy: 0.5822 - val_loss: 1.1870 - val_accuracy: 0.6092\n",
            "Epoch 82/100\n",
            "179/179 [==============================] - 52s 289ms/step - loss: 1.1380 - accuracy: 0.5812 - val_loss: 1.1873 - val_accuracy: 0.6008\n",
            "Epoch 83/100\n",
            "179/179 [==============================] - 52s 290ms/step - loss: 1.1305 - accuracy: 0.5888 - val_loss: 1.1601 - val_accuracy: 0.6083\n",
            "Epoch 84/100\n",
            "179/179 [==============================] - 51s 287ms/step - loss: 1.1311 - accuracy: 0.5860 - val_loss: 1.1917 - val_accuracy: 0.6002\n",
            "Epoch 85/100\n",
            "179/179 [==============================] - 52s 288ms/step - loss: 1.1193 - accuracy: 0.5900 - val_loss: 1.1828 - val_accuracy: 0.6130\n",
            "Epoch 86/100\n",
            "179/179 [==============================] - 52s 289ms/step - loss: 1.1201 - accuracy: 0.5884 - val_loss: 1.1962 - val_accuracy: 0.6112\n",
            "Epoch 87/100\n",
            "179/179 [==============================] - 52s 292ms/step - loss: 1.1171 - accuracy: 0.5917 - val_loss: 1.1847 - val_accuracy: 0.6063\n",
            "Epoch 88/100\n",
            "179/179 [==============================] - 52s 290ms/step - loss: 1.1197 - accuracy: 0.5863 - val_loss: 1.2224 - val_accuracy: 0.5952\n",
            "Epoch 89/100\n",
            "179/179 [==============================] - 52s 290ms/step - loss: 1.1473 - accuracy: 0.5811 - val_loss: 1.1709 - val_accuracy: 0.6143\n",
            "Epoch 90/100\n",
            "179/179 [==============================] - 52s 291ms/step - loss: 1.0996 - accuracy: 0.5999 - val_loss: 1.1560 - val_accuracy: 0.6141\n",
            "Epoch 91/100\n",
            "179/179 [==============================] - 53s 295ms/step - loss: 1.0894 - accuracy: 0.5973 - val_loss: 1.1490 - val_accuracy: 0.6134\n",
            "Epoch 92/100\n",
            "179/179 [==============================] - 53s 297ms/step - loss: 1.0971 - accuracy: 0.5994 - val_loss: 1.1628 - val_accuracy: 0.6132\n",
            "Epoch 93/100\n",
            "179/179 [==============================] - 53s 296ms/step - loss: 1.0836 - accuracy: 0.6033 - val_loss: 1.1944 - val_accuracy: 0.6144\n",
            "Epoch 94/100\n",
            "179/179 [==============================] - 53s 294ms/step - loss: 1.0934 - accuracy: 0.6017 - val_loss: 1.1607 - val_accuracy: 0.6143\n",
            "Epoch 95/100\n",
            "179/179 [==============================] - 53s 299ms/step - loss: 1.0822 - accuracy: 0.6043 - val_loss: 1.1874 - val_accuracy: 0.6215\n",
            "Epoch 96/100\n",
            "179/179 [==============================] - 53s 294ms/step - loss: 1.0794 - accuracy: 0.6053 - val_loss: 1.1647 - val_accuracy: 0.6218\n",
            "Epoch 97/100\n",
            "179/179 [==============================] - 52s 293ms/step - loss: 1.0864 - accuracy: 0.6012 - val_loss: 1.1777 - val_accuracy: 0.6123\n",
            "Epoch 98/100\n",
            "179/179 [==============================] - 53s 295ms/step - loss: 1.0883 - accuracy: 0.6036 - val_loss: 1.1324 - val_accuracy: 0.6192\n",
            "Epoch 99/100\n",
            "179/179 [==============================] - 54s 300ms/step - loss: 1.0845 - accuracy: 0.6034 - val_loss: 1.1422 - val_accuracy: 0.6232\n",
            "Epoch 100/100\n",
            "179/179 [==============================] - 53s 297ms/step - loss: 1.0725 - accuracy: 0.6077 - val_loss: 1.1442 - val_accuracy: 0.6226\n"
          ],
          "name": "stdout"
        }
      ]
    },
    {
      "cell_type": "code",
      "metadata": {
        "colab": {
          "base_uri": "https://localhost:8080/"
        },
        "id": "ofjfReCD-apy",
        "outputId": "181450cb-3d45-4d60-98c0-5939e964779a"
      },
      "source": [
        "score = model_CNN1d.evaluate(x_test, y_test, verbose=1)\n",
        "print('Test loss:', score[0])\n",
        "print('Test accuracy:', score[1])"
      ],
      "execution_count": 19,
      "outputs": [
        {
          "output_type": "stream",
          "text": [
            "357/357 [==============================] - 4s 10ms/step - loss: 1.1442 - accuracy: 0.6226\n",
            "Test loss: 1.1442205905914307\n",
            "Test accuracy: 0.6226249933242798\n"
          ],
          "name": "stdout"
        }
      ]
    },
    {
      "cell_type": "markdown",
      "metadata": {
        "id": "c3NNdgPMmXvf"
      },
      "source": [
        "# Plots"
      ]
    },
    {
      "cell_type": "code",
      "metadata": {
        "colab": {
          "base_uri": "https://localhost:8080/"
        },
        "id": "TCbdo4ue-3Wx",
        "outputId": "13fbb7e7-9e7b-46e1-9a24-4bd2bb5d46e5"
      },
      "source": [
        "# list all data in history\n",
        "print(grpah_model.history.keys())\n",
        "import matplotlib.pyplot as plt\n",
        "import numpy\n"
      ],
      "execution_count": 20,
      "outputs": [
        {
          "output_type": "stream",
          "text": [
            "dict_keys(['loss', 'accuracy', 'val_loss', 'val_accuracy'])\n"
          ],
          "name": "stdout"
        }
      ]
    },
    {
      "cell_type": "markdown",
      "metadata": {
        "id": "ioNjkcczm99J"
      },
      "source": [
        "### Epochs vs Accuracy"
      ]
    },
    {
      "cell_type": "code",
      "metadata": {
        "colab": {
          "base_uri": "https://localhost:8080/",
          "height": 295
        },
        "id": "xCKAvMHW-47t",
        "outputId": "5c6b0efe-b852-45a4-f6a5-289f653f5fdb"
      },
      "source": [
        "# summarize history for accuracy\n",
        "plt.plot(grpah_model.history['accuracy'])\n",
        "plt.plot(grpah_model.history['val_accuracy'])\n",
        "plt.title('model accuracy')\n",
        "plt.ylabel('accuracy')\n",
        "plt.xlabel('epoch')\n",
        "plt.legend(['train', 'test'], loc='upper left')\n",
        "plt.show()"
      ],
      "execution_count": 21,
      "outputs": [
        {
          "output_type": "display_data",
          "data": {
            "image/png": "[encoded data removed]",
            "text/plain": [
              "<Figure size 432x288 with 1 Axes>"
            ]
          },
          "metadata": {
            "tags": [],
            "needs_background": "light"
          }
        }
      ]
    },
    {
      "cell_type": "markdown",
      "metadata": {
        "id": "-VXsHyTMnDMu"
      },
      "source": [
        "### Epochs vs Loss"
      ]
    },
    {
      "cell_type": "code",
      "metadata": {
        "colab": {
          "base_uri": "https://localhost:8080/",
          "height": 295
        },
        "id": "Sy62Y140-6Pi",
        "outputId": "90b37d41-6e7e-4887-84c0-4e2ec80a9134"
      },
      "source": [
        "# summarize history for loss\n",
        "plt.plot(grpah_model.history['loss'])\n",
        "plt.plot(grpah_model.history['val_loss'])\n",
        "plt.title('model loss')\n",
        "plt.ylabel('loss')\n",
        "plt.xlabel('epoch')\n",
        "plt.legend(['train', 'test'], loc='upper left')\n",
        "plt.show()"
      ],
      "execution_count": 22,
      "outputs": [
        {
          "output_type": "display_data",
          "data": {
            "image/png": "[encoded data removed]",
            "text/plain": [
              "<Figure size 432x288 with 1 Axes>"
            ]
          },
          "metadata": {
            "tags": [],
            "needs_background": "light"
          }
        }
      ]
    },
    {
      "cell_type": "code",
      "metadata": {
        "colab": {
          "base_uri": "https://localhost:8080/",
          "height": 295
        },
        "id": "KtVO7OGx-7r3",
        "outputId": "40251923-4730-43fd-de2d-e8c9035b4feb"
      },
      "source": [
        "plt.plot(grpah_model.history['val_accuracy'])\n",
        "plt.plot(grpah_model.history['val_loss'])\n",
        "plt.title('test model')\n",
        "plt.ylabel('test accuracy')\n",
        "plt.xlabel('test loss')\n",
        "plt.show()"
      ],
      "execution_count": 23,
      "outputs": [
        {
          "output_type": "display_data",
          "data": {
            "image/png": "[encoded data removed]",
            "text/plain": [
              "<Figure size 432x288 with 1 Axes>"
            ]
          },
          "metadata": {
            "tags": [],
            "needs_background": "light"
          }
        }
      ]
    },
    {
      "cell_type": "markdown",
      "metadata": {
        "id": "XFYLl9GjnIjQ"
      },
      "source": [
        "### Confusion Matrix showing all classes"
      ]
    },
    {
      "cell_type": "code",
      "metadata": {
        "id": "kdSmUfnk-89M"
      },
      "source": [
        "y_pred=model_CNN1d.predict(x_test)\n",
        "from sklearn.metrics import confusion_matrix\n",
        "import numpy as np"
      ],
      "execution_count": 24,
      "outputs": []
    },
    {
      "cell_type": "code",
      "metadata": {
        "colab": {
          "base_uri": "https://localhost:8080/",
          "height": 599
        },
        "id": "dVRPjBaq_EJW",
        "outputId": "3c366765-6149-4a7a-9247-82d939023a6c"
      },
      "source": [
        "y_test[1]\n",
        "y_pred[1]\n",
        "y_test1=np.argmax(y_test, axis=1)\n",
        "y_pred=np.argmax(y_pred,axis=1)\n",
        "cmatrix=confusion_matrix(y_test1, y_pred)\n",
        "import seaborn as sns\n",
        "figure = plt.figure(figsize=(8, 8))\n",
        "sns.heatmap(cmatrix, annot=True,cmap=plt.cm.Blues)\n",
        "plt.tight_layout()\n",
        "plt.ylabel('True label')\n",
        "plt.xlabel('Predicted label')\n",
        "plt.show()"
      ],
      "execution_count": 25,
      "outputs": [
        {
          "output_type": "display_data",
          "data": {
            "image/png": "[encoded data removed]",
            "text/plain": [
              "<Figure size 576x576 with 2 Axes>"
            ]
          },
          "metadata": {
            "tags": [],
            "needs_background": "light"
          }
        }
      ]
    },
    {
      "cell_type": "markdown",
      "metadata": {
        "id": "dgYqSAWZCSJp"
      },
      "source": [
        "# ROC Curve"
      ]
    },
    {
      "cell_type": "code",
      "metadata": {
        "id": "gUb1F2mxPMoJ"
      },
      "source": [
        "import numpy as np\n",
        "import matplotlib.pyplot as plt\n",
        "from itertools import cycle\n",
        "\n",
        "from sklearn import svm, datasets\n",
        "from sklearn.metrics import roc_curve, auc\n",
        "from sklearn.model_selection import train_test_split\n",
        "from sklearn.preprocessing import label_binarize\n",
        "from sklearn.multiclass import OneVsRestClassifier\n",
        "from scipy import interp\n",
        "from sklearn.metrics import roc_auc_score"
      ],
      "execution_count": 26,
      "outputs": []
    },
    {
      "cell_type": "code",
      "metadata": {
        "colab": {
          "base_uri": "https://localhost:8080/"
        },
        "id": "cYoid7EhNiRg",
        "outputId": "cc11bac8-30c2-445a-b2f1-d907cff52621"
      },
      "source": [
        "# make probability predictions with the model\n",
        "predictions = model_CNN1d.predict(x_test)\n",
        "# round predictions \n",
        "rounded = [round(x[0]) for x in predictions]\n",
        "rounded = np.array(rounded)\n",
        "rounded.shape"
      ],
      "execution_count": 27,
      "outputs": [
        {
          "output_type": "execute_result",
          "data": {
            "text/plain": [
              "(11421,)"
            ]
          },
          "metadata": {
            "tags": []
          },
          "execution_count": 27
        }
      ]
    },
    {
      "cell_type": "code",
      "metadata": {
        "id": "Mk2twYtJNjR0"
      },
      "source": [
        "# make class predictions with the model\n",
        "predictions = model_CNN1d.predict_classes(x_test)"
      ],
      "execution_count": 28,
      "outputs": []
    },
    {
      "cell_type": "code",
      "metadata": {
        "colab": {
          "base_uri": "https://localhost:8080/"
        },
        "id": "3wIC8Qd7NlMW",
        "outputId": "7ab21380-d4d8-4f2d-8d2b-d43c1dfeb9d8"
      },
      "source": [
        "temp = label_binarize(predictions,classes = [0,1,2,3,4,5,6,7,8,9] )\n",
        "temp\n",
        "temp1 = label_binarize(y_test,classes = [0,1,2,3,4,5,6,7,8,9] )\n",
        "temp1"
      ],
      "execution_count": 29,
      "outputs": [
        {
          "output_type": "execute_result",
          "data": {
            "text/plain": [
              "array([[0, 0, 0, ..., 0, 0, 0],\n",
              "       [0, 0, 0, ..., 0, 0, 0],\n",
              "       [0, 0, 0, ..., 0, 0, 0],\n",
              "       ...,\n",
              "       [0, 0, 1, ..., 0, 0, 0],\n",
              "       [0, 0, 1, ..., 0, 0, 0],\n",
              "       [0, 0, 1, ..., 0, 0, 0]])"
            ]
          },
          "metadata": {
            "tags": []
          },
          "execution_count": 29
        }
      ]
    },
    {
      "cell_type": "code",
      "metadata": {
        "id": "WmItkEGINqfX"
      },
      "source": [
        "false_pr = dict()\n",
        "true_pr = dict()\n",
        "roc_auc = dict()\n",
        "for i in range(classes-1):\n",
        "    false_pr[i], true_pr[i], _ = roc_curve(temp1[:, i], temp[:, i])\n",
        "    roc_auc[i] = auc(false_pr[i], true_pr[i])\n",
        "\n",
        "false_pr[\"micro\"], true_pr[\"micro\"], _ = roc_curve(temp1.ravel(), temp.ravel())\n",
        "roc_auc[\"micro\"] = auc(false_pr[\"micro\"], true_pr[\"micro\"])"
      ],
      "execution_count": 30,
      "outputs": []
    },
    {
      "cell_type": "code",
      "metadata": {
        "id": "avWhkUrWNyAG"
      },
      "source": [
        "classes = classes  -1\n",
        "lw = 2"
      ],
      "execution_count": 31,
      "outputs": []
    },
    {
      "cell_type": "code",
      "metadata": {
        "colab": {
          "base_uri": "https://localhost:8080/",
          "height": 295
        },
        "id": "mskFQBdhN0Wh",
        "outputId": "53fb563d-f385-4ff8-8643-4a1cd48e033a"
      },
      "source": [
        "combined_fpr = np.unique(np.concatenate([false_pr[i] for i in range(classes)]))\n",
        "\n",
        "# Then interpolate all ROC curves at this points\n",
        "average_tpr = np.zeros_like(combined_fpr)\n",
        "for i in range(classes):\n",
        "    average_tpr += interp(combined_fpr, false_pr[i], true_pr[i])\n",
        "\n",
        "average_tpr /= (classes)\n",
        "\n",
        "false_pr[\"macro\"] = combined_fpr\n",
        "true_pr[\"macro\"] = average_tpr\n",
        "roc_auc[\"macro\"] = auc(false_pr[\"macro\"], true_pr[\"macro\"])\n",
        "\n",
        "# Plot all ROC curves\n",
        "plt.figure()\n",
        "plt.plot(false_pr[\"micro\"], true_pr[\"micro\"],\n",
        "         label='micro-average (area = {0:0.2f})'\n",
        "               ''.format(roc_auc[\"micro\"]),\n",
        "         color='deeppink', linestyle=':', linewidth=4)\n",
        "\n",
        "plt.plot(false_pr[\"macro\"], true_pr[\"macro\"],\n",
        "         label='macro-average(area = {0:0.2f})'\n",
        "               ''.format(roc_auc[\"macro\"]),\n",
        "         color='navy', linestyle=':', linewidth=4)\n",
        "\n",
        "colors = cycle(['aqua', 'darkorange', 'cornflowerblue'])\n",
        "for i, color in zip(range(classes), colors):\n",
        "    plt.plot(false_pr[i], true_pr[i], color=color, lw=lw,\n",
        "             label='ROC curve of class {0} (area = {1:0.2f})'\n",
        "             ''.format(i, roc_auc[i]))\n",
        "\n",
        "plt.plot([0, 1], [0, 1], 'k--', lw=lw)\n",
        "plt.xlim([0.0, 1.0])\n",
        "plt.ylim([0.0, 1.05])\n",
        "plt.xlabel('False Positive Rate')\n",
        "plt.ylabel('True Positive Rate')\n",
        "plt.title('Multi-class ROC')\n",
        "plt.legend(loc=\"lower right\")\n",
        "plt.show()"
      ],
      "execution_count": 32,
      "outputs": [
        {
          "output_type": "display_data",
          "data": {
            "image/png": "[encoded data removed]",
            "text/plain": [
              "<Figure size 432x288 with 1 Axes>"
            ]
          },
          "metadata": {
            "tags": [],
            "needs_background": "light"
          }
        }
      ]
    },
    {
      "cell_type": "code",
      "metadata": {
        "colab": {
          "base_uri": "https://localhost:8080/"
        },
        "id": "TJg4ErmdN383",
        "outputId": "51782918-1303-44b8-dd79-2d8f4e1eafb6"
      },
      "source": [
        "cm = cmatrix\n",
        "cm"
      ],
      "execution_count": 33,
      "outputs": [
        {
          "output_type": "execute_result",
          "data": {
            "text/plain": [
              "array([[1234,   64,   20,   65,   21,   19,    5,   20,  312],\n",
              "       [  46, 1511,   31,   54,   60,   51,   13,   10,  173],\n",
              "       [  72,   89, 1290,  147,  124,   23,    4,   11,   96],\n",
              "       [  45,   25,   88,  799,   18,   19,    8,   23,  244],\n",
              "       [ 119,   40,   55,   43,  742,   87,    5,   24,  154],\n",
              "       [  17,   52,   13,   13,   73,  714,    7,    7,  179],\n",
              "       [  24,   13,    3,   23,   30,   20,   28,   30,  513],\n",
              "       [  37,   15,    1,   41,   23,   29,   28,   48,  558],\n",
              "       [  21,    0,    0,    1,    0,    1,    2,    9,  745]])"
            ]
          },
          "metadata": {
            "tags": []
          },
          "execution_count": 33
        }
      ]
    },
    {
      "cell_type": "code",
      "metadata": {
        "id": "Y8h8Ae82N5si"
      },
      "source": [
        "recall = np.diag(cm) / np.sum(cm, axis = 1)\n",
        "precision = np.diag(cm) / np.sum(cm, axis = 0)"
      ],
      "execution_count": 34,
      "outputs": []
    },
    {
      "cell_type": "code",
      "metadata": {
        "colab": {
          "base_uri": "https://localhost:8080/"
        },
        "id": "I0lqzoHhN6MQ",
        "outputId": "743009b4-efea-4127-a1a5-dd4dbb4417a3"
      },
      "source": [
        "print(\"Recall\",np.nanmean(recall))\n",
        "print(\"{precision}\",np.nanmean(precision))"
      ],
      "execution_count": 36,
      "outputs": [
        {
          "output_type": "stream",
          "text": [
            "Recall 0.5676450353908482\n",
            "{precision} 0.5942509526070409\n"
          ],
          "name": "stdout"
        }
      ]
    },
    {
      "cell_type": "code",
      "metadata": {
        "id": "MdgrUdkv7T_l"
      },
      "source": [
        ""
      ],
      "execution_count": null,
      "outputs": []
    }
  ]
}