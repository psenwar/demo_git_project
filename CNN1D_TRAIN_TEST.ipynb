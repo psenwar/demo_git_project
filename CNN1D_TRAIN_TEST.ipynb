{
  "nbformat": 4,
  "nbformat_minor": 0,
  "metadata": {
    "colab": {
      "name": "CNN1D_TRAIN_TEST.ipynb",
      "provenance": [],
      "collapsed_sections": []
    },
    "kernelspec": {
      "name": "python3",
      "display_name": "Python 3"
    },
    "language_info": {
      "name": "python"
    },
    "accelerator": "TPU"
  },
  "cells": [
    {
      "cell_type": "code",
      "metadata": {
        "colab": {
          "base_uri": "https://localhost:8080/"
        },
        "id": "hMEJnaiM8LRF",
        "outputId": "4a23f389-be0a-483e-cbff-e4dbb9fd6599"
      },
      "source": [
        "!pip install git+https://github.com/forrestbao/pyeeg.git\n",
        "\n",
        "import pandas as pd\n",
        "import keras.backend as K\n",
        "import numpy as np\n",
        "import pandas as pd\n",
        "import pyeeg as pe\n",
        "import pickle as pickle\n",
        "import math\n",
        "from sklearn import svm\n",
        "from sklearn.preprocessing import normalize\n",
        "\n",
        "import os\n",
        "import time"
      ],
      "execution_count": null,
      "outputs": [
        {
          "output_type": "stream",
          "text": [
            "Collecting git+https://github.com/forrestbao/pyeeg.git\n",
            "  Cloning https://github.com/forrestbao/pyeeg.git to /tmp/pip-req-build-6kveidgu\n",
            "  Running command git clone -q https://github.com/forrestbao/pyeeg.git /tmp/pip-req-build-6kveidgu\n",
            "Requirement already satisfied: numpy>=1.9.2 in /usr/local/lib/python3.7/dist-packages (from pyeeg==0.4.4) (1.19.5)\n",
            "Building wheels for collected packages: pyeeg\n",
            "  Building wheel for pyeeg (setup.py) ... \u001b[?25l\u001b[?25hdone\n",
            "  Created wheel for pyeeg: filename=pyeeg-0.4.4-py2.py3-none-any.whl size=28123 sha256=7598d0777a7730112384d37fc58b2608eff525351d7e45eeb26b54f6f09151dd\n",
            "  Stored in directory: /tmp/pip-ephem-wheel-cache-bvwzmp7c/wheels/2d/3f/ad/106d4fc80b61d1ea1fc18e76e7439fd98aa043d83d58eae741\n",
            "Successfully built pyeeg\n",
            "Installing collected packages: pyeeg\n",
            "Successfully installed pyeeg-0.4.4\n"
          ],
          "name": "stdout"
        }
      ]
    },
    {
      "cell_type": "code",
      "metadata": {
        "id": "_K3yZGPP8plq"
      },
      "source": [
        "import keras\n",
        "from keras.models import Sequential\n",
        "from keras.layers import Dense, Dropout, Flatten\n",
        "from keras.layers.convolutional import Convolution1D, MaxPooling1D, ZeroPadding1D,Conv1D\n",
        "from keras.models import Sequential\n",
        "from keras.utils import to_categorical \n",
        "\n",
        "from keras.models import Model\n",
        "import timeit\n",
        "from keras.optimizers import SGD\n",
        "\n",
        "import warnings\n",
        "warnings.filterwarnings('ignore')"
      ],
      "execution_count": null,
      "outputs": []
    },
    {
      "cell_type": "code",
      "metadata": {
        "colab": {
          "base_uri": "https://localhost:8080/"
        },
        "id": "meCnfLQI8j5t",
        "outputId": "360df192-d4d8-4656-b3c7-58471007fb3e"
      },
      "source": [
        "from google.colab import drive\n",
        "drive.mount('/content/drive/')"
      ],
      "execution_count": null,
      "outputs": [
        {
          "output_type": "stream",
          "text": [
            "Mounted at /content/drive/\n"
          ],
          "name": "stdout"
        }
      ]
    },
    {
      "cell_type": "markdown",
      "metadata": {
        "id": "n3AnkWZYmxdQ"
      },
      "source": [
        "# Getting data "
      ]
    },
    {
      "cell_type": "code",
      "metadata": {
        "id": "zOEOQSX997zs"
      },
      "source": [
        "with open('/content/drive/MyDrive/Colab Notebooks/DEAP  - saved/data_training.npy', 'rb') as fileX_training:\n",
        "    X_train  = np.load(fileX_training)\n",
        "    \n",
        "with open('/content/drive/MyDrive/Colab Notebooks/DEAP  - saved/label_training.npy', 'rb') as fileY_training:\n",
        "    Y_train  = np.load(fileY_training)   "
      ],
      "execution_count": null,
      "outputs": []
    },
    {
      "cell_type": "code",
      "metadata": {
        "id": "NT51ekSeA5AI"
      },
      "source": [
        "X_train = normalize(X_train)\n",
        "Z_train = np.ravel(Y_train[:, [3]])\n",
        "#labels\n",
        "train_arousal = np.ravel(Y_train[:, [0]])\n",
        "train_valence = np.ravel(Y_train[:, [1]])\n",
        "train_dominance = np.ravel(Y_train[:, [2]])\n",
        "train_liking = np.ravel(Y_train[:, [3]])"
      ],
      "execution_count": null,
      "outputs": []
    },
    {
      "cell_type": "code",
      "metadata": {
        "id": "4EzCRkCO98Qy"
      },
      "source": [
        "X_train.shape\n",
        "from keras.utils import to_categorical\n",
        "y_train = to_categorical(Z_train)\n",
        "y_train\n",
        "y_train.shape\n",
        "x_train = np.array(X_train[:])"
      ],
      "execution_count": null,
      "outputs": []
    },
    {
      "cell_type": "code",
      "metadata": {
        "id": "zCvT3HHF8mJt"
      },
      "source": [
        "\n",
        "with open('/content/drive/MyDrive/Colab Notebooks/DEAP  - saved/data_testing.npy', 'rb') as fileX_training:\n",
        "    X_test  = np.load(fileX_training)\n",
        "    \n",
        "with open('/content/drive/MyDrive/Colab Notebooks/DEAP  - saved/label_testing.npy', 'rb') as fileY_training:\n",
        "    Y_test  = np.load(fileY_training)\n"
      ],
      "execution_count": null,
      "outputs": []
    },
    {
      "cell_type": "code",
      "metadata": {
        "id": "sIXhr46gA8UW"
      },
      "source": [
        "X_test = normalize(X_test)\n",
        "Z_test = np.ravel(Y_test[:, [3]])\n",
        "\n",
        "test_arousal = np.ravel(Y_test[:, [0]])\n",
        "test_valence = np.ravel(Y_test[:, [1]])\n",
        "test_dominance = np.ravel(Y_test[:, [2]])\n",
        "test_liking = np.ravel(Y_test[:, [3]])"
      ],
      "execution_count": null,
      "outputs": []
    },
    {
      "cell_type": "code",
      "metadata": {
        "id": "qQvCFUD59TRn"
      },
      "source": [
        "x_test = np.array(X_test[:])"
      ],
      "execution_count": null,
      "outputs": []
    },
    {
      "cell_type": "code",
      "metadata": {
        "colab": {
          "base_uri": "https://localhost:8080/"
        },
        "id": "k5suXVhN9UsL",
        "outputId": "858ae3ad-83f5-4cf2-e646-058fb21485fa"
      },
      "source": [
        "from keras.utils import to_categorical\n",
        "y_test = to_categorical(Z_test)\n",
        "y_test"
      ],
      "execution_count": null,
      "outputs": [
        {
          "output_type": "execute_result",
          "data": {
            "text/plain": [
              "array([[0., 0., 0., ..., 0., 0., 0.],\n",
              "       [0., 0., 0., ..., 0., 0., 0.],\n",
              "       [0., 0., 0., ..., 0., 0., 0.],\n",
              "       ...,\n",
              "       [0., 0., 1., ..., 0., 0., 0.],\n",
              "       [0., 0., 1., ..., 0., 0., 0.],\n",
              "       [0., 0., 1., ..., 0., 0., 0.]], dtype=float32)"
            ]
          },
          "metadata": {
            "tags": []
          },
          "execution_count": 7
        }
      ]
    },
    {
      "cell_type": "code",
      "metadata": {
        "id": "WvQGHIGo9X5V"
      },
      "source": [
        "from sklearn.preprocessing import StandardScaler\n",
        "temp = StandardScaler()\n",
        "x_train = temp.fit_transform(x_train)\n",
        "x_test = temp.fit_transform(x_test)"
      ],
      "execution_count": null,
      "outputs": []
    },
    {
      "cell_type": "markdown",
      "metadata": {
        "id": "KHOBMzAUmLwc"
      },
      "source": [
        "# CNN1D Model"
      ]
    },
    {
      "cell_type": "code",
      "metadata": {
        "colab": {
          "base_uri": "https://localhost:8080/"
        },
        "id": "WUo3Q5gL9ZWs",
        "outputId": "2ef6205e-d618-461f-99eb-1abae68b446d"
      },
      "source": [
        "x_train = x_train.reshape(x_train.shape[0],x_train.shape[1], 1)\n",
        "x_test = x_test.reshape(x_test.shape[0],x_test.shape[1], 1)\n",
        "x_train.shape\n",
        "batch_size = 256\n",
        "classes = 10\n",
        "\n",
        "input_shape=(x_train.shape[1], 1)\n",
        "print(input_shape)\n",
        "\n",
        "from keras.layers import Convolution1D, ZeroPadding1D, MaxPooling1D, BatchNormalization, Activation, Dropout, Flatten, Dense\n",
        "from keras.regularizers import l2\n",
        "\n",
        "model_CNN1d = Sequential()\n",
        "intput_shape=(x_train.shape[1], 1)\n",
        "model_CNN1d.add(Conv1D(256, kernel_size=3,padding = 'same',activation='relu', input_shape=input_shape))\n",
        "model_CNN1d.add(BatchNormalization())\n",
        "model_CNN1d.add(MaxPooling1D(pool_size=(2)))\n",
        "model_CNN1d.add(Conv1D(128,kernel_size=3,padding = 'same', activation='relu'))\n",
        "model_CNN1d.add(BatchNormalization())\n",
        "model_CNN1d.add(MaxPooling1D(pool_size=(2)))\n",
        "model_CNN1d.add(Conv1D(64,kernel_size=3,padding = 'same', activation='relu'))\n",
        "model_CNN1d.add(MaxPooling1D(pool_size=(2)))\n",
        "model_CNN1d.add(Flatten())\n",
        "model_CNN1d.add(Dense(64, activation='relu'))\n",
        "model_CNN1d.add(Dropout(0.2))\n",
        "model_CNN1d.add(Dense(32, activation='relu'))\n",
        "model_CNN1d.add(Dropout(0.2))\n",
        "model_CNN1d.add(Dense(16, activation='relu'))\n",
        "model_CNN1d.add(Dropout(0.2))\n",
        "model_CNN1d.add(Dense(classes, activation='softmax'))\n",
        "model_CNN1d.summary()\n",
        "\n"
      ],
      "execution_count": null,
      "outputs": [
        {
          "output_type": "stream",
          "text": [
            "(70, 1)\n",
            "Model: \"sequential\"\n",
            "_________________________________________________________________\n",
            "Layer (type)                 Output Shape              Param #   \n",
            "=================================================================\n",
            "conv1d (Conv1D)              (None, 70, 128)           512       \n",
            "_________________________________________________________________\n",
            "batch_normalization (BatchNo (None, 70, 128)           512       \n",
            "_________________________________________________________________\n",
            "max_pooling1d (MaxPooling1D) (None, 35, 128)           0         \n",
            "_________________________________________________________________\n",
            "conv1d_1 (Conv1D)            (None, 35, 128)           49280     \n",
            "_________________________________________________________________\n",
            "batch_normalization_1 (Batch (None, 35, 128)           512       \n",
            "_________________________________________________________________\n",
            "max_pooling1d_1 (MaxPooling1 (None, 17, 128)           0         \n",
            "_________________________________________________________________\n",
            "conv1d_2 (Conv1D)            (None, 17, 64)            24640     \n",
            "_________________________________________________________________\n",
            "max_pooling1d_2 (MaxPooling1 (None, 8, 64)             0         \n",
            "_________________________________________________________________\n",
            "flatten (Flatten)            (None, 512)               0         \n",
            "_________________________________________________________________\n",
            "dense (Dense)                (None, 64)                32832     \n",
            "_________________________________________________________________\n",
            "dropout (Dropout)            (None, 64)                0         \n",
            "_________________________________________________________________\n",
            "dense_1 (Dense)              (None, 32)                2080      \n",
            "_________________________________________________________________\n",
            "dropout_1 (Dropout)          (None, 32)                0         \n",
            "_________________________________________________________________\n",
            "dense_2 (Dense)              (None, 16)                528       \n",
            "_________________________________________________________________\n",
            "dropout_2 (Dropout)          (None, 16)                0         \n",
            "_________________________________________________________________\n",
            "dense_3 (Dense)              (None, 10)                170       \n",
            "=================================================================\n",
            "Total params: 111,066\n",
            "Trainable params: 110,554\n",
            "Non-trainable params: 512\n",
            "_________________________________________________________________\n"
          ],
          "name": "stdout"
        }
      ]
    },
    {
      "cell_type": "code",
      "metadata": {
        "id": "ZUTOCoa89s16"
      },
      "source": [
        "model_CNN1d.compile(loss=keras.losses.categorical_crossentropy,optimizer='adam',metrics=['accuracy'])\n",
        "\n"
      ],
      "execution_count": null,
      "outputs": []
    },
    {
      "cell_type": "markdown",
      "metadata": {
        "id": "5hIZ8lA8mSrk"
      },
      "source": [
        "# Training and Testing Model"
      ]
    },
    {
      "cell_type": "code",
      "metadata": {
        "id": "gGubhgmG-Wp6"
      },
      "source": [
        "iter = 100"
      ],
      "execution_count": null,
      "outputs": []
    },
    {
      "cell_type": "code",
      "metadata": {
        "colab": {
          "base_uri": "https://localhost:8080/"
        },
        "id": "2rceX5oy9uCb",
        "outputId": "c26371c6-8338-461b-99fa-6c125d067aa5"
      },
      "source": [
        "\n",
        "grpah_model=model_CNN1d.fit(x_train, y_train,batch_size=batch_size,epochs=iter,  verbose=1,validation_data=(x_test,y_test))"
      ],
      "execution_count": null,
      "outputs": [
        {
          "output_type": "stream",
          "text": [
            "Epoch 1/100\n",
            "179/179 [==============================] - 30s 168ms/step - loss: 1.4637 - accuracy: 0.4326 - val_loss: 1.3552 - val_accuracy: 0.4715\n",
            "Epoch 2/100\n",
            "179/179 [==============================] - 30s 168ms/step - loss: 1.4218 - accuracy: 0.4489 - val_loss: 1.3261 - val_accuracy: 0.4892\n",
            "Epoch 3/100\n",
            "179/179 [==============================] - 30s 167ms/step - loss: 1.3759 - accuracy: 0.4690 - val_loss: 1.2828 - val_accuracy: 0.5023\n",
            "Epoch 4/100\n",
            "179/179 [==============================] - 30s 168ms/step - loss: 1.3371 - accuracy: 0.4839 - val_loss: 1.2312 - val_accuracy: 0.5196\n",
            "Epoch 5/100\n",
            "179/179 [==============================] - 31s 171ms/step - loss: 1.3037 - accuracy: 0.5006 - val_loss: 1.2135 - val_accuracy: 0.5260\n",
            "Epoch 6/100\n",
            "179/179 [==============================] - 31s 170ms/step - loss: 1.2676 - accuracy: 0.5147 - val_loss: 1.1672 - val_accuracy: 0.5487\n",
            "Epoch 7/100\n",
            "179/179 [==============================] - 30s 169ms/step - loss: 1.2342 - accuracy: 0.5278 - val_loss: 1.1528 - val_accuracy: 0.5570\n",
            "Epoch 8/100\n",
            "179/179 [==============================] - 30s 170ms/step - loss: 1.2070 - accuracy: 0.5377 - val_loss: 1.1140 - val_accuracy: 0.5749\n",
            "Epoch 9/100\n",
            "179/179 [==============================] - 30s 170ms/step - loss: 1.1726 - accuracy: 0.5533 - val_loss: 1.0719 - val_accuracy: 0.5909\n",
            "Epoch 10/100\n",
            "179/179 [==============================] - 31s 171ms/step - loss: 1.1501 - accuracy: 0.5632 - val_loss: 1.0607 - val_accuracy: 0.5976\n",
            "Epoch 11/100\n",
            "179/179 [==============================] - 30s 169ms/step - loss: 1.1189 - accuracy: 0.5785 - val_loss: 1.0230 - val_accuracy: 0.6127\n",
            "Epoch 12/100\n",
            "179/179 [==============================] - 30s 169ms/step - loss: 1.0931 - accuracy: 0.5877 - val_loss: 0.9986 - val_accuracy: 0.6189\n",
            "Epoch 13/100\n",
            "179/179 [==============================] - 30s 170ms/step - loss: 1.0638 - accuracy: 0.6002 - val_loss: 0.9896 - val_accuracy: 0.6274\n",
            "Epoch 14/100\n",
            "179/179 [==============================] - 30s 169ms/step - loss: 1.0448 - accuracy: 0.6085 - val_loss: 0.9677 - val_accuracy: 0.6337\n",
            "Epoch 15/100\n",
            "179/179 [==============================] - 30s 168ms/step - loss: 1.0228 - accuracy: 0.6179 - val_loss: 0.9615 - val_accuracy: 0.6400\n",
            "Epoch 16/100\n",
            "179/179 [==============================] - 30s 170ms/step - loss: 0.9991 - accuracy: 0.6293 - val_loss: 0.9434 - val_accuracy: 0.6529\n",
            "Epoch 17/100\n",
            "179/179 [==============================] - 31s 172ms/step - loss: 0.9772 - accuracy: 0.6396 - val_loss: 0.9087 - val_accuracy: 0.6669\n",
            "Epoch 18/100\n",
            "179/179 [==============================] - 31s 171ms/step - loss: 0.9631 - accuracy: 0.6474 - val_loss: 0.9033 - val_accuracy: 0.6645\n",
            "Epoch 19/100\n",
            "179/179 [==============================] - 31s 175ms/step - loss: 0.9360 - accuracy: 0.6573 - val_loss: 0.8991 - val_accuracy: 0.6768\n",
            "Epoch 20/100\n",
            "179/179 [==============================] - 31s 172ms/step - loss: 0.9287 - accuracy: 0.6600 - val_loss: 0.8875 - val_accuracy: 0.6762\n",
            "Epoch 21/100\n",
            "179/179 [==============================] - 30s 170ms/step - loss: 0.8993 - accuracy: 0.6756 - val_loss: 0.8967 - val_accuracy: 0.6759\n",
            "Epoch 22/100\n",
            "179/179 [==============================] - 31s 171ms/step - loss: 0.8923 - accuracy: 0.6767 - val_loss: 0.8493 - val_accuracy: 0.6999\n",
            "Epoch 23/100\n",
            "179/179 [==============================] - 30s 170ms/step - loss: 0.8695 - accuracy: 0.6860 - val_loss: 0.8331 - val_accuracy: 0.6990\n",
            "Epoch 24/100\n",
            "179/179 [==============================] - 31s 171ms/step - loss: 0.8590 - accuracy: 0.6915 - val_loss: 0.8357 - val_accuracy: 0.7019\n",
            "Epoch 25/100\n",
            "179/179 [==============================] - 31s 171ms/step - loss: 0.8423 - accuracy: 0.6973 - val_loss: 0.8216 - val_accuracy: 0.7073\n",
            "Epoch 26/100\n",
            "179/179 [==============================] - 30s 169ms/step - loss: 0.8318 - accuracy: 0.7016 - val_loss: 0.8111 - val_accuracy: 0.7075\n",
            "Epoch 27/100\n",
            "179/179 [==============================] - 30s 170ms/step - loss: 0.8118 - accuracy: 0.7092 - val_loss: 0.8349 - val_accuracy: 0.7015\n",
            "Epoch 28/100\n",
            "179/179 [==============================] - 31s 171ms/step - loss: 0.8016 - accuracy: 0.7119 - val_loss: 0.8008 - val_accuracy: 0.7179\n",
            "Epoch 29/100\n",
            "179/179 [==============================] - 30s 170ms/step - loss: 0.7924 - accuracy: 0.7188 - val_loss: 0.7862 - val_accuracy: 0.7280\n",
            "Epoch 30/100\n",
            "179/179 [==============================] - 31s 171ms/step - loss: 0.7828 - accuracy: 0.7208 - val_loss: 0.7859 - val_accuracy: 0.7273\n",
            "Epoch 31/100\n",
            "179/179 [==============================] - 30s 169ms/step - loss: 0.7734 - accuracy: 0.7277 - val_loss: 0.7696 - val_accuracy: 0.7318\n",
            "Epoch 32/100\n",
            "179/179 [==============================] - 30s 170ms/step - loss: 0.7608 - accuracy: 0.7298 - val_loss: 0.7910 - val_accuracy: 0.7252\n",
            "Epoch 33/100\n",
            "179/179 [==============================] - 30s 169ms/step - loss: 0.7554 - accuracy: 0.7335 - val_loss: 0.7560 - val_accuracy: 0.7412\n",
            "Epoch 34/100\n",
            "179/179 [==============================] - 30s 170ms/step - loss: 0.7521 - accuracy: 0.7348 - val_loss: 0.7545 - val_accuracy: 0.7455\n",
            "Epoch 35/100\n",
            "179/179 [==============================] - 30s 168ms/step - loss: 0.7370 - accuracy: 0.7417 - val_loss: 0.7415 - val_accuracy: 0.7449\n",
            "Epoch 36/100\n",
            "179/179 [==============================] - 30s 168ms/step - loss: 0.7192 - accuracy: 0.7452 - val_loss: 0.7352 - val_accuracy: 0.7516\n",
            "Epoch 37/100\n",
            "179/179 [==============================] - 30s 169ms/step - loss: 0.7098 - accuracy: 0.7526 - val_loss: 0.7285 - val_accuracy: 0.7500\n",
            "Epoch 38/100\n",
            "179/179 [==============================] - 30s 169ms/step - loss: 0.7105 - accuracy: 0.7520 - val_loss: 0.7334 - val_accuracy: 0.7466\n",
            "Epoch 39/100\n",
            "179/179 [==============================] - 30s 169ms/step - loss: 0.6988 - accuracy: 0.7568 - val_loss: 0.7171 - val_accuracy: 0.7563\n",
            "Epoch 40/100\n",
            "179/179 [==============================] - 30s 170ms/step - loss: 0.6818 - accuracy: 0.7633 - val_loss: 0.7304 - val_accuracy: 0.7546\n",
            "Epoch 41/100\n",
            "179/179 [==============================] - 30s 169ms/step - loss: 0.6867 - accuracy: 0.7605 - val_loss: 0.7340 - val_accuracy: 0.7566\n",
            "Epoch 42/100\n",
            "179/179 [==============================] - 30s 169ms/step - loss: 0.6791 - accuracy: 0.7652 - val_loss: 0.7230 - val_accuracy: 0.7612\n",
            "Epoch 43/100\n",
            "179/179 [==============================] - 30s 169ms/step - loss: 0.6672 - accuracy: 0.7700 - val_loss: 0.7408 - val_accuracy: 0.7532\n",
            "Epoch 44/100\n",
            "179/179 [==============================] - 31s 171ms/step - loss: 0.6666 - accuracy: 0.7688 - val_loss: 0.7265 - val_accuracy: 0.7655\n",
            "Epoch 45/100\n",
            "179/179 [==============================] - 31s 171ms/step - loss: 0.6534 - accuracy: 0.7739 - val_loss: 0.7274 - val_accuracy: 0.7575\n",
            "Epoch 46/100\n",
            "179/179 [==============================] - 30s 170ms/step - loss: 0.6482 - accuracy: 0.7734 - val_loss: 0.7119 - val_accuracy: 0.7609\n",
            "Epoch 47/100\n",
            "179/179 [==============================] - 30s 168ms/step - loss: 0.6428 - accuracy: 0.7763 - val_loss: 0.6891 - val_accuracy: 0.7703\n",
            "Epoch 48/100\n",
            "179/179 [==============================] - 30s 168ms/step - loss: 0.6346 - accuracy: 0.7793 - val_loss: 0.7051 - val_accuracy: 0.7667\n",
            "Epoch 49/100\n",
            "179/179 [==============================] - 30s 167ms/step - loss: 0.6296 - accuracy: 0.7825 - val_loss: 0.6901 - val_accuracy: 0.7755\n",
            "Epoch 50/100\n",
            "179/179 [==============================] - 30s 168ms/step - loss: 0.6253 - accuracy: 0.7838 - val_loss: 0.6895 - val_accuracy: 0.7730\n",
            "Epoch 51/100\n",
            "179/179 [==============================] - 30s 167ms/step - loss: 0.6224 - accuracy: 0.7871 - val_loss: 0.7114 - val_accuracy: 0.7733\n",
            "Epoch 52/100\n",
            "179/179 [==============================] - 30s 167ms/step - loss: 0.6214 - accuracy: 0.7854 - val_loss: 0.7183 - val_accuracy: 0.7708\n",
            "Epoch 53/100\n",
            "179/179 [==============================] - 30s 167ms/step - loss: 0.6067 - accuracy: 0.7918 - val_loss: 0.6964 - val_accuracy: 0.7770\n",
            "Epoch 54/100\n",
            "179/179 [==============================] - 30s 168ms/step - loss: 0.6059 - accuracy: 0.7943 - val_loss: 0.7002 - val_accuracy: 0.7775\n",
            "Epoch 55/100\n",
            "179/179 [==============================] - 30s 167ms/step - loss: 0.6009 - accuracy: 0.7949 - val_loss: 0.7061 - val_accuracy: 0.7754\n",
            "Epoch 56/100\n",
            "179/179 [==============================] - 30s 168ms/step - loss: 0.5867 - accuracy: 0.7979 - val_loss: 0.7081 - val_accuracy: 0.7777\n",
            "Epoch 57/100\n",
            "179/179 [==============================] - 30s 168ms/step - loss: 0.5876 - accuracy: 0.7984 - val_loss: 0.7159 - val_accuracy: 0.7755\n",
            "Epoch 58/100\n",
            "179/179 [==============================] - 30s 167ms/step - loss: 0.5869 - accuracy: 0.7963 - val_loss: 0.6950 - val_accuracy: 0.7764\n",
            "Epoch 59/100\n",
            "179/179 [==============================] - 30s 167ms/step - loss: 0.5838 - accuracy: 0.8017 - val_loss: 0.7115 - val_accuracy: 0.7801\n",
            "Epoch 60/100\n",
            "179/179 [==============================] - 30s 168ms/step - loss: 0.5706 - accuracy: 0.8058 - val_loss: 0.6697 - val_accuracy: 0.7864\n",
            "Epoch 61/100\n",
            "179/179 [==============================] - 30s 169ms/step - loss: 0.5667 - accuracy: 0.8067 - val_loss: 0.6929 - val_accuracy: 0.7829\n",
            "Epoch 62/100\n",
            "179/179 [==============================] - 30s 167ms/step - loss: 0.5701 - accuracy: 0.8037 - val_loss: 0.6890 - val_accuracy: 0.7852\n",
            "Epoch 63/100\n",
            "179/179 [==============================] - 30s 166ms/step - loss: 0.5724 - accuracy: 0.8050 - val_loss: 0.6626 - val_accuracy: 0.7908\n",
            "Epoch 64/100\n",
            "179/179 [==============================] - 30s 169ms/step - loss: 0.5545 - accuracy: 0.8118 - val_loss: 0.6928 - val_accuracy: 0.7894\n",
            "Epoch 65/100\n",
            "179/179 [==============================] - 30s 167ms/step - loss: 0.5498 - accuracy: 0.8130 - val_loss: 0.7089 - val_accuracy: 0.7826\n",
            "Epoch 66/100\n",
            "179/179 [==============================] - 30s 167ms/step - loss: 0.5437 - accuracy: 0.8154 - val_loss: 0.6988 - val_accuracy: 0.7808\n",
            "Epoch 67/100\n",
            "179/179 [==============================] - 30s 169ms/step - loss: 0.5510 - accuracy: 0.8139 - val_loss: 0.6821 - val_accuracy: 0.7933\n",
            "Epoch 68/100\n",
            "179/179 [==============================] - 30s 168ms/step - loss: 0.5425 - accuracy: 0.8183 - val_loss: 0.6764 - val_accuracy: 0.7918\n",
            "Epoch 69/100\n",
            "179/179 [==============================] - 30s 168ms/step - loss: 0.5433 - accuracy: 0.8163 - val_loss: 0.6959 - val_accuracy: 0.7899\n",
            "Epoch 70/100\n",
            "179/179 [==============================] - 30s 169ms/step - loss: 0.5370 - accuracy: 0.8187 - val_loss: 0.6688 - val_accuracy: 0.7970\n",
            "Epoch 71/100\n",
            "179/179 [==============================] - 30s 170ms/step - loss: 0.5325 - accuracy: 0.8213 - val_loss: 0.6648 - val_accuracy: 0.7943\n",
            "Epoch 72/100\n",
            "179/179 [==============================] - 30s 168ms/step - loss: 0.5317 - accuracy: 0.8215 - val_loss: 0.6724 - val_accuracy: 0.7984\n",
            "Epoch 73/100\n",
            "179/179 [==============================] - 30s 169ms/step - loss: 0.5252 - accuracy: 0.8241 - val_loss: 0.6839 - val_accuracy: 0.7904\n",
            "Epoch 74/100\n",
            "179/179 [==============================] - 30s 168ms/step - loss: 0.5141 - accuracy: 0.8269 - val_loss: 0.6923 - val_accuracy: 0.7889\n",
            "Epoch 75/100\n",
            "179/179 [==============================] - 30s 168ms/step - loss: 0.5146 - accuracy: 0.8273 - val_loss: 0.6702 - val_accuracy: 0.7969\n",
            "Epoch 76/100\n",
            "179/179 [==============================] - 30s 168ms/step - loss: 0.5207 - accuracy: 0.8223 - val_loss: 0.6771 - val_accuracy: 0.7963\n",
            "Epoch 77/100\n",
            "179/179 [==============================] - 30s 168ms/step - loss: 0.5127 - accuracy: 0.8256 - val_loss: 0.6775 - val_accuracy: 0.7898\n",
            "Epoch 78/100\n",
            "179/179 [==============================] - 30s 169ms/step - loss: 0.5175 - accuracy: 0.8268 - val_loss: 0.6772 - val_accuracy: 0.7983\n",
            "Epoch 79/100\n",
            "179/179 [==============================] - 30s 168ms/step - loss: 0.5069 - accuracy: 0.8289 - val_loss: 0.6619 - val_accuracy: 0.7999\n",
            "Epoch 80/100\n",
            "179/179 [==============================] - 30s 168ms/step - loss: 0.4959 - accuracy: 0.8347 - val_loss: 0.6674 - val_accuracy: 0.7982\n",
            "Epoch 81/100\n",
            "179/179 [==============================] - 30s 169ms/step - loss: 0.5067 - accuracy: 0.8306 - val_loss: 0.6488 - val_accuracy: 0.8051\n",
            "Epoch 82/100\n",
            "179/179 [==============================] - 30s 170ms/step - loss: 0.4871 - accuracy: 0.8354 - val_loss: 0.6737 - val_accuracy: 0.8020\n",
            "Epoch 83/100\n",
            "179/179 [==============================] - 30s 168ms/step - loss: 0.4884 - accuracy: 0.8376 - val_loss: 0.6791 - val_accuracy: 0.8019\n",
            "Epoch 84/100\n",
            "179/179 [==============================] - 30s 168ms/step - loss: 0.4836 - accuracy: 0.8367 - val_loss: 0.6974 - val_accuracy: 0.7931\n",
            "Epoch 85/100\n",
            "179/179 [==============================] - 30s 167ms/step - loss: 0.4884 - accuracy: 0.8372 - val_loss: 0.6479 - val_accuracy: 0.8071\n",
            "Epoch 86/100\n",
            "179/179 [==============================] - 30s 168ms/step - loss: 0.4841 - accuracy: 0.8397 - val_loss: 0.6671 - val_accuracy: 0.8041\n",
            "Epoch 87/100\n",
            "179/179 [==============================] - 30s 168ms/step - loss: 0.4833 - accuracy: 0.8389 - val_loss: 0.6608 - val_accuracy: 0.8069\n",
            "Epoch 88/100\n",
            "179/179 [==============================] - 30s 169ms/step - loss: 0.4805 - accuracy: 0.8395 - val_loss: 0.6487 - val_accuracy: 0.8028\n",
            "Epoch 89/100\n",
            "179/179 [==============================] - 30s 169ms/step - loss: 0.4766 - accuracy: 0.8409 - val_loss: 0.6950 - val_accuracy: 0.8011\n",
            "Epoch 90/100\n",
            "179/179 [==============================] - 30s 170ms/step - loss: 0.4694 - accuracy: 0.8444 - val_loss: 0.6628 - val_accuracy: 0.8081\n",
            "Epoch 91/100\n",
            "179/179 [==============================] - 30s 168ms/step - loss: 0.4775 - accuracy: 0.8408 - val_loss: 0.6719 - val_accuracy: 0.8050\n",
            "Epoch 92/100\n",
            "179/179 [==============================] - 30s 167ms/step - loss: 0.4792 - accuracy: 0.8434 - val_loss: 0.6775 - val_accuracy: 0.8015\n",
            "Epoch 93/100\n",
            "179/179 [==============================] - 30s 168ms/step - loss: 0.4640 - accuracy: 0.8450 - val_loss: 0.6985 - val_accuracy: 0.7993\n",
            "Epoch 94/100\n",
            "179/179 [==============================] - 30s 168ms/step - loss: 0.4696 - accuracy: 0.8435 - val_loss: 0.6328 - val_accuracy: 0.8135\n",
            "Epoch 95/100\n",
            "179/179 [==============================] - 30s 167ms/step - loss: 0.4587 - accuracy: 0.8487 - val_loss: 0.6596 - val_accuracy: 0.8089\n",
            "Epoch 96/100\n",
            "179/179 [==============================] - 30s 168ms/step - loss: 0.4496 - accuracy: 0.8516 - val_loss: 0.6903 - val_accuracy: 0.8012\n",
            "Epoch 97/100\n",
            "179/179 [==============================] - 30s 167ms/step - loss: 0.4615 - accuracy: 0.8463 - val_loss: 0.6564 - val_accuracy: 0.8138\n",
            "Epoch 98/100\n",
            "179/179 [==============================] - 30s 166ms/step - loss: 0.4533 - accuracy: 0.8488 - val_loss: 0.6706 - val_accuracy: 0.8039\n",
            "Epoch 99/100\n",
            "179/179 [==============================] - 30s 166ms/step - loss: 0.4503 - accuracy: 0.8497 - val_loss: 0.6723 - val_accuracy: 0.8089\n",
            "Epoch 100/100\n",
            "179/179 [==============================] - 30s 165ms/step - loss: 0.4600 - accuracy: 0.8484 - val_loss: 0.6585 - val_accuracy: 0.8117\n"
          ],
          "name": "stdout"
        }
      ]
    },
    {
      "cell_type": "code",
      "metadata": {
        "colab": {
          "base_uri": "https://localhost:8080/"
        },
        "id": "ofjfReCD-apy",
        "outputId": "9c489952-54fc-4b24-ce9b-613fc2f1a275"
      },
      "source": [
        "score = model_CNN1d.evaluate(x_test, y_test, verbose=1)\n",
        "print('Test loss:', score[0])\n",
        "print('Test accuracy:', score[1])"
      ],
      "execution_count": null,
      "outputs": [
        {
          "output_type": "stream",
          "text": [
            "357/357 [==============================] - 2s 7ms/step - loss: 0.6585 - accuracy: 0.8117\n",
            "Test loss: 0.6585068106651306\n",
            "Test accuracy: 0.8116627335548401\n"
          ],
          "name": "stdout"
        }
      ]
    },
    {
      "cell_type": "markdown",
      "metadata": {
        "id": "c3NNdgPMmXvf"
      },
      "source": [
        "# Plots"
      ]
    },
    {
      "cell_type": "code",
      "metadata": {
        "colab": {
          "base_uri": "https://localhost:8080/"
        },
        "id": "TCbdo4ue-3Wx",
        "outputId": "f48bc1c0-14e4-4e76-f702-4ec3d7193473"
      },
      "source": [
        "# list all data in history\n",
        "print(grpah_model.history.keys())\n",
        "import matplotlib.pyplot as plt\n",
        "import numpy\n"
      ],
      "execution_count": null,
      "outputs": [
        {
          "output_type": "stream",
          "text": [
            "dict_keys(['loss', 'accuracy', 'val_loss', 'val_accuracy'])\n"
          ],
          "name": "stdout"
        }
      ]
    },
    {
      "cell_type": "markdown",
      "metadata": {
        "id": "ioNjkcczm99J"
      },
      "source": [
        "### Epochs vs Accuracy"
      ]
    },
    {
      "cell_type": "code",
      "metadata": {
        "colab": {
          "base_uri": "https://localhost:8080/",
          "height": 294
        },
        "id": "xCKAvMHW-47t",
        "outputId": "5463495c-c57d-4bbb-e0f8-cb25feef5d16"
      },
      "source": [
        "# summarize history for accuracy\n",
        "plt.plot(grpah_model.history['accuracy'])\n",
        "plt.plot(grpah_model.history['val_accuracy'])\n",
        "plt.title('model accuracy')\n",
        "plt.ylabel('accuracy')\n",
        "plt.xlabel('epoch')\n",
        "plt.legend(['train', 'test'], loc='upper left')\n",
        "plt.show()"
      ],
      "execution_count": null,
      "outputs": [
        {
          "output_type": "display_data",
          "data": {
            "image/png": "[encoded data removed]",
            "text/plain": [
              "<Figure size 432x288 with 1 Axes>"
            ]
          },
          "metadata": {
            "tags": [],
            "needs_background": "light"
          }
        }
      ]
    },
    {
      "cell_type": "markdown",
      "metadata": {
        "id": "-VXsHyTMnDMu"
      },
      "source": [
        "### Epochs vs Loss"
      ]
    },
    {
      "cell_type": "code",
      "metadata": {
        "colab": {
          "base_uri": "https://localhost:8080/",
          "height": 294
        },
        "id": "Sy62Y140-6Pi",
        "outputId": "40229907-c11c-47a0-d6f7-e9eb673d6677"
      },
      "source": [
        "# summarize history for loss\n",
        "plt.plot(grpah_model.history['loss'])\n",
        "plt.plot(grpah_model.history['val_loss'])\n",
        "plt.title('model loss')\n",
        "plt.ylabel('loss')\n",
        "plt.xlabel('epoch')\n",
        "plt.legend(['train', 'test'], loc='upper left')\n",
        "plt.show()"
      ],
      "execution_count": null,
      "outputs": [
        {
          "output_type": "display_data",
          "data": {
            "image/png": "[encoded data removed]",
            "text/plain": [
              "<Figure size 432x288 with 1 Axes>"
            ]
          },
          "metadata": {
            "tags": [],
            "needs_background": "light"
          }
        }
      ]
    },
    {
      "cell_type": "code",
      "metadata": {
        "colab": {
          "base_uri": "https://localhost:8080/",
          "height": 294
        },
        "id": "KtVO7OGx-7r3",
        "outputId": "e2357eac-6af7-418c-cca0-e95cddf0b8ff"
      },
      "source": [
        "plt.plot(grpah_model.history['val_accuracy'])\n",
        "plt.plot(grpah_model.history['val_loss'])\n",
        "plt.title('test model')\n",
        "plt.ylabel('test accuracy')\n",
        "plt.xlabel('test loss')\n",
        "plt.show()"
      ],
      "execution_count": null,
      "outputs": [
        {
          "output_type": "display_data",
          "data": {
            "image/png": "[encoded data removed]",
            "text/plain": [
              "<Figure size 432x288 with 1 Axes>"
            ]
          },
          "metadata": {
            "tags": [],
            "needs_background": "light"
          }
        }
      ]
    },
    {
      "cell_type": "markdown",
      "metadata": {
        "id": "XFYLl9GjnIjQ"
      },
      "source": [
        "### Confusion Matrix showing all classes"
      ]
    },
    {
      "cell_type": "code",
      "metadata": {
        "id": "kdSmUfnk-89M"
      },
      "source": [
        "y_pred=model_CNN1d.predict(x_test)\n",
        "from sklearn.metrics import confusion_matrix\n",
        "import numpy as np"
      ],
      "execution_count": null,
      "outputs": []
    },
    {
      "cell_type": "code",
      "metadata": {
        "colab": {
          "base_uri": "https://localhost:8080/",
          "height": 598
        },
        "id": "dVRPjBaq_EJW",
        "outputId": "884fa426-2770-4549-b2b9-ff53382f0b78"
      },
      "source": [
        "y_test[1]\n",
        "y_pred[1]\n",
        "y_test1=np.argmax(y_test, axis=1)\n",
        "y_pred=np.argmax(y_pred,axis=1)\n",
        "cmatrix=confusion_matrix(y_test1, y_pred)\n",
        "import seaborn as sns\n",
        "figure = plt.figure(figsize=(8, 8))\n",
        "sns.heatmap(cmatrix, annot=True,cmap=plt.cm.Blues)\n",
        "plt.tight_layout()\n",
        "plt.ylabel('True label')\n",
        "plt.xlabel('Predicted label')\n",
        "plt.show()"
      ],
      "execution_count": null,
      "outputs": [
        {
          "output_type": "display_data",
          "data": {
            "image/png": "[encoded data removed]",
            "text/plain": [
              "<Figure size 576x576 with 2 Axes>"
            ]
          },
          "metadata": {
            "tags": [],
            "needs_background": "light"
          }
        }
      ]
    },
    {
      "cell_type": "markdown",
      "metadata": {
        "id": "dgYqSAWZCSJp"
      },
      "source": [
        "# ROC Curve"
      ]
    },
    {
      "cell_type": "code",
      "metadata": {
        "id": "gUb1F2mxPMoJ"
      },
      "source": [
        "import numpy as np\n",
        "import matplotlib.pyplot as plt\n",
        "from itertools import cycle\n",
        "\n",
        "from sklearn import svm, datasets\n",
        "from sklearn.metrics import roc_curve, auc\n",
        "from sklearn.model_selection import train_test_split\n",
        "from sklearn.preprocessing import label_binarize\n",
        "from sklearn.multiclass import OneVsRestClassifier\n",
        "from scipy import interp\n",
        "from sklearn.metrics import roc_auc_score"
      ],
      "execution_count": null,
      "outputs": []
    },
    {
      "cell_type": "code",
      "metadata": {
        "colab": {
          "base_uri": "https://localhost:8080/"
        },
        "id": "cYoid7EhNiRg",
        "outputId": "184cf638-be65-48f4-eb71-bc7a512ebcf8"
      },
      "source": [
        "# make probability predictions with the model\n",
        "predictions = model_CNN1d.predict(x_test)\n",
        "# round predictions \n",
        "rounded = [round(x[0]) for x in predictions]\n",
        "rounded = np.array(rounded)\n",
        "rounded.shape"
      ],
      "execution_count": null,
      "outputs": [
        {
          "output_type": "execute_result",
          "data": {
            "text/plain": [
              "(11421,)"
            ]
          },
          "metadata": {
            "tags": []
          },
          "execution_count": 43
        }
      ]
    },
    {
      "cell_type": "code",
      "metadata": {
        "id": "Mk2twYtJNjR0"
      },
      "source": [
        "# make class predictions with the model\n",
        "predictions = model_CNN1d.predict_classes(x_test)"
      ],
      "execution_count": null,
      "outputs": []
    },
    {
      "cell_type": "code",
      "metadata": {
        "colab": {
          "base_uri": "https://localhost:8080/"
        },
        "id": "3wIC8Qd7NlMW",
        "outputId": "f6ef3d21-2a92-4dbf-8fc1-0b0bea40ebeb"
      },
      "source": [
        "temp = label_binarize(predictions,classes = [0,1,2,3,4,5,6,7,8,9] )\n",
        "temp\n",
        "temp1 = label_binarize(y_test,classes = [0,1,2,3,4,5,6,7,8,9] )\n",
        "temp1"
      ],
      "execution_count": null,
      "outputs": [
        {
          "output_type": "execute_result",
          "data": {
            "text/plain": [
              "array([[0, 0, 0, ..., 0, 0, 0],\n",
              "       [0, 0, 0, ..., 0, 0, 0],\n",
              "       [0, 0, 0, ..., 0, 0, 0],\n",
              "       ...,\n",
              "       [0, 0, 1, ..., 0, 0, 0],\n",
              "       [0, 0, 1, ..., 0, 0, 0],\n",
              "       [0, 0, 1, ..., 0, 0, 0]])"
            ]
          },
          "metadata": {
            "tags": []
          },
          "execution_count": 45
        }
      ]
    },
    {
      "cell_type": "code",
      "metadata": {
        "id": "WmItkEGINqfX"
      },
      "source": [
        "false_pr = dict()\n",
        "true_pr = dict()\n",
        "roc_auc = dict()\n",
        "for i in range(classes-1):\n",
        "    false_pr[i], true_pr[i], _ = roc_curve(temp1[:, i], temp[:, i])\n",
        "    roc_auc[i] = auc(false_pr[i], true_pr[i])\n",
        "\n",
        "false_pr[\"micro\"], true_pr[\"micro\"], _ = roc_curve(temp1.ravel(), temp.ravel())\n",
        "roc_auc[\"micro\"] = auc(false_pr[\"micro\"], true_pr[\"micro\"])"
      ],
      "execution_count": null,
      "outputs": []
    },
    {
      "cell_type": "code",
      "metadata": {
        "id": "avWhkUrWNyAG"
      },
      "source": [
        "classes = classes  -1\n",
        "lw = 2"
      ],
      "execution_count": null,
      "outputs": []
    },
    {
      "cell_type": "code",
      "metadata": {
        "colab": {
          "base_uri": "https://localhost:8080/",
          "height": 294
        },
        "id": "mskFQBdhN0Wh",
        "outputId": "f3e6f6ee-d01f-47a2-f4e1-6dcd8b97e2c6"
      },
      "source": [
        "combined_fpr = np.unique(np.concatenate([false_pr[i] for i in range(classes)]))\n",
        "\n",
        "# Then interpolate all ROC curves at this points\n",
        "average_tpr = np.zeros_like(combined_fpr)\n",
        "for i in range(classes):\n",
        "    average_tpr += interp(combined_fpr, false_pr[i], true_pr[i])\n",
        "\n",
        "average_tpr /= (classes)\n",
        "\n",
        "false_pr[\"macro\"] = combined_fpr\n",
        "true_pr[\"macro\"] = average_tpr\n",
        "roc_auc[\"macro\"] = auc(false_pr[\"macro\"], true_pr[\"macro\"])\n",
        "\n",
        "# Plot all ROC curves\n",
        "plt.figure()\n",
        "plt.plot(false_pr[\"micro\"], true_pr[\"micro\"],\n",
        "         label='micro-average (area = {0:0.2f})'\n",
        "               ''.format(roc_auc[\"micro\"]),\n",
        "         color='deeppink', linestyle=':', linewidth=4)\n",
        "\n",
        "plt.plot(false_pr[\"macro\"], true_pr[\"macro\"],\n",
        "         label='macro-average(area = {0:0.2f})'\n",
        "               ''.format(roc_auc[\"macro\"]),\n",
        "         color='navy', linestyle=':', linewidth=4)\n",
        "\n",
        "colors = cycle(['aqua', 'darkorange', 'cornflowerblue'])\n",
        "for i, color in zip(range(classes), colors):\n",
        "    plt.plot(false_pr[i], true_pr[i], color=color, lw=lw,\n",
        "             label='ROC curve of class {0} (area = {1:0.2f})'\n",
        "             ''.format(i, roc_auc[i]))\n",
        "\n",
        "plt.plot([0, 1], [0, 1], 'k--', lw=lw)\n",
        "plt.xlim([0.0, 1.0])\n",
        "plt.ylim([0.0, 1.05])\n",
        "plt.xlabel('False Positive Rate')\n",
        "plt.ylabel('True Positive Rate')\n",
        "plt.title('Multi-class ROC')\n",
        "plt.legend(loc=\"lower right\")\n",
        "plt.show()"
      ],
      "execution_count": null,
      "outputs": [
        {
          "output_type": "display_data",
          "data": {
            "image/png": "[encoded data removed]",
            "text/plain": [
              "<Figure size 432x288 with 1 Axes>"
            ]
          },
          "metadata": {
            "tags": [],
            "needs_background": "light"
          }
        }
      ]
    },
    {
      "cell_type": "code",
      "metadata": {
        "colab": {
          "base_uri": "https://localhost:8080/"
        },
        "id": "TJg4ErmdN383",
        "outputId": "d6a0c535-724b-4369-e02c-653630e15e8d"
      },
      "source": [
        "cm = cmatrix\n",
        "cm"
      ],
      "execution_count": null,
      "outputs": [
        {
          "output_type": "execute_result",
          "data": {
            "text/plain": [
              "array([[1319,   24,   27,    1,   30,    8,   31,   12,  208],\n",
              "       [  19,  477,   37,    6,   29,    3,    7,    7,    2],\n",
              "       [   7,   12,  517,    7,    9,   10,   13,    8,    3],\n",
              "       [   1,    3,   35,  533,   39,   14,   24,   33,    1],\n",
              "       [  49,   26,   42,   59, 1603,   79,   45,   25,   23],\n",
              "       [  31,    4,   26,   24,   71, 1801,  128,   12,   50],\n",
              "       [  57,   16,   54,   24,   52,  104, 1460,   23,  165],\n",
              "       [  14,    9,   14,    8,   15,    6,   14,  555,   47],\n",
              "       [  94,    1,   16,    0,    3,    1,   28,   22, 1005]])"
            ]
          },
          "metadata": {
            "tags": []
          },
          "execution_count": 49
        }
      ]
    },
    {
      "cell_type": "code",
      "metadata": {
        "id": "Y8h8Ae82N5si"
      },
      "source": [
        "recall = np.diag(cm) / np.sum(cm, axis = 1)\n",
        "precision = np.diag(cm) / np.sum(cm, axis = 0)"
      ],
      "execution_count": null,
      "outputs": []
    },
    {
      "cell_type": "code",
      "metadata": {
        "colab": {
          "base_uri": "https://localhost:8080/"
        },
        "id": "I0lqzoHhN6MQ",
        "outputId": "491f69a6-8d92-44a8-fce2-d3877054975d"
      },
      "source": [
        "print(\"Recall\",np.nanmean(recall))\n",
        "print(\"{Recall}\",np.nanmean(precision))"
      ],
      "execution_count": null,
      "outputs": [
        {
          "output_type": "stream",
          "text": [
            "Recall 0.8166503636146643\n",
            "Recall 0.7994447873680731\n"
          ],
          "name": "stdout"
        }
      ]
    }
  ]
}