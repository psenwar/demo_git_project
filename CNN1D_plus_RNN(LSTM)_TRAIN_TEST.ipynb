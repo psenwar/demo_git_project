{
  "nbformat": 4,
  "nbformat_minor": 0,
  "metadata": {
    "colab": {
      "name": "CNN1D_plus_RNN(LSTM)_TRAIN_TEST.ipynb",
      "provenance": [],
      "collapsed_sections": []
    },
    "kernelspec": {
      "name": "python3",
      "display_name": "Python 3"
    },
    "language_info": {
      "name": "python"
    },
    "accelerator": "TPU"
  },
  "cells": [
    {
      "cell_type": "code",
      "metadata": {
        "colab": {
          "base_uri": "https://localhost:8080/"
        },
        "id": "hMEJnaiM8LRF",
        "outputId": "be682a1a-0ac8-4c18-c858-3e787624d4c8"
      },
      "source": [
        "!pip install git+https://github.com/forrestbao/pyeeg.git\n",
        "\n",
        "import pandas as pd\n",
        "import keras.backend as K\n",
        "import numpy as np\n",
        "import pandas as pd\n",
        "import pyeeg as pe\n",
        "import pickle as pickle\n",
        "import math\n",
        "from sklearn import svm\n",
        "from sklearn.preprocessing import normalize\n",
        "\n",
        "import os\n",
        "import time"
      ],
      "execution_count": null,
      "outputs": [
        {
          "output_type": "stream",
          "text": [
            "Collecting git+https://github.com/forrestbao/pyeeg.git\n",
            "  Cloning https://github.com/forrestbao/pyeeg.git to /tmp/pip-req-build-d9o4jby0\n",
            "  Running command git clone -q https://github.com/forrestbao/pyeeg.git /tmp/pip-req-build-d9o4jby0\n",
            "Requirement already satisfied: numpy>=1.9.2 in /usr/local/lib/python3.7/dist-packages (from pyeeg==0.4.4) (1.19.5)\n",
            "Building wheels for collected packages: pyeeg\n",
            "  Building wheel for pyeeg (setup.py) ... \u001b[?25l\u001b[?25hdone\n",
            "  Created wheel for pyeeg: filename=pyeeg-0.4.4-py2.py3-none-any.whl size=28123 sha256=c3684606ad4177e00e8036b3fd811b6858c2acc24347ffde2af3c798a8cb24eb\n",
            "  Stored in directory: /tmp/pip-ephem-wheel-cache-59g5vbtw/wheels/2d/3f/ad/106d4fc80b61d1ea1fc18e76e7439fd98aa043d83d58eae741\n",
            "Successfully built pyeeg\n",
            "Installing collected packages: pyeeg\n",
            "Successfully installed pyeeg-0.4.4\n"
          ],
          "name": "stdout"
        }
      ]
    },
    {
      "cell_type": "code",
      "metadata": {
        "id": "Urne3a1N8cOw"
      },
      "source": [
        "import keras\n",
        "from keras.models import Sequential\n",
        "from keras.layers import Dense, Dropout, Flatten\n",
        "from keras.layers.convolutional import Convolution1D, MaxPooling1D, ZeroPadding1D,Conv1D\n",
        "from keras.models import Sequential\n",
        "from keras.utils import to_categorical \n",
        "\n",
        "from keras.models import Model\n",
        "import timeit\n",
        "from keras.optimizers import SGD\n",
        "\n",
        "import warnings\n",
        "warnings.filterwarnings('ignore')"
      ],
      "execution_count": null,
      "outputs": []
    },
    {
      "cell_type": "code",
      "metadata": {
        "colab": {
          "base_uri": "https://localhost:8080/"
        },
        "id": "meCnfLQI8j5t",
        "outputId": "1f03c2c6-3b0a-400d-89a4-605482246e30"
      },
      "source": [
        "from google.colab import drive\n",
        "drive.mount('/content/drive/')"
      ],
      "execution_count": null,
      "outputs": [
        {
          "output_type": "stream",
          "text": [
            "Mounted at /content/drive/\n"
          ],
          "name": "stdout"
        }
      ]
    },
    {
      "cell_type": "markdown",
      "metadata": {
        "id": "o0S7ZRRtqH6b"
      },
      "source": [
        "# Opening data"
      ]
    },
    {
      "cell_type": "code",
      "metadata": {
        "id": "zOEOQSX997zs"
      },
      "source": [
        "with open('/content/drive/MyDrive/Colab Notebooks/DEAP  - saved/data_training.npy', 'rb') as fileX_training:\n",
        "    X_train  = np.load(fileX_training)\n",
        "    \n",
        "with open('/content/drive/MyDrive/Colab Notebooks/DEAP  - saved/label_training.npy', 'rb') as fileY_training:\n",
        "    Y_train  = np.load(fileY_training)   \n"
      ],
      "execution_count": null,
      "outputs": []
    },
    {
      "cell_type": "code",
      "metadata": {
        "id": "hbCH-KI9Ox4B"
      },
      "source": [
        "X_train = normalize(X_train)\n",
        "Z_train = np.ravel(Y_train[:, [3]])\n",
        "#labels\n",
        "train_arousal = np.ravel(Y_train[:, [0]])\n",
        "train_valence = np.ravel(Y_train[:, [1]])\n",
        "train_dominance = np.ravel(Y_train[:, [2]])\n",
        "train_liking = np.ravel(Y_train[:, [3]])"
      ],
      "execution_count": null,
      "outputs": []
    },
    {
      "cell_type": "code",
      "metadata": {
        "id": "4EzCRkCO98Qy"
      },
      "source": [
        "from keras.utils import to_categorical\n",
        "y_train = to_categorical(Z_train)\n",
        "x_train = np.array(X_train[:])"
      ],
      "execution_count": null,
      "outputs": []
    },
    {
      "cell_type": "code",
      "metadata": {
        "id": "zCvT3HHF8mJt"
      },
      "source": [
        "with open('/content/drive/MyDrive/Colab Notebooks/DEAP  - saved/data_testing.npy', 'rb') as fileX_training:\n",
        "    X_test  = np.load(fileX_training)\n",
        "    \n",
        "with open('/content/drive/MyDrive/Colab Notebooks/DEAP  - saved/label_testing.npy', 'rb') as fileY_training:\n",
        "    Y_test  = np.load(fileY_training)\n"
      ],
      "execution_count": null,
      "outputs": []
    },
    {
      "cell_type": "code",
      "metadata": {
        "id": "b8yjRoB18xnj"
      },
      "source": [
        "X_test = normalize(X_test)\n",
        "Z_test = np.ravel(Y_test[:, [3]])\n",
        "\n",
        "test_arousal = np.ravel(Y_test[:, [0]])\n",
        "test_valence = np.ravel(Y_test[:, [1]])\n",
        "test_dominance = np.ravel(Y_test[:, [2]])\n",
        "test_liking = np.ravel(Y_test[:, [3]])"
      ],
      "execution_count": null,
      "outputs": []
    },
    {
      "cell_type": "code",
      "metadata": {
        "id": "MChoh7b6O9jw"
      },
      "source": [
        "x_test = np.array(X_test[:])"
      ],
      "execution_count": null,
      "outputs": []
    },
    {
      "cell_type": "code",
      "metadata": {
        "colab": {
          "base_uri": "https://localhost:8080/"
        },
        "id": "k5suXVhN9UsL",
        "outputId": "9d359402-1311-4c0c-de3a-46aa25f0e8d2"
      },
      "source": [
        "from keras.utils import to_categorical\n",
        "y_test = to_categorical(Z_test)\n",
        "y_test"
      ],
      "execution_count": null,
      "outputs": [
        {
          "output_type": "execute_result",
          "data": {
            "text/plain": [
              "array([[0., 0., 0., ..., 0., 0., 0.],\n",
              "       [0., 0., 0., ..., 0., 0., 0.],\n",
              "       [0., 0., 0., ..., 0., 0., 0.],\n",
              "       ...,\n",
              "       [0., 0., 1., ..., 0., 0., 0.],\n",
              "       [0., 0., 1., ..., 0., 0., 0.],\n",
              "       [0., 0., 1., ..., 0., 0., 0.]], dtype=float32)"
            ]
          },
          "metadata": {
            "tags": []
          },
          "execution_count": 7
        }
      ]
    },
    {
      "cell_type": "code",
      "metadata": {
        "colab": {
          "base_uri": "https://localhost:8080/"
        },
        "id": "BjYWsyDs9WMz",
        "outputId": "a0c92bcf-a4c5-4be5-a8dc-17eadc5e299b"
      },
      "source": [
        "y_test[1]"
      ],
      "execution_count": null,
      "outputs": [
        {
          "output_type": "execute_result",
          "data": {
            "text/plain": [
              "array([0., 0., 0., 0., 0., 0., 1., 0., 0., 0.], dtype=float32)"
            ]
          },
          "metadata": {
            "tags": []
          },
          "execution_count": 8
        }
      ]
    },
    {
      "cell_type": "code",
      "metadata": {
        "id": "WvQGHIGo9X5V"
      },
      "source": [
        "from sklearn.preprocessing import StandardScaler\n",
        "temp = StandardScaler()\n",
        "x_train = temp.fit_transform(x_train)\n",
        "x_test = temp.fit_transform(x_test)"
      ],
      "execution_count": null,
      "outputs": []
    },
    {
      "cell_type": "code",
      "metadata": {
        "colab": {
          "base_uri": "https://localhost:8080/"
        },
        "id": "PB74mc2wa-Eg",
        "outputId": "49c66d28-52b1-4485-c6b7-6615a12bdd86"
      },
      "source": [
        "x_train = x_train.reshape(x_train.shape[0],x_train.shape[1], 1)\n",
        "x_test = x_test.reshape(x_test.shape[0],x_test.shape[1], 1)\n",
        "classes = 10\n",
        "shape=(x_train.shape[1], 1)\n",
        "print(shape)"
      ],
      "execution_count": null,
      "outputs": [
        {
          "output_type": "stream",
          "text": [
            "(70, 1)\n"
          ],
          "name": "stdout"
        }
      ]
    },
    {
      "cell_type": "markdown",
      "metadata": {
        "id": "LakY1Tmgqa1Q"
      },
      "source": [
        "# CNN + RNN model"
      ]
    },
    {
      "cell_type": "code",
      "metadata": {
        "colab": {
          "base_uri": "https://localhost:8080/"
        },
        "id": "WUo3Q5gL9ZWs",
        "outputId": "ea8f2bde-4c95-4a50-dbeb-8076d98b730f"
      },
      "source": [
        "\n",
        "from keras.layers import Convolution2D, ZeroPadding2D, MaxPooling2D, BatchNormalization, Activation, Dropout, Flatten, Dense\n",
        "from keras.regularizers import l2\n",
        "from keras.layers import Bidirectional\n",
        "from keras.layers import LSTM\n",
        "\n",
        "\n",
        "model_mix = Sequential()\n",
        "\n",
        "# Using CNN layers\n",
        "model_mix.add(Conv1D(128, kernel_size=3,padding = 'same',activation='relu',input_shape=shape))\n",
        "model_mix.add(BatchNormalization())\n",
        "model_mix.add(MaxPooling1D(pool_size=(2)))\n",
        "\n",
        "model_mix.add(Conv1D(128,kernel_size=(3),padding = 'same', activation='relu'))\n",
        "model_mix.add(BatchNormalization())\n",
        "model_mix.add(MaxPooling1D(pool_size=(2)))\n",
        "\n",
        "# Using RNN(LSTM) layers\n",
        "model_mix.add(Bidirectional(LSTM(128, return_sequences=True), input_shape=input_shape))\n",
        "model_mix.add(Dropout(0.6))\n",
        "\n",
        "model_mix.add(LSTM(units = 256, return_sequences = True))  \n",
        "model.add(Dropout(0.6))\n",
        "\n",
        "model_mix.add(LSTM(units = 64, return_sequences = True))  \n",
        "model_mix.add(Dropout(0.6))\n",
        "\n",
        "model_mix.add(Flatten())\n",
        "\n",
        "# simple dense layers\n",
        "model_mix.add(Dense(64, activation='relu'))\n",
        "model_mix.add(Dropout(0.2))\n",
        "model_mix.add(Dense(32, activation='relu'))\n",
        "model_mix.add(Dropout(0.2))\n",
        "model_mix.add(Dense(16, activation='relu'))\n",
        "model_mix.add(Dropout(0.2))\n",
        "model_mix.add(Dense(num_classes, activation='softmax'))\n",
        "model_mix.summary()\n",
        "\n"
      ],
      "execution_count": null,
      "outputs": [
        {
          "output_type": "stream",
          "text": [
            "Model: \"sequential\"\n",
            "_________________________________________________________________\n",
            "Layer (type)                 Output Shape              Param #   \n",
            "=================================================================\n",
            "conv1d (Conv1D)              (None, 70, 128)           512       \n",
            "_________________________________________________________________\n",
            "batch_normalization (BatchNo (None, 70, 128)           512       \n",
            "_________________________________________________________________\n",
            "max_pooling1d (MaxPooling1D) (None, 35, 128)           0         \n",
            "_________________________________________________________________\n",
            "conv1d_1 (Conv1D)            (None, 35, 128)           49280     \n",
            "_________________________________________________________________\n",
            "batch_normalization_1 (Batch (None, 35, 128)           512       \n",
            "_________________________________________________________________\n",
            "max_pooling1d_1 (MaxPooling1 (None, 17, 128)           0         \n",
            "_________________________________________________________________\n",
            "bidirectional (Bidirectional (None, 17, 256)           263168    \n",
            "_________________________________________________________________\n",
            "dropout (Dropout)            (None, 17, 256)           0         \n",
            "_________________________________________________________________\n",
            "lstm_1 (LSTM)                (None, 17, 256)           525312    \n",
            "_________________________________________________________________\n",
            "dropout_1 (Dropout)          (None, 17, 256)           0         \n",
            "_________________________________________________________________\n",
            "lstm_2 (LSTM)                (None, 17, 64)            82176     \n",
            "_________________________________________________________________\n",
            "dropout_2 (Dropout)          (None, 17, 64)            0         \n",
            "_________________________________________________________________\n",
            "flatten (Flatten)            (None, 1088)              0         \n",
            "_________________________________________________________________\n",
            "dense (Dense)                (None, 64)                69696     \n",
            "_________________________________________________________________\n",
            "dropout_3 (Dropout)          (None, 64)                0         \n",
            "_________________________________________________________________\n",
            "dense_1 (Dense)              (None, 32)                2080      \n",
            "_________________________________________________________________\n",
            "dropout_4 (Dropout)          (None, 32)                0         \n",
            "_________________________________________________________________\n",
            "dense_2 (Dense)              (None, 16)                528       \n",
            "_________________________________________________________________\n",
            "dropout_5 (Dropout)          (None, 16)                0         \n",
            "_________________________________________________________________\n",
            "dense_3 (Dense)              (None, 10)                170       \n",
            "=================================================================\n",
            "Total params: 993,946\n",
            "Trainable params: 993,434\n",
            "Non-trainable params: 512\n",
            "_________________________________________________________________\n"
          ],
          "name": "stdout"
        }
      ]
    },
    {
      "cell_type": "code",
      "metadata": {
        "id": "ZUTOCoa89s16"
      },
      "source": [
        "model_mix.compile(loss=keras.losses.categorical_crossentropy,\n",
        "              optimizer='adam',\n",
        "              metrics=['accuracy'])"
      ],
      "execution_count": null,
      "outputs": []
    },
    {
      "cell_type": "code",
      "metadata": {
        "id": "gGubhgmG-Wp6"
      },
      "source": [
        "iter = 50"
      ],
      "execution_count": null,
      "outputs": []
    },
    {
      "cell_type": "code",
      "metadata": {
        "colab": {
          "base_uri": "https://localhost:8080/"
        },
        "id": "2rceX5oy9uCb",
        "outputId": "9a6d3736-bbd1-4414-cbe9-e64dcfa2ec7b"
      },
      "source": [
        "\n",
        "m=model_mix.fit(x_train, y_train,batch_size=batch_size,epochs=epochs,  verbose=1,validation_data=(x_test,y_test))"
      ],
      "execution_count": null,
      "outputs": [
        {
          "output_type": "stream",
          "text": [
            "Epoch 1/50\n",
            "179/179 [==============================] - 150s 798ms/step - loss: 2.0826 - accuracy: 0.2186 - val_loss: 2.3097 - val_accuracy: 0.2080\n",
            "Epoch 2/50\n",
            "179/179 [==============================] - 141s 790ms/step - loss: 1.7726 - accuracy: 0.2998 - val_loss: 1.7185 - val_accuracy: 0.3207\n",
            "Epoch 3/50\n",
            "179/179 [==============================] - 142s 792ms/step - loss: 1.6858 - accuracy: 0.3259 - val_loss: 1.5861 - val_accuracy: 0.3627\n",
            "Epoch 4/50\n",
            "179/179 [==============================] - 145s 808ms/step - loss: 1.6082 - accuracy: 0.3674 - val_loss: 1.5002 - val_accuracy: 0.4037\n",
            "Epoch 5/50\n",
            "179/179 [==============================] - 145s 808ms/step - loss: 1.5625 - accuracy: 0.3845 - val_loss: 1.4612 - val_accuracy: 0.4149\n",
            "Epoch 6/50\n",
            "179/179 [==============================] - 144s 807ms/step - loss: 1.5129 - accuracy: 0.4013 - val_loss: 1.4157 - val_accuracy: 0.4393\n",
            "Epoch 7/50\n",
            "179/179 [==============================] - 144s 807ms/step - loss: 1.4615 - accuracy: 0.4245 - val_loss: 1.3479 - val_accuracy: 0.4634\n",
            "Epoch 8/50\n",
            "179/179 [==============================] - 143s 799ms/step - loss: 1.4301 - accuracy: 0.4432 - val_loss: 1.2988 - val_accuracy: 0.4883\n",
            "Epoch 9/50\n",
            "179/179 [==============================] - 143s 802ms/step - loss: 1.3763 - accuracy: 0.4677 - val_loss: 1.3204 - val_accuracy: 0.4880\n",
            "Epoch 10/50\n",
            "179/179 [==============================] - 143s 800ms/step - loss: 1.3438 - accuracy: 0.4833 - val_loss: 1.2760 - val_accuracy: 0.5153\n",
            "Epoch 11/50\n",
            "179/179 [==============================] - 143s 801ms/step - loss: 1.2977 - accuracy: 0.5127 - val_loss: 1.1810 - val_accuracy: 0.5519\n",
            "Epoch 12/50\n",
            "179/179 [==============================] - 143s 800ms/step - loss: 1.2414 - accuracy: 0.5343 - val_loss: 1.1356 - val_accuracy: 0.5718\n",
            "Epoch 13/50\n",
            "179/179 [==============================] - 141s 787ms/step - loss: 1.1883 - accuracy: 0.5599 - val_loss: 1.1037 - val_accuracy: 0.5935\n",
            "Epoch 14/50\n",
            "179/179 [==============================] - 140s 784ms/step - loss: 1.1411 - accuracy: 0.5792 - val_loss: 1.0638 - val_accuracy: 0.6034\n",
            "Epoch 15/50\n",
            "179/179 [==============================] - 141s 787ms/step - loss: 1.1042 - accuracy: 0.5982 - val_loss: 1.0002 - val_accuracy: 0.6319\n",
            "Epoch 16/50\n",
            "179/179 [==============================] - 140s 784ms/step - loss: 1.0597 - accuracy: 0.6135 - val_loss: 0.9711 - val_accuracy: 0.6443\n",
            "Epoch 17/50\n",
            "179/179 [==============================] - 141s 789ms/step - loss: 1.0061 - accuracy: 0.6407 - val_loss: 0.9594 - val_accuracy: 0.6538\n",
            "Epoch 18/50\n",
            "179/179 [==============================] - 140s 784ms/step - loss: 0.9606 - accuracy: 0.6592 - val_loss: 0.9577 - val_accuracy: 0.6594\n",
            "Epoch 19/50\n",
            "179/179 [==============================] - 140s 783ms/step - loss: 0.9342 - accuracy: 0.6719 - val_loss: 0.8847 - val_accuracy: 0.6870\n",
            "Epoch 20/50\n",
            "179/179 [==============================] - 140s 785ms/step - loss: 0.8855 - accuracy: 0.6898 - val_loss: 0.9082 - val_accuracy: 0.6908\n",
            "Epoch 21/50\n",
            "179/179 [==============================] - 140s 782ms/step - loss: 0.8562 - accuracy: 0.7034 - val_loss: 0.8789 - val_accuracy: 0.7094\n",
            "Epoch 22/50\n",
            "179/179 [==============================] - 140s 783ms/step - loss: 0.8355 - accuracy: 0.7144 - val_loss: 0.8344 - val_accuracy: 0.7166\n",
            "Epoch 23/50\n",
            "179/179 [==============================] - 140s 783ms/step - loss: 0.7844 - accuracy: 0.7290 - val_loss: 0.8250 - val_accuracy: 0.7310\n",
            "Epoch 24/50\n",
            "179/179 [==============================] - 140s 783ms/step - loss: 0.7679 - accuracy: 0.7379 - val_loss: 0.7709 - val_accuracy: 0.7428\n",
            "Epoch 25/50\n",
            "179/179 [==============================] - 140s 784ms/step - loss: 0.7276 - accuracy: 0.7570 - val_loss: 0.7623 - val_accuracy: 0.7576\n",
            "Epoch 26/50\n",
            "179/179 [==============================] - 140s 783ms/step - loss: 0.7074 - accuracy: 0.7604 - val_loss: 0.7633 - val_accuracy: 0.7595\n",
            "Epoch 27/50\n",
            "179/179 [==============================] - 141s 789ms/step - loss: 0.6866 - accuracy: 0.7694 - val_loss: 0.7855 - val_accuracy: 0.7546\n",
            "Epoch 28/50\n",
            "179/179 [==============================] - 141s 788ms/step - loss: 0.6668 - accuracy: 0.7789 - val_loss: 0.7238 - val_accuracy: 0.7745\n",
            "Epoch 29/50\n",
            "179/179 [==============================] - 143s 798ms/step - loss: 0.6375 - accuracy: 0.7859 - val_loss: 0.7225 - val_accuracy: 0.7844\n",
            "Epoch 30/50\n",
            "179/179 [==============================] - 143s 800ms/step - loss: 0.6160 - accuracy: 0.7994 - val_loss: 0.7470 - val_accuracy: 0.7684\n",
            "Epoch 31/50\n",
            "179/179 [==============================] - 140s 784ms/step - loss: 0.5939 - accuracy: 0.8045 - val_loss: 0.7671 - val_accuracy: 0.7709\n",
            "Epoch 32/50\n",
            "179/179 [==============================] - 141s 787ms/step - loss: 0.5810 - accuracy: 0.8095 - val_loss: 0.7206 - val_accuracy: 0.7906\n",
            "Epoch 33/50\n",
            "179/179 [==============================] - 141s 785ms/step - loss: 0.5458 - accuracy: 0.8232 - val_loss: 0.6992 - val_accuracy: 0.7943\n",
            "Epoch 34/50\n",
            "179/179 [==============================] - 140s 784ms/step - loss: 0.5437 - accuracy: 0.8250 - val_loss: 0.7557 - val_accuracy: 0.7917\n",
            "Epoch 35/50\n",
            "179/179 [==============================] - 140s 784ms/step - loss: 0.5269 - accuracy: 0.8291 - val_loss: 0.6695 - val_accuracy: 0.8117\n",
            "Epoch 36/50\n",
            "179/179 [==============================] - 140s 783ms/step - loss: 0.4895 - accuracy: 0.8435 - val_loss: 0.6660 - val_accuracy: 0.8130\n",
            "Epoch 37/50\n",
            "179/179 [==============================] - 141s 787ms/step - loss: 0.4823 - accuracy: 0.8476 - val_loss: 0.6913 - val_accuracy: 0.8058\n",
            "Epoch 38/50\n",
            "179/179 [==============================] - 141s 786ms/step - loss: 0.4771 - accuracy: 0.8483 - val_loss: 0.7056 - val_accuracy: 0.8029\n",
            "Epoch 39/50\n",
            "179/179 [==============================] - 141s 786ms/step - loss: 0.4523 - accuracy: 0.8590 - val_loss: 0.6880 - val_accuracy: 0.8167\n",
            "Epoch 40/50\n",
            "179/179 [==============================] - 145s 808ms/step - loss: 0.4461 - accuracy: 0.8610 - val_loss: 0.6922 - val_accuracy: 0.8169\n",
            "Epoch 41/50\n",
            "179/179 [==============================] - 145s 812ms/step - loss: 0.4373 - accuracy: 0.8633 - val_loss: 0.7558 - val_accuracy: 0.8127\n",
            "Epoch 42/50\n",
            "179/179 [==============================] - 145s 810ms/step - loss: 0.4284 - accuracy: 0.8677 - val_loss: 0.6976 - val_accuracy: 0.8244\n",
            "Epoch 43/50\n",
            "179/179 [==============================] - 145s 809ms/step - loss: 0.4064 - accuracy: 0.8734 - val_loss: 0.6593 - val_accuracy: 0.8231\n",
            "Epoch 44/50\n",
            "179/179 [==============================] - 145s 810ms/step - loss: 0.4150 - accuracy: 0.8683 - val_loss: 0.6608 - val_accuracy: 0.8265\n",
            "Epoch 45/50\n",
            "179/179 [==============================] - 143s 796ms/step - loss: 0.3914 - accuracy: 0.8794 - val_loss: 0.7116 - val_accuracy: 0.8202\n",
            "Epoch 46/50\n",
            "179/179 [==============================] - 142s 796ms/step - loss: 0.3761 - accuracy: 0.8849 - val_loss: 0.7479 - val_accuracy: 0.8203\n",
            "Epoch 47/50\n",
            "179/179 [==============================] - 142s 794ms/step - loss: 0.3815 - accuracy: 0.8827 - val_loss: 0.6324 - val_accuracy: 0.8360\n",
            "Epoch 48/50\n",
            "179/179 [==============================] - 143s 800ms/step - loss: 0.3537 - accuracy: 0.8923 - val_loss: 0.7143 - val_accuracy: 0.8252\n",
            "Epoch 49/50\n",
            "179/179 [==============================] - 143s 798ms/step - loss: 0.3548 - accuracy: 0.8922 - val_loss: 0.6888 - val_accuracy: 0.8353\n",
            "Epoch 50/50\n",
            "179/179 [==============================] - 143s 801ms/step - loss: 0.3604 - accuracy: 0.8894 - val_loss: 0.7081 - val_accuracy: 0.8307\n"
          ],
          "name": "stdout"
        }
      ]
    },
    {
      "cell_type": "code",
      "metadata": {
        "id": "ofjfReCD-apy",
        "colab": {
          "base_uri": "https://localhost:8080/"
        },
        "outputId": "b288890d-1d65-4916-cba0-092aaf9af317"
      },
      "source": [
        "model_score = model_mix.evaluate(x_test, y_test, verbose=1)\n",
        "print('Test loss:', model_score[0])\n",
        "print('Test accuracy:', model_score[1])"
      ],
      "execution_count": null,
      "outputs": [
        {
          "output_type": "stream",
          "text": [
            "357/357 [==============================] - 16s 46ms/step - loss: 0.7081 - accuracy: 0.8307\n",
            "Test loss: 0.7081303596496582\n",
            "Test accuracy: 0.8306627869606018\n"
          ],
          "name": "stdout"
        }
      ]
    },
    {
      "cell_type": "code",
      "metadata": {
        "colab": {
          "base_uri": "https://localhost:8080/"
        },
        "id": "TCbdo4ue-3Wx",
        "outputId": "452a9c84-0994-42a2-983e-821e80d0b5d8"
      },
      "source": [
        "# list all data in history\n",
        "print(m.history.keys())\n",
        "import matplotlib.pyplot as plt\n",
        "import numpy\n"
      ],
      "execution_count": null,
      "outputs": [
        {
          "output_type": "stream",
          "text": [
            "dict_keys(['loss', 'accuracy', 'val_loss', 'val_accuracy'])\n"
          ],
          "name": "stdout"
        }
      ]
    },
    {
      "cell_type": "code",
      "metadata": {
        "colab": {
          "base_uri": "https://localhost:8080/",
          "height": 295
        },
        "id": "xCKAvMHW-47t",
        "outputId": "738dbbf6-a9f5-440c-fc06-fa5ae9777ac2"
      },
      "source": [
        "# summarize history for accuracy\n",
        "plt.plot(m.history['accuracy'])\n",
        "plt.plot(m.history['val_accuracy'])\n",
        "plt.title('model accuracy')\n",
        "plt.ylabel('accuracy')\n",
        "plt.xlabel('epoch')\n",
        "plt.legend(['train', 'test'], loc='upper left')\n",
        "plt.show()"
      ],
      "execution_count": null,
      "outputs": [
        {
          "output_type": "display_data",
          "data": {
            "image/png": "[encoded data removed]",
            "text/plain": [
              "<Figure size 432x288 with 1 Axes>"
            ]
          },
          "metadata": {
            "tags": [],
            "needs_background": "light"
          }
        }
      ]
    },
    {
      "cell_type": "code",
      "metadata": {
        "colab": {
          "base_uri": "https://localhost:8080/",
          "height": 295
        },
        "id": "Sy62Y140-6Pi",
        "outputId": "7b5d3384-3ad0-409e-eb5e-98710751a641"
      },
      "source": [
        "# summarize history for loss\n",
        "plt.plot(m.history['loss'])\n",
        "plt.plot(m.history['val_loss'])\n",
        "plt.title('model loss')\n",
        "plt.ylabel('loss')\n",
        "plt.xlabel('epoch')\n",
        "plt.legend(['train', 'test'], loc='upper left')\n",
        "plt.show()"
      ],
      "execution_count": null,
      "outputs": [
        {
          "output_type": "display_data",
          "data": {
            "image/png": "[encoded data removed]",
            "text/plain": [
              "<Figure size 432x288 with 1 Axes>"
            ]
          },
          "metadata": {
            "tags": [],
            "needs_background": "light"
          }
        }
      ]
    },
    {
      "cell_type": "code",
      "metadata": {
        "colab": {
          "base_uri": "https://localhost:8080/",
          "height": 295
        },
        "id": "KtVO7OGx-7r3",
        "outputId": "80f09827-9742-4445-d2a5-1c51b7a28935"
      },
      "source": [
        "plt.plot(m.history['val_accuracy'])\n",
        "plt.plot(m.history['val_loss'])\n",
        "plt.title('test model')\n",
        "plt.ylabel('test accuracy')\n",
        "plt.xlabel('test loss')\n",
        "plt.show()"
      ],
      "execution_count": null,
      "outputs": [
        {
          "output_type": "display_data",
          "data": {
            "image/png": "[encoded data removed]",
            "text/plain": [
              "<Figure size 432x288 with 1 Axes>"
            ]
          },
          "metadata": {
            "tags": [],
            "needs_background": "light"
          }
        }
      ]
    },
    {
      "cell_type": "code",
      "metadata": {
        "id": "kdSmUfnk-89M"
      },
      "source": [
        "y_pred=model_mix.predict(x_test)\n",
        "from sklearn.metrics import confusion_matrix\n",
        "import numpy as np"
      ],
      "execution_count": null,
      "outputs": []
    },
    {
      "cell_type": "code",
      "metadata": {
        "colab": {
          "base_uri": "https://localhost:8080/",
          "height": 599
        },
        "id": "dVRPjBaq_EJW",
        "outputId": "22f49bd7-46a8-435a-bd89-2ec6375b9560"
      },
      "source": [
        "y_test[1]\n",
        "y_pred[1]\n",
        "y_test1=np.argmax(y_test, axis=1)\n",
        "y_pred=np.argmax(y_pred,axis=1)\n",
        "cmatrix=confusion_matrix(y_test1, y_pred)\n",
        "import seaborn as sns\n",
        "figure = plt.figure(figsize=(8, 8))\n",
        "sns.heatmap(cmatrix, annot=True,cmap=plt.cm.Blues)\n",
        "plt.tight_layout()\n",
        "plt.ylabel('True label')\n",
        "plt.xlabel('Predicted label')\n",
        "plt.show()"
      ],
      "execution_count": null,
      "outputs": [
        {
          "output_type": "display_data",
          "data": {
            "image/png": "[encoded data removed]",
            "text/plain": [
              "<Figure size 576x576 with 2 Axes>"
            ]
          },
          "metadata": {
            "tags": [],
            "needs_background": "light"
          }
        }
      ]
    },
    {
      "cell_type": "markdown",
      "metadata": {
        "id": "dgYqSAWZCSJp"
      },
      "source": [
        "# ROC Curve"
      ]
    },
    {
      "cell_type": "code",
      "metadata": {
        "id": "gUb1F2mxPMoJ"
      },
      "source": [
        "import numpy as np\n",
        "import matplotlib.pyplot as plt\n",
        "from itertools import cycle\n",
        "\n",
        "from sklearn import svm, datasets\n",
        "from sklearn.metrics import roc_curve, auc\n",
        "from sklearn.model_selection import train_test_split\n",
        "from sklearn.preprocessing import label_binarize\n",
        "from sklearn.multiclass import OneVsRestClassifier\n",
        "from scipy import interp\n",
        "from sklearn.metrics import roc_auc_score"
      ],
      "execution_count": null,
      "outputs": []
    },
    {
      "cell_type": "code",
      "metadata": {
        "colab": {
          "base_uri": "https://localhost:8080/"
        },
        "id": "cYoid7EhNiRg",
        "outputId": "809e0281-9543-4b8e-e73c-036a535b4669"
      },
      "source": [
        "# make probability predictions with the model\n",
        "predictions = model_mix.predict(x_test)\n",
        "# round predictions \n",
        "rounded = [round(x[0]) for x in predictions]\n",
        "rounded = np.array(rounded)\n",
        "rounded.shape"
      ],
      "execution_count": null,
      "outputs": [
        {
          "output_type": "execute_result",
          "data": {
            "text/plain": [
              "(11421,)"
            ]
          },
          "metadata": {
            "tags": []
          },
          "execution_count": 24
        }
      ]
    },
    {
      "cell_type": "code",
      "metadata": {
        "id": "Mk2twYtJNjR0"
      },
      "source": [
        "# make class predictions with the model\n",
        "predictions = model_mix.predict_classes(x_test)"
      ],
      "execution_count": null,
      "outputs": []
    },
    {
      "cell_type": "code",
      "metadata": {
        "colab": {
          "base_uri": "https://localhost:8080/"
        },
        "id": "3wIC8Qd7NlMW",
        "outputId": "875fe3cc-3a0f-4287-87a2-733851ab58e8"
      },
      "source": [
        "temp = label_binarize(predictions,classes = [0,1,2,3,4,5,6,7,8,9] )\n",
        "temp\n",
        "temp1 = label_binarize(y_test,classes = [0,1,2,3,4,5,6,7,8,9] )\n",
        "temp1"
      ],
      "execution_count": null,
      "outputs": [
        {
          "output_type": "execute_result",
          "data": {
            "text/plain": [
              "array([[0, 0, 0, ..., 0, 0, 0],\n",
              "       [0, 0, 0, ..., 0, 0, 0],\n",
              "       [0, 0, 0, ..., 0, 0, 0],\n",
              "       ...,\n",
              "       [0, 0, 1, ..., 0, 0, 0],\n",
              "       [0, 0, 1, ..., 0, 0, 0],\n",
              "       [0, 0, 1, ..., 0, 0, 0]])"
            ]
          },
          "metadata": {
            "tags": []
          },
          "execution_count": 26
        }
      ]
    },
    {
      "cell_type": "code",
      "metadata": {
        "id": "PhUXy9D-NnmP"
      },
      "source": [
        "\n"
      ],
      "execution_count": null,
      "outputs": []
    },
    {
      "cell_type": "code",
      "metadata": {
        "id": "WmItkEGINqfX"
      },
      "source": [
        "false_pr = dict()\n",
        "true_pr = dict()\n",
        "roc_auc = dict()\n",
        "for i in range(classes-1):\n",
        "    false_pr[i], true_pr[i], _ = roc_curve(temp1[:, i], temp[:, i])\n",
        "    roc_auc[i] = auc(false_pr[i], true_pr[i])\n",
        "\n",
        "false_pr[\"micro\"], true_pr[\"micro\"], _ = roc_curve(temp1.ravel(), temp.ravel())\n",
        "roc_auc[\"micro\"] = auc(false_pr[\"micro\"], true_pr[\"micro\"])"
      ],
      "execution_count": null,
      "outputs": []
    },
    {
      "cell_type": "code",
      "metadata": {
        "id": "avWhkUrWNyAG"
      },
      "source": [
        "classes = classes  -1\n",
        "lw = 2"
      ],
      "execution_count": null,
      "outputs": []
    },
    {
      "cell_type": "code",
      "metadata": {
        "colab": {
          "base_uri": "https://localhost:8080/",
          "height": 295
        },
        "id": "mskFQBdhN0Wh",
        "outputId": "e4eff832-024d-4566-fe4c-5e7931dc0ef9"
      },
      "source": [
        "combined_fpr = np.unique(np.concatenate([false_pr[i] for i in range(classes)]))\n",
        "\n",
        "# Then interpolate all ROC curves at this points\n",
        "average_tpr = np.zeros_like(combined_fpr)\n",
        "for i in range(classes):\n",
        "    average_tpr += interp(combined_fpr, false_pr[i], true_pr[i])\n",
        "\n",
        "average_tpr /= (classes)\n",
        "\n",
        "false_pr[\"macro\"] = combined_fpr\n",
        "true_pr[\"macro\"] = average_tpr\n",
        "roc_auc[\"macro\"] = auc(false_pr[\"macro\"], true_pr[\"macro\"])\n",
        "\n",
        "# Plot all ROC curves\n",
        "plt.figure()\n",
        "plt.plot(false_pr[\"micro\"], true_pr[\"micro\"],\n",
        "         label='micro-average (area = {0:0.2f})'\n",
        "               ''.format(roc_auc[\"micro\"]),\n",
        "         color='deeppink', linestyle=':', linewidth=4)\n",
        "\n",
        "plt.plot(false_pr[\"macro\"], true_pr[\"macro\"],\n",
        "         label='macro-average(area = {0:0.2f})'\n",
        "               ''.format(roc_auc[\"macro\"]),\n",
        "         color='navy', linestyle=':', linewidth=4)\n",
        "\n",
        "colors = cycle(['aqua', 'darkorange', 'cornflowerblue'])\n",
        "for i, color in zip(range(classes), colors):\n",
        "    plt.plot(false_pr[i], true_pr[i], color=color, lw=lw,\n",
        "             label='ROC curve of class {0} (area = {1:0.2f})'\n",
        "             ''.format(i, roc_auc[i]))\n",
        "\n",
        "plt.plot([0, 1], [0, 1], 'k--', lw=lw)\n",
        "plt.xlim([0.0, 1.0])\n",
        "plt.ylim([0.0, 1.05])\n",
        "plt.xlabel('False Positive Rate')\n",
        "plt.ylabel('True Positive Rate')\n",
        "plt.title('Multi-class ROC')\n",
        "plt.legend(loc=\"lower right\")\n",
        "plt.show()"
      ],
      "execution_count": null,
      "outputs": [
        {
          "output_type": "display_data",
          "data": {
            "image/png": "[encoded data removed]",
            "text/plain": [
              "<Figure size 432x288 with 1 Axes>"
            ]
          },
          "metadata": {
            "tags": [],
            "needs_background": "light"
          }
        }
      ]
    },
    {
      "cell_type": "code",
      "metadata": {
        "colab": {
          "base_uri": "https://localhost:8080/"
        },
        "id": "TJg4ErmdN383",
        "outputId": "07eb581b-fabe-4490-b100-1067ffb8370d"
      },
      "source": [
        "cm = cmatrix\n",
        "cm"
      ],
      "execution_count": null,
      "outputs": [
        {
          "output_type": "execute_result",
          "data": {
            "text/plain": [
              "array([[1360,   77,   16,    4,   33,   22,   41,   20,   87],\n",
              "       [  10,  501,   20,    5,   24,    5,   12,    9,    1],\n",
              "       [  13,   11,  504,   14,   13,   14,    6,    8,    3],\n",
              "       [   1,    6,   23,  584,   25,   16,   18,   10,    0],\n",
              "       [  35,   22,   13,   37, 1714,   50,   30,   30,   20],\n",
              "       [  32,    8,   13,   32,   80, 1870,   62,   26,   24],\n",
              "       [  86,   12,   19,   40,   89,  113, 1489,   26,   81],\n",
              "       [  18,    7,    5,    7,   29,    9,   11,  562,   34],\n",
              "       [ 153,    5,    4,    0,   12,   21,   42,   30,  903]])"
            ]
          },
          "metadata": {
            "tags": []
          },
          "execution_count": 30
        }
      ]
    },
    {
      "cell_type": "code",
      "metadata": {
        "id": "Y8h8Ae82N5si"
      },
      "source": [
        "recall = np.diag(cm) / np.sum(cm, axis = 1)\n",
        "precision = np.diag(cm) / np.sum(cm, axis = 0)"
      ],
      "execution_count": null,
      "outputs": []
    },
    {
      "cell_type": "code",
      "metadata": {
        "colab": {
          "base_uri": "https://localhost:8080/"
        },
        "id": "I0lqzoHhN6MQ",
        "outputId": "dab71532-fe7c-4466-fd3c-2a3494a12cc8"
      },
      "source": [
        "print(\"Recall\",np.nanmean(recall))\n",
        "print(\"Recall\",np.nanmean(precision))"
      ],
      "execution_count": null,
      "outputs": [
        {
          "output_type": "stream",
          "text": [
            "Recall 0.8327637964525618\n",
            "Recall 0.8174133586415757\n"
          ],
          "name": "stdout"
        }
      ]
    },
    {
      "cell_type": "code",
      "metadata": {
        "id": "UaII3YeyOOVg"
      },
      "source": [
        ""
      ],
      "execution_count": null,
      "outputs": []
    }
  ]
}