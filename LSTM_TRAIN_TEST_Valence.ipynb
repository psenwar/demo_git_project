{
  "nbformat": 4,
  "nbformat_minor": 0,
  "metadata": {
    "colab": {
      "name": "Valence - LSTM_TRAIN_TEST.ipynb",
      "provenance": [],
      "collapsed_sections": []
    },
    "kernelspec": {
      "name": "python3",
      "display_name": "Python 3"
    },
    "language_info": {
      "name": "python"
    },
    "accelerator": "GPU"
  },
  "cells": [
    {
      "cell_type": "code",
      "metadata": {
        "colab": {
          "base_uri": "https://localhost:8080/"
        },
        "id": "hMEJnaiM8LRF",
        "outputId": "33de2057-07f3-4ac5-c80d-3220e14651e0"
      },
      "source": [
        "!pip install git+https://github.com/forrestbao/pyeeg.git\n",
        "\n",
        "import pandas as pd\n",
        "import keras.backend as K\n",
        "import numpy as np\n",
        "import pandas as pd\n",
        "import pyeeg as pe\n",
        "import pickle as pickle\n",
        "import math\n",
        "from sklearn import svm\n",
        "from sklearn.preprocessing import normalize\n",
        "\n",
        "import os\n",
        "import time"
      ],
      "execution_count": 1,
      "outputs": [
        {
          "output_type": "stream",
          "text": [
            "Collecting git+https://github.com/forrestbao/pyeeg.git\n",
            "  Cloning https://github.com/forrestbao/pyeeg.git to /tmp/pip-req-build-fxftf4ez\n",
            "  Running command git clone -q https://github.com/forrestbao/pyeeg.git /tmp/pip-req-build-fxftf4ez\n",
            "Requirement already satisfied: numpy>=1.9.2 in /usr/local/lib/python3.7/dist-packages (from pyeeg==0.4.4) (1.19.5)\n",
            "Building wheels for collected packages: pyeeg\n",
            "  Building wheel for pyeeg (setup.py) ... \u001b[?25l\u001b[?25hdone\n",
            "  Created wheel for pyeeg: filename=pyeeg-0.4.4-py2.py3-none-any.whl size=28123 sha256=8704acf1b431ebb04a91056127fbc4cef04ad8f819da395c7356a0bedcf7659f\n",
            "  Stored in directory: /tmp/pip-ephem-wheel-cache-6_om9w4x/wheels/2d/3f/ad/106d4fc80b61d1ea1fc18e76e7439fd98aa043d83d58eae741\n",
            "Successfully built pyeeg\n",
            "Installing collected packages: pyeeg\n",
            "Successfully installed pyeeg-0.4.4\n"
          ],
          "name": "stdout"
        }
      ]
    },
    {
      "cell_type": "code",
      "metadata": {
        "id": "7hPp6xZHHPb7"
      },
      "source": [
        "import keras\n",
        "from keras.models import Sequential\n",
        "from keras.layers import Dense, Dropout, Flatten\n",
        "from keras.layers.convolutional import Convolution1D, MaxPooling1D, ZeroPadding1D,Conv1D\n",
        "from keras.models import Sequential\n",
        "from keras.utils import to_categorical \n",
        "\n",
        "from keras.models import Model\n",
        "import timeit\n",
        "from keras.optimizers import SGD\n",
        "\n",
        "import warnings\n",
        "warnings.filterwarnings('ignore')"
      ],
      "execution_count": 2,
      "outputs": []
    },
    {
      "cell_type": "code",
      "metadata": {
        "colab": {
          "base_uri": "https://localhost:8080/"
        },
        "id": "meCnfLQI8j5t",
        "outputId": "8f43b9e2-11cd-4e98-8bfc-9570aed6b76c"
      },
      "source": [
        "from google.colab import drive\n",
        "drive.mount('/content/drive/')"
      ],
      "execution_count": 3,
      "outputs": [
        {
          "output_type": "stream",
          "text": [
            "Mounted at /content/drive/\n"
          ],
          "name": "stdout"
        }
      ]
    },
    {
      "cell_type": "markdown",
      "metadata": {
        "id": "fYSMRMRvpVZ4"
      },
      "source": [
        "# Opening Data"
      ]
    },
    {
      "cell_type": "code",
      "metadata": {
        "id": "dgYqSAWZCSJp"
      },
      "source": [
        "with open('/content/drive/MyDrive/Colab Notebooks/DEAP  - saved/data_training.npy', 'rb') as fileX_training:\n",
        "    X_train  = np.load(fileX_training)\n",
        "    \n",
        "with open('/content/drive/MyDrive/Colab Notebooks/DEAP  - saved/label_training.npy', 'rb') as fileY_training:\n",
        "    Y_train  = np.load(fileY_training)  \n",
        "    "
      ],
      "execution_count": 4,
      "outputs": []
    },
    {
      "cell_type": "code",
      "metadata": {
        "id": "OPFQg_m4HUFv"
      },
      "source": [
        "X_train = normalize(X_train)\n",
        "Z_train = np.ravel(Y_train[:, [1]])  # valence\n",
        "#labels\n",
        "train_arousal = np.ravel(Y_train[:, [0]])\n",
        "train_valence = np.ravel(Y_train[:, [1]])\n",
        "train_dominance = np.ravel(Y_train[:, [2]])\n",
        "train_liking = np.ravel(Y_train[:, [3]])"
      ],
      "execution_count": 5,
      "outputs": []
    },
    {
      "cell_type": "code",
      "metadata": {
        "colab": {
          "base_uri": "https://localhost:8080/"
        },
        "id": "KcPd3OWnidBg",
        "outputId": "c26a4ce7-c892-4040-b53f-68709c0516e3"
      },
      "source": [
        "X_train.shape\n"
      ],
      "execution_count": 6,
      "outputs": [
        {
          "output_type": "execute_result",
          "data": {
            "text/plain": [
              "(45675, 70)"
            ]
          },
          "metadata": {
            "tags": []
          },
          "execution_count": 6
        }
      ]
    },
    {
      "cell_type": "code",
      "metadata": {
        "id": "UXd5ycaWifvl"
      },
      "source": [
        "\n",
        "from keras.utils import to_categorical\n",
        "y_train = to_categorical(Z_train)\n",
        "x_train = np.array(X_train[:])"
      ],
      "execution_count": 7,
      "outputs": []
    },
    {
      "cell_type": "code",
      "metadata": {
        "colab": {
          "base_uri": "https://localhost:8080/"
        },
        "id": "6gFWtyimlfaY",
        "outputId": "9844b806-7001-4e95-80cc-89b07a43c38a"
      },
      "source": [
        "print(y_train.shape)"
      ],
      "execution_count": 8,
      "outputs": [
        {
          "output_type": "stream",
          "text": [
            "(45675, 10)\n"
          ],
          "name": "stdout"
        }
      ]
    },
    {
      "cell_type": "code",
      "metadata": {
        "colab": {
          "base_uri": "https://localhost:8080/"
        },
        "id": "QVPlZa1Gtlv2",
        "outputId": "b5f4630b-fe98-4d5b-ff6f-9e66f8adce9d"
      },
      "source": [
        "np.unique(x_train)"
      ],
      "execution_count": 9,
      "outputs": [
        {
          "output_type": "execute_result",
          "data": {
            "text/plain": [
              "array([0.00170486, 0.00171934, 0.00194255, ..., 0.58262048, 0.58395395,\n",
              "       0.58488571])"
            ]
          },
          "metadata": {
            "tags": []
          },
          "execution_count": 9
        }
      ]
    },
    {
      "cell_type": "code",
      "metadata": {
        "id": "j8CXLLEwjDip"
      },
      "source": [
        "\n",
        "with open('/content/drive/MyDrive/Colab Notebooks/DEAP  - saved/data_testing.npy', 'rb') as fileX_training:\n",
        "    X_test  = np.load(fileX_training)\n",
        "    \n",
        "with open('/content/drive/MyDrive/Colab Notebooks/DEAP  - saved/label_testing.npy', 'rb') as fileY_training:\n",
        "    Y_test  = np.load(fileY_training)"
      ],
      "execution_count": 10,
      "outputs": []
    },
    {
      "cell_type": "code",
      "metadata": {
        "id": "ewJHfSTqHkC-"
      },
      "source": [
        "X_test = normalize(X_test)\n",
        "Z_test = np.ravel(Y_test[:, [1]]) # valence\n",
        "\n",
        "test_arousal = np.ravel(Y_test[:, [0]])\n",
        "test_valence = np.ravel(Y_test[:, [1]])\n",
        "test_dominance = np.ravel(Y_test[:, [2]])\n",
        "test_liking = np.ravel(Y_test[:, [3]])"
      ],
      "execution_count": 11,
      "outputs": []
    },
    {
      "cell_type": "code",
      "metadata": {
        "id": "VjoqTiYCjF5O"
      },
      "source": [
        "x_test = np.array(X_test[:])"
      ],
      "execution_count": 12,
      "outputs": []
    },
    {
      "cell_type": "code",
      "metadata": {
        "colab": {
          "base_uri": "https://localhost:8080/"
        },
        "id": "1YHlDSiCjPcR",
        "outputId": "8836d4a5-be3d-4512-fcea-0a1ff4353fdc"
      },
      "source": [
        "from keras.utils import to_categorical\n",
        "y_test = to_categorical(Z_test)\n",
        "y_test"
      ],
      "execution_count": 13,
      "outputs": [
        {
          "output_type": "execute_result",
          "data": {
            "text/plain": [
              "array([[0., 0., 0., ..., 0., 0., 0.],\n",
              "       [0., 0., 0., ..., 0., 0., 0.],\n",
              "       [0., 0., 0., ..., 0., 0., 0.],\n",
              "       ...,\n",
              "       [0., 0., 1., ..., 0., 0., 0.],\n",
              "       [0., 0., 1., ..., 0., 0., 0.],\n",
              "       [0., 0., 1., ..., 0., 0., 0.]], dtype=float32)"
            ]
          },
          "metadata": {
            "tags": []
          },
          "execution_count": 13
        }
      ]
    },
    {
      "cell_type": "code",
      "metadata": {
        "colab": {
          "base_uri": "https://localhost:8080/"
        },
        "id": "toseolMZtwbI",
        "outputId": "78e1f49c-e568-4a49-bf6f-0d0739193780"
      },
      "source": [
        "y_test.shape"
      ],
      "execution_count": 14,
      "outputs": [
        {
          "output_type": "execute_result",
          "data": {
            "text/plain": [
              "(11421, 10)"
            ]
          },
          "metadata": {
            "tags": []
          },
          "execution_count": 14
        }
      ]
    },
    {
      "cell_type": "code",
      "metadata": {
        "id": "jrnmpH4hjRSI"
      },
      "source": [
        "\n",
        "from sklearn.preprocessing import StandardScaler\n",
        "temp = StandardScaler()\n",
        "x_train = temp.fit_transform(x_train)\n",
        "x_test = temp.fit_transform(x_test)"
      ],
      "execution_count": 15,
      "outputs": []
    },
    {
      "cell_type": "code",
      "metadata": {
        "id": "wGwLidjNjVXt"
      },
      "source": [
        "x_train = x_train.reshape(x_train.shape[0],x_train.shape[1], 1)\n",
        "x_test = x_test.reshape(x_test.shape[0],x_test.shape[1], 1)"
      ],
      "execution_count": 16,
      "outputs": []
    },
    {
      "cell_type": "code",
      "metadata": {
        "colab": {
          "base_uri": "https://localhost:8080/"
        },
        "id": "Llr_tHbfjXdh",
        "outputId": "1ef84a90-a068-40ca-c162-7aff2ae18b87"
      },
      "source": [
        "x_train.shape\n"
      ],
      "execution_count": 17,
      "outputs": [
        {
          "output_type": "execute_result",
          "data": {
            "text/plain": [
              "(45675, 70, 1)"
            ]
          },
          "metadata": {
            "tags": []
          },
          "execution_count": 17
        }
      ]
    },
    {
      "cell_type": "code",
      "metadata": {
        "id": "1QD05io8jY1H"
      },
      "source": [
        "classes = 10\n",
        "iter = 100\n",
        "shape=(x_train.shape[1], 1)"
      ],
      "execution_count": 20,
      "outputs": []
    },
    {
      "cell_type": "code",
      "metadata": {
        "colab": {
          "base_uri": "https://localhost:8080/"
        },
        "id": "pnLXwCDmjasi",
        "outputId": "65e4db79-31c2-42ac-bc38-ce2e87726785"
      },
      "source": [
        "print(shape)\n"
      ],
      "execution_count": 21,
      "outputs": [
        {
          "output_type": "stream",
          "text": [
            "(70, 1)\n"
          ],
          "name": "stdout"
        }
      ]
    },
    {
      "cell_type": "markdown",
      "metadata": {
        "id": "5dDkKeTRpZfL"
      },
      "source": [
        "# Building LSTM Model"
      ]
    },
    {
      "cell_type": "code",
      "metadata": {
        "id": "aAhDpL33jeg7"
      },
      "source": [
        "from keras.layers import Convolution1D, ZeroPadding1D, MaxPooling1D, BatchNormalization, Activation, Dropout, Flatten, Dense\n",
        "from keras.regularizers import l2"
      ],
      "execution_count": 22,
      "outputs": []
    },
    {
      "cell_type": "code",
      "metadata": {
        "colab": {
          "base_uri": "https://localhost:8080/"
        },
        "id": "Z0_znTo5jgyf",
        "outputId": "5f62b25d-4745-468e-ce96-cc74ba684429"
      },
      "source": [
        "  from keras.layers import Bidirectional\n",
        "  from keras.layers import LSTM\n",
        "\n",
        "  model_LSTM = Sequential()\n",
        " # Bidirection lstm layer\n",
        "  model_LSTM.add(Bidirectional(LSTM(128, return_sequences=True), input_shape=shape))\n",
        "  model_LSTM.add(Dropout(0.5))\n",
        "# simple one directional lstm layer\n",
        "  model_LSTM.add(LSTM(units = 256, return_sequences = True))  \n",
        "  model_LSTM.add(Dropout(0.4))\n",
        "\n",
        "  model_LSTM.add(LSTM(units = 64, return_sequences = True))  \n",
        "  model_LSTM.add(Dropout(0.5))\n",
        "\n",
        "  model_LSTM.add(LSTM(units = 64, return_sequences = True))  \n",
        "  model_LSTM.add(Dropout(0.2))\n",
        "\n",
        "  model_LSTM.add(Flatten())\n",
        "\n",
        "# At the end adding some dense layer\n",
        "  model_LSTM.add(Dense(units = 16))\n",
        "  model_LSTM.add(Activation('relu'))\n",
        "\n",
        "  model_LSTM.add(Dense(units = classes))\n",
        "  model_LSTM.add(Activation('softmax'))\n",
        "  model_LSTM.compile(optimizer =\"adam\", loss =keras.losses.categorical_crossentropy,metrics=[\"accuracy\"])\n",
        "  model_LSTM.summary()\n"
      ],
      "execution_count": 23,
      "outputs": [
        {
          "output_type": "stream",
          "text": [
            "Model: \"sequential\"\n",
            "_________________________________________________________________\n",
            "Layer (type)                 Output Shape              Param #   \n",
            "=================================================================\n",
            "bidirectional (Bidirectional (None, 70, 256)           133120    \n",
            "_________________________________________________________________\n",
            "dropout (Dropout)            (None, 70, 256)           0         \n",
            "_________________________________________________________________\n",
            "lstm_1 (LSTM)                (None, 70, 256)           525312    \n",
            "_________________________________________________________________\n",
            "dropout_1 (Dropout)          (None, 70, 256)           0         \n",
            "_________________________________________________________________\n",
            "lstm_2 (LSTM)                (None, 70, 64)            82176     \n",
            "_________________________________________________________________\n",
            "dropout_2 (Dropout)          (None, 70, 64)            0         \n",
            "_________________________________________________________________\n",
            "lstm_3 (LSTM)                (None, 70, 64)            33024     \n",
            "_________________________________________________________________\n",
            "dropout_3 (Dropout)          (None, 70, 64)            0         \n",
            "_________________________________________________________________\n",
            "flatten (Flatten)            (None, 4480)              0         \n",
            "_________________________________________________________________\n",
            "dense (Dense)                (None, 16)                71696     \n",
            "_________________________________________________________________\n",
            "activation (Activation)      (None, 16)                0         \n",
            "_________________________________________________________________\n",
            "dense_1 (Dense)              (None, 10)                170       \n",
            "_________________________________________________________________\n",
            "activation_1 (Activation)    (None, 10)                0         \n",
            "=================================================================\n",
            "Total params: 845,498\n",
            "Trainable params: 845,498\n",
            "Non-trainable params: 0\n",
            "_________________________________________________________________\n"
          ],
          "name": "stdout"
        }
      ]
    },
    {
      "cell_type": "code",
      "metadata": {
        "colab": {
          "base_uri": "https://localhost:8080/"
        },
        "id": "UO8qzjuLji6z",
        "outputId": "6c535b26-9a43-49dd-bec3-59e310218338"
      },
      "source": [
        "  m=model_LSTM.fit(x_train, y_train,epochs=iter,batch_size=256,verbose=1,validation_data=(x_test, y_test))"
      ],
      "execution_count": 24,
      "outputs": [
        {
          "output_type": "stream",
          "text": [
            "Epoch 1/100\n",
            "179/179 [==============================] - 63s 147ms/step - loss: 2.0097 - accuracy: 0.2624 - val_loss: 1.8741 - val_accuracy: 0.2945\n",
            "Epoch 2/100\n",
            "179/179 [==============================] - 24s 135ms/step - loss: 1.8710 - accuracy: 0.2931 - val_loss: 1.8454 - val_accuracy: 0.2857\n",
            "Epoch 3/100\n",
            "179/179 [==============================] - 24s 135ms/step - loss: 1.8431 - accuracy: 0.2963 - val_loss: 1.8242 - val_accuracy: 0.3079\n",
            "Epoch 4/100\n",
            "179/179 [==============================] - 24s 134ms/step - loss: 1.8230 - accuracy: 0.3045 - val_loss: 1.8030 - val_accuracy: 0.3142\n",
            "Epoch 5/100\n",
            "179/179 [==============================] - 24s 135ms/step - loss: 1.8047 - accuracy: 0.3115 - val_loss: 1.7762 - val_accuracy: 0.3236\n",
            "Epoch 6/100\n",
            "179/179 [==============================] - 24s 135ms/step - loss: 1.7849 - accuracy: 0.3203 - val_loss: 1.7489 - val_accuracy: 0.3376\n",
            "Epoch 7/100\n",
            "179/179 [==============================] - 24s 135ms/step - loss: 1.7710 - accuracy: 0.3303 - val_loss: 1.7403 - val_accuracy: 0.3423\n",
            "Epoch 8/100\n",
            "179/179 [==============================] - 24s 135ms/step - loss: 1.7495 - accuracy: 0.3364 - val_loss: 1.6754 - val_accuracy: 0.3678\n",
            "Epoch 9/100\n",
            "179/179 [==============================] - 24s 135ms/step - loss: 1.7074 - accuracy: 0.3536 - val_loss: 1.6716 - val_accuracy: 0.3679\n",
            "Epoch 10/100\n",
            "179/179 [==============================] - 24s 135ms/step - loss: 1.6885 - accuracy: 0.3620 - val_loss: 1.6364 - val_accuracy: 0.3891\n",
            "Epoch 11/100\n",
            "179/179 [==============================] - 24s 134ms/step - loss: 1.6595 - accuracy: 0.3797 - val_loss: 1.5842 - val_accuracy: 0.4037\n",
            "Epoch 12/100\n",
            "179/179 [==============================] - 24s 134ms/step - loss: 1.6365 - accuracy: 0.3802 - val_loss: 1.5509 - val_accuracy: 0.4213\n",
            "Epoch 13/100\n",
            "179/179 [==============================] - 24s 134ms/step - loss: 1.5960 - accuracy: 0.4007 - val_loss: 1.5386 - val_accuracy: 0.4225\n",
            "Epoch 14/100\n",
            "179/179 [==============================] - 24s 134ms/step - loss: 1.5609 - accuracy: 0.4140 - val_loss: 1.4929 - val_accuracy: 0.4451\n",
            "Epoch 15/100\n",
            "179/179 [==============================] - 24s 134ms/step - loss: 1.5269 - accuracy: 0.4289 - val_loss: 1.4311 - val_accuracy: 0.4763\n",
            "Epoch 16/100\n",
            "179/179 [==============================] - 24s 134ms/step - loss: 1.4966 - accuracy: 0.4427 - val_loss: 1.4071 - val_accuracy: 0.4808\n",
            "Epoch 17/100\n",
            "179/179 [==============================] - 24s 134ms/step - loss: 1.4551 - accuracy: 0.4586 - val_loss: 1.3634 - val_accuracy: 0.4985\n",
            "Epoch 18/100\n",
            "179/179 [==============================] - 24s 134ms/step - loss: 1.4210 - accuracy: 0.4752 - val_loss: 1.3043 - val_accuracy: 0.5253\n",
            "Epoch 19/100\n",
            "179/179 [==============================] - 24s 135ms/step - loss: 1.3756 - accuracy: 0.4958 - val_loss: 1.2827 - val_accuracy: 0.5366\n",
            "Epoch 20/100\n",
            "179/179 [==============================] - 24s 135ms/step - loss: 1.3331 - accuracy: 0.5078 - val_loss: 1.2149 - val_accuracy: 0.5590\n",
            "Epoch 21/100\n",
            "179/179 [==============================] - 24s 135ms/step - loss: 1.2850 - accuracy: 0.5275 - val_loss: 1.1775 - val_accuracy: 0.5756\n",
            "Epoch 22/100\n",
            "179/179 [==============================] - 24s 135ms/step - loss: 1.2472 - accuracy: 0.5444 - val_loss: 1.1680 - val_accuracy: 0.5780\n",
            "Epoch 23/100\n",
            "179/179 [==============================] - 24s 135ms/step - loss: 1.2261 - accuracy: 0.5533 - val_loss: 1.0995 - val_accuracy: 0.6074\n",
            "Epoch 24/100\n",
            "179/179 [==============================] - 24s 135ms/step - loss: 1.1849 - accuracy: 0.5661 - val_loss: 1.0854 - val_accuracy: 0.6090\n",
            "Epoch 25/100\n",
            "179/179 [==============================] - 24s 135ms/step - loss: 1.1392 - accuracy: 0.5849 - val_loss: 1.0349 - val_accuracy: 0.6337\n",
            "Epoch 26/100\n",
            "179/179 [==============================] - 24s 135ms/step - loss: 1.0989 - accuracy: 0.6034 - val_loss: 1.0138 - val_accuracy: 0.6451\n",
            "Epoch 27/100\n",
            "179/179 [==============================] - 24s 135ms/step - loss: 1.0736 - accuracy: 0.6113 - val_loss: 0.9980 - val_accuracy: 0.6463\n",
            "Epoch 28/100\n",
            "179/179 [==============================] - 24s 135ms/step - loss: 1.0490 - accuracy: 0.6212 - val_loss: 0.9726 - val_accuracy: 0.6634\n",
            "Epoch 29/100\n",
            "179/179 [==============================] - 24s 135ms/step - loss: 1.0094 - accuracy: 0.6352 - val_loss: 0.9351 - val_accuracy: 0.6765\n",
            "Epoch 30/100\n",
            "179/179 [==============================] - 24s 135ms/step - loss: 0.9718 - accuracy: 0.6527 - val_loss: 0.9234 - val_accuracy: 0.6806\n",
            "Epoch 31/100\n",
            "179/179 [==============================] - 24s 134ms/step - loss: 0.9521 - accuracy: 0.6617 - val_loss: 0.8768 - val_accuracy: 0.6985\n",
            "Epoch 32/100\n",
            "179/179 [==============================] - 24s 134ms/step - loss: 0.9225 - accuracy: 0.6693 - val_loss: 0.8584 - val_accuracy: 0.7065\n",
            "Epoch 33/100\n",
            "179/179 [==============================] - 24s 135ms/step - loss: 0.9111 - accuracy: 0.6764 - val_loss: 0.8425 - val_accuracy: 0.7138\n",
            "Epoch 34/100\n",
            "179/179 [==============================] - 24s 135ms/step - loss: 0.8705 - accuracy: 0.6894 - val_loss: 0.8375 - val_accuracy: 0.7118\n",
            "Epoch 35/100\n",
            "179/179 [==============================] - 24s 135ms/step - loss: 0.8468 - accuracy: 0.7013 - val_loss: 0.8203 - val_accuracy: 0.7265\n",
            "Epoch 36/100\n",
            "179/179 [==============================] - 24s 135ms/step - loss: 0.8379 - accuracy: 0.7054 - val_loss: 0.8306 - val_accuracy: 0.7218\n",
            "Epoch 37/100\n",
            "179/179 [==============================] - 24s 135ms/step - loss: 0.8069 - accuracy: 0.7185 - val_loss: 0.7944 - val_accuracy: 0.7381\n",
            "Epoch 38/100\n",
            "179/179 [==============================] - 24s 135ms/step - loss: 0.7935 - accuracy: 0.7192 - val_loss: 0.7756 - val_accuracy: 0.7428\n",
            "Epoch 39/100\n",
            "179/179 [==============================] - 24s 135ms/step - loss: 0.7713 - accuracy: 0.7263 - val_loss: 0.7376 - val_accuracy: 0.7563\n",
            "Epoch 40/100\n",
            "179/179 [==============================] - 24s 135ms/step - loss: 0.7473 - accuracy: 0.7409 - val_loss: 0.7238 - val_accuracy: 0.7665\n",
            "Epoch 41/100\n",
            "179/179 [==============================] - 24s 135ms/step - loss: 0.7363 - accuracy: 0.7419 - val_loss: 0.7431 - val_accuracy: 0.7554\n",
            "Epoch 42/100\n",
            "179/179 [==============================] - 24s 135ms/step - loss: 0.7113 - accuracy: 0.7511 - val_loss: 0.7198 - val_accuracy: 0.7660\n",
            "Epoch 43/100\n",
            "179/179 [==============================] - 24s 134ms/step - loss: 0.6965 - accuracy: 0.7537 - val_loss: 0.6954 - val_accuracy: 0.7733\n",
            "Epoch 44/100\n",
            "179/179 [==============================] - 24s 135ms/step - loss: 0.6771 - accuracy: 0.7659 - val_loss: 0.7151 - val_accuracy: 0.7713\n",
            "Epoch 45/100\n",
            "179/179 [==============================] - 24s 135ms/step - loss: 0.6740 - accuracy: 0.7615 - val_loss: 0.6846 - val_accuracy: 0.7781\n",
            "Epoch 46/100\n",
            "179/179 [==============================] - 24s 135ms/step - loss: 0.6704 - accuracy: 0.7689 - val_loss: 0.6989 - val_accuracy: 0.7815\n",
            "Epoch 47/100\n",
            "179/179 [==============================] - 24s 136ms/step - loss: 0.6396 - accuracy: 0.7765 - val_loss: 0.6993 - val_accuracy: 0.7741\n",
            "Epoch 48/100\n",
            "179/179 [==============================] - 24s 136ms/step - loss: 0.6259 - accuracy: 0.7827 - val_loss: 0.6747 - val_accuracy: 0.7862\n",
            "Epoch 49/100\n",
            "179/179 [==============================] - 24s 136ms/step - loss: 0.6224 - accuracy: 0.7828 - val_loss: 0.6729 - val_accuracy: 0.7892\n",
            "Epoch 50/100\n",
            "179/179 [==============================] - 24s 135ms/step - loss: 0.6023 - accuracy: 0.7899 - val_loss: 0.6505 - val_accuracy: 0.7986\n",
            "Epoch 51/100\n",
            "179/179 [==============================] - 24s 136ms/step - loss: 0.5815 - accuracy: 0.7970 - val_loss: 0.6597 - val_accuracy: 0.7977\n",
            "Epoch 52/100\n",
            "179/179 [==============================] - 24s 136ms/step - loss: 0.5778 - accuracy: 0.7995 - val_loss: 0.6517 - val_accuracy: 0.8018\n",
            "Epoch 53/100\n",
            "179/179 [==============================] - 24s 135ms/step - loss: 0.5753 - accuracy: 0.8019 - val_loss: 0.6428 - val_accuracy: 0.8065\n",
            "Epoch 54/100\n",
            "179/179 [==============================] - 24s 135ms/step - loss: 0.5663 - accuracy: 0.8044 - val_loss: 0.6344 - val_accuracy: 0.8088\n",
            "Epoch 55/100\n",
            "179/179 [==============================] - 24s 135ms/step - loss: 0.5504 - accuracy: 0.8087 - val_loss: 0.6384 - val_accuracy: 0.8048\n",
            "Epoch 56/100\n",
            "179/179 [==============================] - 24s 136ms/step - loss: 0.5420 - accuracy: 0.8113 - val_loss: 0.6328 - val_accuracy: 0.8081\n",
            "Epoch 57/100\n",
            "179/179 [==============================] - 24s 135ms/step - loss: 0.5328 - accuracy: 0.8149 - val_loss: 0.6400 - val_accuracy: 0.8077\n",
            "Epoch 58/100\n",
            "179/179 [==============================] - 24s 135ms/step - loss: 0.5183 - accuracy: 0.8209 - val_loss: 0.6363 - val_accuracy: 0.8076\n",
            "Epoch 59/100\n",
            "179/179 [==============================] - 24s 135ms/step - loss: 0.5132 - accuracy: 0.8236 - val_loss: 0.6271 - val_accuracy: 0.8142\n",
            "Epoch 60/100\n",
            "179/179 [==============================] - 24s 135ms/step - loss: 0.5070 - accuracy: 0.8221 - val_loss: 0.6473 - val_accuracy: 0.8062\n",
            "Epoch 61/100\n",
            "179/179 [==============================] - 24s 135ms/step - loss: 0.4932 - accuracy: 0.8317 - val_loss: 0.6160 - val_accuracy: 0.8140\n",
            "Epoch 62/100\n",
            "179/179 [==============================] - 24s 135ms/step - loss: 0.4943 - accuracy: 0.8297 - val_loss: 0.6118 - val_accuracy: 0.8184\n",
            "Epoch 63/100\n",
            "179/179 [==============================] - 24s 135ms/step - loss: 0.4822 - accuracy: 0.8332 - val_loss: 0.6019 - val_accuracy: 0.8244\n",
            "Epoch 64/100\n",
            "179/179 [==============================] - 24s 135ms/step - loss: 0.4657 - accuracy: 0.8378 - val_loss: 0.6161 - val_accuracy: 0.8187\n",
            "Epoch 65/100\n",
            "179/179 [==============================] - 24s 136ms/step - loss: 0.4665 - accuracy: 0.8423 - val_loss: 0.6112 - val_accuracy: 0.8257\n",
            "Epoch 66/100\n",
            "179/179 [==============================] - 24s 135ms/step - loss: 0.4554 - accuracy: 0.8434 - val_loss: 0.5963 - val_accuracy: 0.8289\n",
            "Epoch 67/100\n",
            "179/179 [==============================] - 24s 136ms/step - loss: 0.4374 - accuracy: 0.8510 - val_loss: 0.6071 - val_accuracy: 0.8262\n",
            "Epoch 68/100\n",
            "179/179 [==============================] - 24s 136ms/step - loss: 0.4396 - accuracy: 0.8474 - val_loss: 0.6086 - val_accuracy: 0.8260\n",
            "Epoch 69/100\n",
            "179/179 [==============================] - 24s 136ms/step - loss: 0.4367 - accuracy: 0.8492 - val_loss: 0.5855 - val_accuracy: 0.8328\n",
            "Epoch 70/100\n",
            "179/179 [==============================] - 24s 136ms/step - loss: 0.4289 - accuracy: 0.8545 - val_loss: 0.5965 - val_accuracy: 0.8329\n",
            "Epoch 71/100\n",
            "179/179 [==============================] - 24s 136ms/step - loss: 0.4272 - accuracy: 0.8543 - val_loss: 0.6038 - val_accuracy: 0.8340\n",
            "Epoch 72/100\n",
            "179/179 [==============================] - 24s 136ms/step - loss: 0.4288 - accuracy: 0.8565 - val_loss: 0.6060 - val_accuracy: 0.8322\n",
            "Epoch 73/100\n",
            "179/179 [==============================] - 24s 136ms/step - loss: 0.4150 - accuracy: 0.8578 - val_loss: 0.6079 - val_accuracy: 0.8327\n",
            "Epoch 74/100\n",
            "179/179 [==============================] - 24s 136ms/step - loss: 0.4116 - accuracy: 0.8597 - val_loss: 0.5857 - val_accuracy: 0.8392\n",
            "Epoch 75/100\n",
            "179/179 [==============================] - 24s 136ms/step - loss: 0.4059 - accuracy: 0.8606 - val_loss: 0.6074 - val_accuracy: 0.8300\n",
            "Epoch 76/100\n",
            "179/179 [==============================] - 24s 136ms/step - loss: 0.4037 - accuracy: 0.8624 - val_loss: 0.5948 - val_accuracy: 0.8367\n",
            "Epoch 77/100\n",
            "179/179 [==============================] - 24s 136ms/step - loss: 0.3927 - accuracy: 0.8668 - val_loss: 0.6051 - val_accuracy: 0.8334\n",
            "Epoch 78/100\n",
            "179/179 [==============================] - 24s 135ms/step - loss: 0.4000 - accuracy: 0.8616 - val_loss: 0.5706 - val_accuracy: 0.8462\n",
            "Epoch 79/100\n",
            "179/179 [==============================] - 24s 136ms/step - loss: 0.3795 - accuracy: 0.8693 - val_loss: 0.6097 - val_accuracy: 0.8361\n",
            "Epoch 80/100\n",
            "179/179 [==============================] - 24s 135ms/step - loss: 0.3679 - accuracy: 0.8742 - val_loss: 0.5844 - val_accuracy: 0.8427\n",
            "Epoch 81/100\n",
            "179/179 [==============================] - 24s 136ms/step - loss: 0.3727 - accuracy: 0.8734 - val_loss: 0.5955 - val_accuracy: 0.8393\n",
            "Epoch 82/100\n",
            "179/179 [==============================] - 24s 136ms/step - loss: 0.3715 - accuracy: 0.8724 - val_loss: 0.5927 - val_accuracy: 0.8380\n",
            "Epoch 83/100\n",
            "179/179 [==============================] - 24s 136ms/step - loss: 0.3652 - accuracy: 0.8769 - val_loss: 0.5836 - val_accuracy: 0.8431\n",
            "Epoch 84/100\n",
            "179/179 [==============================] - 24s 135ms/step - loss: 0.3548 - accuracy: 0.8788 - val_loss: 0.5950 - val_accuracy: 0.8395\n",
            "Epoch 85/100\n",
            "179/179 [==============================] - 24s 136ms/step - loss: 0.3657 - accuracy: 0.8746 - val_loss: 0.6015 - val_accuracy: 0.8434\n",
            "Epoch 86/100\n",
            "179/179 [==============================] - 24s 135ms/step - loss: 0.3455 - accuracy: 0.8803 - val_loss: 0.6102 - val_accuracy: 0.8419\n",
            "Epoch 87/100\n",
            "179/179 [==============================] - 24s 135ms/step - loss: 0.3471 - accuracy: 0.8820 - val_loss: 0.5951 - val_accuracy: 0.8448\n",
            "Epoch 88/100\n",
            "179/179 [==============================] - 24s 136ms/step - loss: 0.3462 - accuracy: 0.8810 - val_loss: 0.5835 - val_accuracy: 0.8493\n",
            "Epoch 89/100\n",
            "179/179 [==============================] - 24s 136ms/step - loss: 0.3341 - accuracy: 0.8861 - val_loss: 0.5966 - val_accuracy: 0.8435\n",
            "Epoch 90/100\n",
            "179/179 [==============================] - 24s 135ms/step - loss: 0.3477 - accuracy: 0.8841 - val_loss: 0.5793 - val_accuracy: 0.8464\n",
            "Epoch 91/100\n",
            "179/179 [==============================] - 24s 135ms/step - loss: 0.3413 - accuracy: 0.8846 - val_loss: 0.6059 - val_accuracy: 0.8440\n",
            "Epoch 92/100\n",
            "179/179 [==============================] - 24s 135ms/step - loss: 0.3349 - accuracy: 0.8874 - val_loss: 0.5955 - val_accuracy: 0.8473\n",
            "Epoch 93/100\n",
            "179/179 [==============================] - 24s 135ms/step - loss: 0.3127 - accuracy: 0.8900 - val_loss: 0.6191 - val_accuracy: 0.8401\n",
            "Epoch 94/100\n",
            "179/179 [==============================] - 24s 136ms/step - loss: 0.3165 - accuracy: 0.8918 - val_loss: 0.6265 - val_accuracy: 0.8403\n",
            "Epoch 95/100\n",
            "179/179 [==============================] - 24s 136ms/step - loss: 0.3252 - accuracy: 0.8882 - val_loss: 0.5962 - val_accuracy: 0.8443\n",
            "Epoch 96/100\n",
            "179/179 [==============================] - 24s 136ms/step - loss: 0.3273 - accuracy: 0.8890 - val_loss: 0.6059 - val_accuracy: 0.8488\n",
            "Epoch 97/100\n",
            "179/179 [==============================] - 24s 136ms/step - loss: 0.3077 - accuracy: 0.8955 - val_loss: 0.6103 - val_accuracy: 0.8485\n",
            "Epoch 98/100\n",
            "179/179 [==============================] - 24s 136ms/step - loss: 0.3044 - accuracy: 0.8976 - val_loss: 0.5951 - val_accuracy: 0.8482\n",
            "Epoch 99/100\n",
            "179/179 [==============================] - 24s 136ms/step - loss: 0.3137 - accuracy: 0.8943 - val_loss: 0.6142 - val_accuracy: 0.8481\n",
            "Epoch 100/100\n",
            "179/179 [==============================] - 24s 136ms/step - loss: 0.3021 - accuracy: 0.8969 - val_loss: 0.5834 - val_accuracy: 0.8557\n"
          ],
          "name": "stdout"
        }
      ]
    },
    {
      "cell_type": "code",
      "metadata": {
        "colab": {
          "base_uri": "https://localhost:8080/"
        },
        "id": "tMHylwJOjy4S",
        "outputId": "6c7a4a8b-f8bd-4081-9aeb-503cb6f50ecd"
      },
      "source": [
        "model_score = model_LSTM.evaluate(x_test, y_test, verbose=1)\n",
        "print('Test loss:', model_score[0])\n",
        "print('Test accuracy:', model_score[1])"
      ],
      "execution_count": 25,
      "outputs": [
        {
          "output_type": "stream",
          "text": [
            "357/357 [==============================] - 15s 43ms/step - loss: 0.5834 - accuracy: 0.8557\n",
            "Test loss: 0.583440899848938\n",
            "Test accuracy: 0.8557044267654419\n"
          ],
          "name": "stdout"
        }
      ]
    },
    {
      "cell_type": "code",
      "metadata": {
        "colab": {
          "base_uri": "https://localhost:8080/"
        },
        "id": "8gejv0T_MsOu",
        "outputId": "421378cb-bed8-43ba-a1fd-194e61de942f"
      },
      "source": [
        "# list all data in history\n",
        "print(m.history.keys())\n",
        "import matplotlib.pyplot as plt\n",
        "import numpy\n"
      ],
      "execution_count": 26,
      "outputs": [
        {
          "output_type": "stream",
          "text": [
            "dict_keys(['loss', 'accuracy', 'val_loss', 'val_accuracy'])\n"
          ],
          "name": "stdout"
        }
      ]
    },
    {
      "cell_type": "markdown",
      "metadata": {
        "id": "BZobzLkLpfiP"
      },
      "source": [
        "# Plots -  epcohs vs Accuracy/loss"
      ]
    },
    {
      "cell_type": "code",
      "metadata": {
        "colab": {
          "base_uri": "https://localhost:8080/",
          "height": 312
        },
        "id": "WJe4w_FCj3eq",
        "outputId": "745f10eb-5397-42d9-be63-fa3f7577b72b"
      },
      "source": [
        "import matplotlib.pyplot as plt\n",
        "print(m.history.keys())\n",
        "# summarize history for accuracy\n",
        "plt.plot(m.history['accuracy'])\n",
        "plt.plot(m.history['val_accuracy'])\n",
        "plt.title('model accuracy')\n",
        "plt.ylabel('accuracy')\n",
        "plt.xlabel('epoch')\n",
        "plt.legend(['train', 'test'], loc='upper left')\n",
        "plt.show()"
      ],
      "execution_count": 27,
      "outputs": [
        {
          "output_type": "stream",
          "text": [
            "dict_keys(['loss', 'accuracy', 'val_loss', 'val_accuracy'])\n"
          ],
          "name": "stdout"
        },
        {
          "output_type": "display_data",
          "data": {
            "image/png": "[encoded data removed]",
            "text/plain": [
              "<Figure size 432x288 with 1 Axes>"
            ]
          },
          "metadata": {
            "tags": [],
            "needs_background": "light"
          }
        }
      ]
    },
    {
      "cell_type": "code",
      "metadata": {
        "colab": {
          "base_uri": "https://localhost:8080/",
          "height": 295
        },
        "id": "_GtfiOYkj9Nm",
        "outputId": "95ee4ac7-7f7f-4124-8271-b8f2d546c128"
      },
      "source": [
        "# summarize history for loss\n",
        "plt.plot(m.history['loss'])\n",
        "plt.plot(m.history['val_loss'])\n",
        "plt.title('model loss')\n",
        "plt.ylabel('loss')\n",
        "plt.xlabel('epoch')\n",
        "plt.legend(['train', 'test'], loc='upper left')\n",
        "plt.show()"
      ],
      "execution_count": 28,
      "outputs": [
        {
          "output_type": "display_data",
          "data": {
            "image/png": "[encoded data removed]",
            "text/plain": [
              "<Figure size 432x288 with 1 Axes>"
            ]
          },
          "metadata": {
            "tags": [],
            "needs_background": "light"
          }
        }
      ]
    },
    {
      "cell_type": "code",
      "metadata": {
        "colab": {
          "base_uri": "https://localhost:8080/",
          "height": 295
        },
        "id": "4Ez0qR0fj_su",
        "outputId": "c053cfbd-69be-441a-fb40-fbe3c1d3d7f9"
      },
      "source": [
        "plt.plot(m.history['val_accuracy'])\n",
        "plt.plot(m.history['val_loss'])\n",
        "plt.title('test model')\n",
        "plt.ylabel('test accuracy')\n",
        "plt.xlabel('test loss')\n",
        "plt.show()"
      ],
      "execution_count": 29,
      "outputs": [
        {
          "output_type": "display_data",
          "data": {
            "image/png": "[encoded data removed]",
            "text/plain": [
              "<Figure size 432x288 with 1 Axes>"
            ]
          },
          "metadata": {
            "tags": [],
            "needs_background": "light"
          }
        }
      ]
    },
    {
      "cell_type": "code",
      "metadata": {
        "id": "TMYBA6XIkBe_"
      },
      "source": [
        "M=m\n"
      ],
      "execution_count": 30,
      "outputs": []
    },
    {
      "cell_type": "code",
      "metadata": {
        "id": "8BMEQVwuMIG4"
      },
      "source": [
        "y_pred=model_LSTM.predict(x_test)\n",
        "from sklearn.metrics import confusion_matrix\n",
        "import numpy as np"
      ],
      "execution_count": 31,
      "outputs": []
    },
    {
      "cell_type": "code",
      "metadata": {
        "colab": {
          "base_uri": "https://localhost:8080/",
          "height": 599
        },
        "id": "wsDT0UtqkB6z",
        "outputId": "5d21f11f-dfb1-4ee2-88c0-dd38ea3a564b"
      },
      "source": [
        "y_test[1]\n",
        "y_pred[1]\n",
        "y_test1=np.argmax(y_test, axis=1)\n",
        "y_pred=np.argmax(y_pred,axis=1)\n",
        "cmatrix=confusion_matrix(y_test1, y_pred)\n",
        "import seaborn as sns\n",
        "figure = plt.figure(figsize=(8, 8))\n",
        "sns.heatmap(cmatrix, annot=True,cmap=plt.cm.Blues)\n",
        "plt.tight_layout()\n",
        "plt.ylabel('True label')\n",
        "plt.xlabel('Predicted label')\n",
        "plt.show()"
      ],
      "execution_count": 32,
      "outputs": [
        {
          "output_type": "display_data",
          "data": {
            "image/png": "[encoded data removed]",
            "text/plain": [
              "<Figure size 576x576 with 2 Axes>"
            ]
          },
          "metadata": {
            "tags": [],
            "needs_background": "light"
          }
        }
      ]
    },
    {
      "cell_type": "code",
      "metadata": {
        "colab": {
          "base_uri": "https://localhost:8080/"
        },
        "id": "fnGoSvD-kFN5",
        "outputId": "5b358ecf-5c28-44da-eed4-7b06772bc48f"
      },
      "source": [
        "m"
      ],
      "execution_count": 33,
      "outputs": [
        {
          "output_type": "execute_result",
          "data": {
            "text/plain": [
              "<tensorflow.python.keras.callbacks.History at 0x7fd616160d10>"
            ]
          },
          "metadata": {
            "tags": []
          },
          "execution_count": 33
        }
      ]
    },
    {
      "cell_type": "markdown",
      "metadata": {
        "id": "zRRJGIrklAaO"
      },
      "source": [
        "# ROC curves"
      ]
    },
    {
      "cell_type": "code",
      "metadata": {
        "id": "RM_rn1xhL6EX"
      },
      "source": [
        "import numpy as np\n",
        "import matplotlib.pyplot as plt\n",
        "from itertools import cycle\n",
        "\n",
        "from sklearn import svm, datasets\n",
        "from sklearn.metrics import roc_curve, auc\n",
        "from sklearn.model_selection import train_test_split\n",
        "from sklearn.preprocessing import label_binarize\n",
        "from sklearn.multiclass import OneVsRestClassifier\n",
        "from scipy import interp\n",
        "from sklearn.metrics import roc_auc_score"
      ],
      "execution_count": 34,
      "outputs": []
    },
    {
      "cell_type": "code",
      "metadata": {
        "id": "eu_QAzOXo8ZK",
        "colab": {
          "base_uri": "https://localhost:8080/"
        },
        "outputId": "51cfca59-8399-43f6-8ed0-977d502adc18"
      },
      "source": [
        "# make probability predictions with the model\n",
        "predictions = model_LSTM.predict(x_test)\n",
        "# round predictions \n",
        "rounded = [round(x[0]) for x in predictions]\n",
        "rounded = np.array(rounded)\n",
        "rounded.shape"
      ],
      "execution_count": 35,
      "outputs": [
        {
          "output_type": "execute_result",
          "data": {
            "text/plain": [
              "(11421,)"
            ]
          },
          "metadata": {
            "tags": []
          },
          "execution_count": 35
        }
      ]
    },
    {
      "cell_type": "code",
      "metadata": {
        "id": "LDCxKeQAL8Sf"
      },
      "source": [
        "# make class predictions with the model\n",
        "predictions = model_LSTM.predict_classes(x_test)"
      ],
      "execution_count": 36,
      "outputs": []
    },
    {
      "cell_type": "code",
      "metadata": {
        "colab": {
          "base_uri": "https://localhost:8080/"
        },
        "id": "y4ym8VgcxRXp",
        "outputId": "94451e41-87d6-4fa0-b50d-cd4dd162da88"
      },
      "source": [
        "temp = label_binarize(predictions,classes = [0,1,2,3,4,5,6,7,8,9] )\n",
        "temp\n",
        "temp1 = label_binarize(y_test,classes = [0,1,2,3,4,5,6,7,8,9] )\n",
        "temp1"
      ],
      "execution_count": 37,
      "outputs": [
        {
          "output_type": "execute_result",
          "data": {
            "text/plain": [
              "array([[0, 0, 0, ..., 0, 0, 0],\n",
              "       [0, 0, 0, ..., 0, 0, 0],\n",
              "       [0, 0, 0, ..., 0, 0, 0],\n",
              "       ...,\n",
              "       [0, 0, 1, ..., 0, 0, 0],\n",
              "       [0, 0, 1, ..., 0, 0, 0],\n",
              "       [0, 0, 1, ..., 0, 0, 0]])"
            ]
          },
          "metadata": {
            "tags": []
          },
          "execution_count": 37
        }
      ]
    },
    {
      "cell_type": "code",
      "metadata": {
        "id": "pwZw_MpElCmu"
      },
      "source": [
        "false_pr = dict()\n",
        "true_pr = dict()\n",
        "roc_auc = dict()\n",
        "for i in range(classes-1):\n",
        "    false_pr[i], true_pr[i], _ = roc_curve(temp1[:, i], temp[:, i])\n",
        "    roc_auc[i] = auc(false_pr[i], true_pr[i])\n",
        "\n",
        "false_pr[\"micro\"], true_pr[\"micro\"], _ = roc_curve(temp1.ravel(), temp.ravel())\n",
        "roc_auc[\"micro\"] = auc(false_pr[\"micro\"], true_pr[\"micro\"])"
      ],
      "execution_count": 50,
      "outputs": []
    },
    {
      "cell_type": "code",
      "metadata": {
        "id": "sIZ3GfnIxq1H"
      },
      "source": [
        "classes = classes-1\n",
        "lw = 2"
      ],
      "execution_count": 52,
      "outputs": []
    },
    {
      "cell_type": "code",
      "metadata": {
        "colab": {
          "base_uri": "https://localhost:8080/",
          "height": 295
        },
        "id": "lyq00IiYmFy2",
        "outputId": "e82e8461-3ac8-4a5c-f0a2-5510bc713400"
      },
      "source": [
        "combined_fpr = np.unique(np.concatenate([false_pr[i] for i in range(classes)]))\n",
        "\n",
        "# Then interpolate all ROC curves at this points\n",
        "average_tpr = np.zeros_like(combined_fpr)\n",
        "for i in range(classes):\n",
        "    average_tpr += interp(combined_fpr, false_pr[i], true_pr[i])\n",
        "\n",
        "average_tpr /= (classes)\n",
        "\n",
        "false_pr[\"macro\"] = combined_fpr\n",
        "true_pr[\"macro\"] = average_tpr\n",
        "roc_auc[\"macro\"] = auc(false_pr[\"macro\"], true_pr[\"macro\"])\n",
        "\n",
        "# Plot all ROC curves\n",
        "plt.figure()\n",
        "plt.plot(false_pr[\"micro\"], true_pr[\"micro\"],\n",
        "         label='micro-average (area = {0:0.2f})'\n",
        "               ''.format(roc_auc[\"micro\"]),\n",
        "         color='deeppink', linestyle=':', linewidth=4)\n",
        "\n",
        "plt.plot(false_pr[\"macro\"], true_pr[\"macro\"],\n",
        "         label='macro-average(area = {0:0.2f})'\n",
        "               ''.format(roc_auc[\"macro\"]),\n",
        "         color='navy', linestyle=':', linewidth=4)\n",
        "\n",
        "colors = cycle(['aqua', 'darkorange', 'cornflowerblue'])\n",
        "for i, color in zip(range(classes), colors):\n",
        "    plt.plot(false_pr[i], true_pr[i], color=color, lw=lw,\n",
        "             label='ROC curve of class {0} (area = {1:0.2f})'\n",
        "             ''.format(i, roc_auc[i]))\n",
        "\n",
        "plt.plot([0, 1], [0, 1], 'k--', lw=lw)\n",
        "plt.xlim([0.0, 1.0])\n",
        "plt.ylim([0.0, 1.05])\n",
        "plt.xlabel('False Positive Rate')\n",
        "plt.ylabel('True Positive Rate')\n",
        "plt.title('Multi-class ROC')\n",
        "plt.legend(loc=\"lower right\")\n",
        "plt.show()"
      ],
      "execution_count": 53,
      "outputs": [
        {
          "output_type": "display_data",
          "data": {
            "image/png": "[encoded data removed]",
            "text/plain": [
              "<Figure size 432x288 with 1 Axes>"
            ]
          },
          "metadata": {
            "tags": [],
            "needs_background": "light"
          }
        }
      ]
    },
    {
      "cell_type": "code",
      "metadata": {
        "colab": {
          "base_uri": "https://localhost:8080/"
        },
        "id": "uGIsJ_d8xkfF",
        "outputId": "b117b681-c018-4994-f752-d8717ce36b14"
      },
      "source": [
        "cm = cmatrix\n",
        "cm"
      ],
      "execution_count": 54,
      "outputs": [
        {
          "output_type": "execute_result",
          "data": {
            "text/plain": [
              "array([[1539,   36,   23,   26,   37,   28,   18,   22,   31],\n",
              "       [  40, 1742,   43,   22,   27,   19,   17,   35,    4],\n",
              "       [  49,   46, 1666,   11,   36,   26,    5,   11,    6],\n",
              "       [  36,   28,   40, 1046,   38,   17,   10,   33,   21],\n",
              "       [  39,   32,   44,   23, 1067,   23,   13,   13,   15],\n",
              "       [  31,   28,   17,   14,   31,  914,    4,   18,   18],\n",
              "       [  23,   14,   19,   14,   11,   23,  528,   23,   29],\n",
              "       [  29,    8,   14,   14,   17,   13,   21,  638,   26],\n",
              "       [  27,    6,    5,   16,   12,   13,   32,   35,  633]])"
            ]
          },
          "metadata": {
            "tags": []
          },
          "execution_count": 54
        }
      ]
    },
    {
      "cell_type": "code",
      "metadata": {
        "id": "BKhTkxhU0UMs"
      },
      "source": [
        "recall = np.diag(cm) / np.sum(cm, axis = 1)\n",
        "precision = np.diag(cm) / np.sum(cm, axis = 0)"
      ],
      "execution_count": 55,
      "outputs": []
    },
    {
      "cell_type": "code",
      "metadata": {
        "colab": {
          "base_uri": "https://localhost:8080/"
        },
        "id": "rAwhaXaR0n84",
        "outputId": "fb0f3f89-4e95-4372-82b4-a5c5da3ddfde"
      },
      "source": [
        "print(recall)\n",
        "print(precision)"
      ],
      "execution_count": 43,
      "outputs": [
        {
          "output_type": "stream",
          "text": [
            "[0.87443182 0.89379169 0.89762931 0.82427108 0.84081954 0.85023256\n",
            " 0.77192982 0.81794872 0.81258023]\n",
            "[0.84886928 0.89793814 0.89043292 0.88195616 0.8362069  0.84944238\n",
            " 0.81481481 0.7705314  0.80842912]\n"
          ],
          "name": "stdout"
        }
      ]
    },
    {
      "cell_type": "code",
      "metadata": {
        "colab": {
          "base_uri": "https://localhost:8080/"
        },
        "id": "BIUqstvA0wM2",
        "outputId": "3629ce82-327c-4a65-9cdf-0bc3bac97cb2"
      },
      "source": [
        "print(\"Recall\",np.nanmean(recall))\n",
        "print(\"precision\",np.nanmean(precision))"
      ],
      "execution_count": 56,
      "outputs": [
        {
          "output_type": "stream",
          "text": [
            "Recall 0.8426260856471504\n",
            "precision 0.8442912345303388\n"
          ],
          "name": "stdout"
        }
      ]
    },
    {
      "cell_type": "code",
      "metadata": {
        "id": "J427vHIZOIEe"
      },
      "source": [
        ""
      ],
      "execution_count": null,
      "outputs": []
    }
  ]
}