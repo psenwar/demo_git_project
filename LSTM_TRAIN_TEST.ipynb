{
  "nbformat": 4,
  "nbformat_minor": 0,
  "metadata": {
    "colab": {
      "name": "LSTM_TRAIN_TEST.ipynb",
      "provenance": [],
      "collapsed_sections": []
    },
    "kernelspec": {
      "name": "python3",
      "display_name": "Python 3"
    },
    "language_info": {
      "name": "python"
    },
    "accelerator": "GPU"
  },
  "cells": [
    {
      "cell_type": "code",
      "metadata": {
        "colab": {
          "base_uri": "https://localhost:8080/"
        },
        "id": "hMEJnaiM8LRF",
        "outputId": "b7f541b6-e08b-434e-9df8-306e32493091"
      },
      "source": [
        "!pip install git+https://github.com/forrestbao/pyeeg.git\n",
        "\n",
        "import pandas as pd\n",
        "import keras.backend as K\n",
        "import numpy as np\n",
        "import pandas as pd\n",
        "import pyeeg as pe\n",
        "import pickle as pickle\n",
        "import math\n",
        "from sklearn import svm\n",
        "from sklearn.preprocessing import normalize\n",
        "\n",
        "import os\n",
        "import time"
      ],
      "execution_count": null,
      "outputs": [
        {
          "output_type": "stream",
          "text": [
            "Collecting git+https://github.com/forrestbao/pyeeg.git\n",
            "  Cloning https://github.com/forrestbao/pyeeg.git to /tmp/pip-req-build-2n8ohaxy\n",
            "  Running command git clone -q https://github.com/forrestbao/pyeeg.git /tmp/pip-req-build-2n8ohaxy\n",
            "Requirement already satisfied (use --upgrade to upgrade): pyeeg==0.4.4 from git+https://github.com/forrestbao/pyeeg.git in /usr/local/lib/python3.7/dist-packages\n",
            "Requirement already satisfied: numpy>=1.9.2 in /usr/local/lib/python3.7/dist-packages (from pyeeg==0.4.4) (1.19.5)\n",
            "Building wheels for collected packages: pyeeg\n",
            "  Building wheel for pyeeg (setup.py) ... \u001b[?25l\u001b[?25hdone\n",
            "  Created wheel for pyeeg: filename=pyeeg-0.4.4-py2.py3-none-any.whl size=28123 sha256=e509317f11129b43a39afdd8378ed063b19db57c2de33f5c537bfb40f64309c7\n",
            "  Stored in directory: /tmp/pip-ephem-wheel-cache-g4sr5jll/wheels/2d/3f/ad/106d4fc80b61d1ea1fc18e76e7439fd98aa043d83d58eae741\n",
            "Successfully built pyeeg\n"
          ],
          "name": "stdout"
        }
      ]
    },
    {
      "cell_type": "code",
      "metadata": {
        "id": "7hPp6xZHHPb7"
      },
      "source": [
        "import keras\n",
        "from keras.models import Sequential\n",
        "from keras.layers import Dense, Dropout, Flatten\n",
        "from keras.layers.convolutional import Convolution1D, MaxPooling1D, ZeroPadding1D,Conv1D\n",
        "from keras.models import Sequential\n",
        "from keras.utils import to_categorical \n",
        "\n",
        "from keras.models import Model\n",
        "import timeit\n",
        "from keras.optimizers import SGD\n",
        "\n",
        "import warnings\n",
        "warnings.filterwarnings('ignore')"
      ],
      "execution_count": null,
      "outputs": []
    },
    {
      "cell_type": "code",
      "metadata": {
        "colab": {
          "base_uri": "https://localhost:8080/"
        },
        "id": "meCnfLQI8j5t",
        "outputId": "bbbc0841-80c2-488f-da07-653ada4ae3fc"
      },
      "source": [
        "from google.colab import drive\n",
        "drive.mount('/content/drive/')"
      ],
      "execution_count": null,
      "outputs": [
        {
          "output_type": "stream",
          "text": [
            "Drive already mounted at /content/drive/; to attempt to forcibly remount, call drive.mount(\"/content/drive/\", force_remount=True).\n"
          ],
          "name": "stdout"
        }
      ]
    },
    {
      "cell_type": "markdown",
      "metadata": {
        "id": "fYSMRMRvpVZ4"
      },
      "source": [
        "# Opening Data"
      ]
    },
    {
      "cell_type": "code",
      "metadata": {
        "id": "dgYqSAWZCSJp"
      },
      "source": [
        "with open('/content/drive/MyDrive/Colab Notebooks/DEAP  - saved/data_training.npy', 'rb') as fileX_training:\n",
        "    X_train  = np.load(fileX_training)\n",
        "    \n",
        "with open('/content/drive/MyDrive/Colab Notebooks/DEAP  - saved/label_training.npy', 'rb') as fileY_training:\n",
        "    Y_train  = np.load(fileY_training)  \n",
        "    "
      ],
      "execution_count": null,
      "outputs": []
    },
    {
      "cell_type": "code",
      "metadata": {
        "id": "OPFQg_m4HUFv"
      },
      "source": [
        "X_train = normalize(X_train)\n",
        "Z_train = np.ravel(Y_train[:, [3]])\n",
        "#labels\n",
        "train_arousal = np.ravel(Y_train[:, [0]])\n",
        "train_valence = np.ravel(Y_train[:, [1]])\n",
        "train_dominance = np.ravel(Y_train[:, [2]])\n",
        "train_liking = np.ravel(Y_train[:, [3]])"
      ],
      "execution_count": null,
      "outputs": []
    },
    {
      "cell_type": "code",
      "metadata": {
        "colab": {
          "base_uri": "https://localhost:8080/"
        },
        "id": "KcPd3OWnidBg",
        "outputId": "c6070ef5-8493-4584-e0b7-08e927c47930"
      },
      "source": [
        "X_train.shape\n"
      ],
      "execution_count": null,
      "outputs": [
        {
          "output_type": "execute_result",
          "data": {
            "text/plain": [
              "(45675, 70)"
            ]
          },
          "metadata": {
            "tags": []
          },
          "execution_count": 4
        }
      ]
    },
    {
      "cell_type": "code",
      "metadata": {
        "colab": {
          "base_uri": "https://localhost:8080/"
        },
        "id": "UXd5ycaWifvl",
        "outputId": "8d495acd-070c-48d9-ba08-8b3ebdcbbe15"
      },
      "source": [
        "\n",
        "from keras.utils import to_categorical\n",
        "y_train = to_categorical(Z_train)\n",
        "x_train = np.array(X_train[:])"
      ],
      "execution_count": null,
      "outputs": [
        {
          "output_type": "execute_result",
          "data": {
            "text/plain": [
              "array([[0., 0., 0., ..., 0., 0., 0.],\n",
              "       [0., 0., 0., ..., 0., 0., 0.],\n",
              "       [0., 0., 0., ..., 0., 0., 0.],\n",
              "       ...,\n",
              "       [0., 0., 1., ..., 0., 0., 0.],\n",
              "       [0., 0., 1., ..., 0., 0., 0.],\n",
              "       [0., 0., 1., ..., 0., 0., 0.]], dtype=float32)"
            ]
          },
          "metadata": {
            "tags": []
          },
          "execution_count": 5
        }
      ]
    },
    {
      "cell_type": "code",
      "metadata": {
        "colab": {
          "base_uri": "https://localhost:8080/"
        },
        "id": "6gFWtyimlfaY",
        "outputId": "327b6f9b-6f87-4a01-c6c4-8c1706f32935"
      },
      "source": [
        "print(y_train.shape)"
      ],
      "execution_count": null,
      "outputs": [
        {
          "output_type": "stream",
          "text": [
            "(45675, 10)\n"
          ],
          "name": "stdout"
        }
      ]
    },
    {
      "cell_type": "code",
      "metadata": {
        "colab": {
          "base_uri": "https://localhost:8080/"
        },
        "id": "QVPlZa1Gtlv2",
        "outputId": "39944986-fc8a-4ff9-fb3d-e9c5e6f6be45"
      },
      "source": [
        "np.unique(x_train)"
      ],
      "execution_count": null,
      "outputs": [
        {
          "output_type": "execute_result",
          "data": {
            "text/plain": [
              "array([0.00170486, 0.00171934, 0.00194255, ..., 0.58262048, 0.58395395,\n",
              "       0.58488571])"
            ]
          },
          "metadata": {
            "tags": []
          },
          "execution_count": 8
        }
      ]
    },
    {
      "cell_type": "code",
      "metadata": {
        "id": "j8CXLLEwjDip"
      },
      "source": [
        "\n",
        "with open('/content/drive/MyDrive/Colab Notebooks/DEAP  - saved/data_testing.npy', 'rb') as fileX_training:\n",
        "    X_test  = np.load(fileX_training)\n",
        "    \n",
        "with open('/content/drive/MyDrive/Colab Notebooks/DEAP  - saved/label_testing.npy', 'rb') as fileY_training:\n",
        "    Y_test  = np.load(fileY_training)"
      ],
      "execution_count": null,
      "outputs": []
    },
    {
      "cell_type": "code",
      "metadata": {
        "id": "ewJHfSTqHkC-"
      },
      "source": [
        "X_test = normalize(X_test)\n",
        "Z_test = np.ravel(Y_test[:, [3]])\n",
        "\n",
        "test_arousal = np.ravel(Y_test[:, [0]])\n",
        "test_valence = np.ravel(Y_test[:, [1]])\n",
        "test_dominance = np.ravel(Y_test[:, [2]])\n",
        "test_liking = np.ravel(Y_test[:, [3]])"
      ],
      "execution_count": null,
      "outputs": []
    },
    {
      "cell_type": "code",
      "metadata": {
        "id": "VjoqTiYCjF5O"
      },
      "source": [
        "x_test = np.array(X_test[:])"
      ],
      "execution_count": null,
      "outputs": []
    },
    {
      "cell_type": "code",
      "metadata": {
        "colab": {
          "base_uri": "https://localhost:8080/"
        },
        "id": "1YHlDSiCjPcR",
        "outputId": "f5f4478a-8bf5-4c39-8f7d-6c897cafa2d9"
      },
      "source": [
        "from keras.utils import to_categorical\n",
        "y_test = to_categorical(Z_test)\n",
        "y_test"
      ],
      "execution_count": null,
      "outputs": [
        {
          "output_type": "execute_result",
          "data": {
            "text/plain": [
              "array([[0., 0., 0., ..., 0., 0., 0.],\n",
              "       [0., 0., 0., ..., 0., 0., 0.],\n",
              "       [0., 0., 0., ..., 0., 0., 0.],\n",
              "       ...,\n",
              "       [0., 0., 1., ..., 0., 0., 0.],\n",
              "       [0., 0., 1., ..., 0., 0., 0.],\n",
              "       [0., 0., 1., ..., 0., 0., 0.]], dtype=float32)"
            ]
          },
          "metadata": {
            "tags": []
          },
          "execution_count": 11
        }
      ]
    },
    {
      "cell_type": "code",
      "metadata": {
        "colab": {
          "base_uri": "https://localhost:8080/"
        },
        "id": "toseolMZtwbI",
        "outputId": "4b1e6ff2-1a3e-432d-caea-a9a5d36e5401"
      },
      "source": [
        "y_test.shape"
      ],
      "execution_count": null,
      "outputs": [
        {
          "output_type": "execute_result",
          "data": {
            "text/plain": [
              "(11421, 10)"
            ]
          },
          "metadata": {
            "tags": []
          },
          "execution_count": 12
        }
      ]
    },
    {
      "cell_type": "code",
      "metadata": {
        "id": "jrnmpH4hjRSI"
      },
      "source": [
        "\n",
        "from sklearn.preprocessing import StandardScaler\n",
        "temp = StandardScaler()\n",
        "x_train = temp.fit_transform(x_train)\n",
        "x_test = temp.fit_transform(x_test)"
      ],
      "execution_count": null,
      "outputs": []
    },
    {
      "cell_type": "code",
      "metadata": {
        "id": "wGwLidjNjVXt"
      },
      "source": [
        "x_train = x_train.reshape(x_train.shape[0],x_train.shape[1], 1)\n",
        "x_test = x_test.reshape(x_test.shape[0],x_test.shape[1], 1)"
      ],
      "execution_count": null,
      "outputs": []
    },
    {
      "cell_type": "code",
      "metadata": {
        "colab": {
          "base_uri": "https://localhost:8080/"
        },
        "id": "Llr_tHbfjXdh",
        "outputId": "36f235e0-6722-4764-e25d-d83c3b1d3b1f"
      },
      "source": [
        "x_train.shape\n"
      ],
      "execution_count": null,
      "outputs": [
        {
          "output_type": "execute_result",
          "data": {
            "text/plain": [
              "(45675, 70, 1)"
            ]
          },
          "metadata": {
            "tags": []
          },
          "execution_count": 15
        }
      ]
    },
    {
      "cell_type": "code",
      "metadata": {
        "id": "1QD05io8jY1H"
      },
      "source": [
        "classes = 10\n",
        "iter = 100\n",
        "shape=(x_train.shape[1], 1)"
      ],
      "execution_count": null,
      "outputs": []
    },
    {
      "cell_type": "code",
      "metadata": {
        "colab": {
          "base_uri": "https://localhost:8080/"
        },
        "id": "pnLXwCDmjasi",
        "outputId": "e0c1e4ca-aaf6-44e7-af93-5b88799b2a7c"
      },
      "source": [
        "print(shape)\n"
      ],
      "execution_count": null,
      "outputs": [
        {
          "output_type": "stream",
          "text": [
            "(70, 1)\n"
          ],
          "name": "stdout"
        }
      ]
    },
    {
      "cell_type": "markdown",
      "metadata": {
        "id": "5dDkKeTRpZfL"
      },
      "source": [
        "# Building LSTM Model"
      ]
    },
    {
      "cell_type": "code",
      "metadata": {
        "id": "aAhDpL33jeg7"
      },
      "source": [
        "from keras.layers import Convolution1D, ZeroPadding1D, MaxPooling1D, BatchNormalization, Activation, Dropout, Flatten, Dense\n",
        "from keras.regularizers import l2"
      ],
      "execution_count": null,
      "outputs": []
    },
    {
      "cell_type": "code",
      "metadata": {
        "colab": {
          "base_uri": "https://localhost:8080/"
        },
        "id": "Z0_znTo5jgyf",
        "outputId": "0d094ca6-7c72-48cc-ef2c-2d9a33caf6a3"
      },
      "source": [
        "  from keras.layers import Bidirectional\n",
        "  from keras.layers import LSTM\n",
        "\n",
        "  model_LSTM = Sequential()\n",
        " # Bidirection lstm layer\n",
        "  model_LSTM.add(Bidirectional(LSTM(128, return_sequences=True), input_shape=shape))\n",
        "  model_LSTM.add(Dropout(0.5))\n",
        "# simple one directional lstm layer\n",
        "  model_LSTM.add(LSTM(units = 256, return_sequences = True))  \n",
        "  model_LSTM.add(Dropout(0.4))\n",
        "\n",
        "  model_LSTM.add(LSTM(units = 64, return_sequences = True))  \n",
        "  model_LSTM.add(Dropout(0.5))\n",
        "\n",
        "  model_LSTM.add(LSTM(units = 64, return_sequences = True))  \n",
        "  model_LSTM.add(Dropout(0.2))\n",
        "\n",
        "  model_LSTM.add(Flatten())\n",
        "\n",
        "# At the end adding some dense layer\n",
        "  model_LSTM.add(Dense(units = 16))\n",
        "  model_LSTM.add(Activation('relu'))\n",
        "\n",
        "  model_LSTM.add(Dense(units = num_classes))\n",
        "  model_LSTM.add(Activation('softmax'))\n",
        "  model_LSTM.compile(optimizer =\"adam\", loss =keras.losses.categorical_crossentropy,metrics=[\"accuracy\"])\n",
        "  model_LSTM.summary()\n"
      ],
      "execution_count": null,
      "outputs": [
        {
          "output_type": "stream",
          "text": [
            "Model: \"sequential_1\"\n",
            "_________________________________________________________________\n",
            "Layer (type)                 Output Shape              Param #   \n",
            "=================================================================\n",
            "bidirectional_1 (Bidirection (None, 70, 256)           133120    \n",
            "_________________________________________________________________\n",
            "dropout_5 (Dropout)          (None, 70, 256)           0         \n",
            "_________________________________________________________________\n",
            "lstm_6 (LSTM)                (None, 70, 256)           525312    \n",
            "_________________________________________________________________\n",
            "dropout_6 (Dropout)          (None, 70, 256)           0         \n",
            "_________________________________________________________________\n",
            "lstm_7 (LSTM)                (None, 70, 64)            82176     \n",
            "_________________________________________________________________\n",
            "dropout_7 (Dropout)          (None, 70, 64)            0         \n",
            "_________________________________________________________________\n",
            "lstm_8 (LSTM)                (None, 70, 64)            33024     \n",
            "_________________________________________________________________\n",
            "dropout_8 (Dropout)          (None, 70, 64)            0         \n",
            "_________________________________________________________________\n",
            "lstm_9 (LSTM)                (None, 32)                12416     \n",
            "_________________________________________________________________\n",
            "dropout_9 (Dropout)          (None, 32)                0         \n",
            "_________________________________________________________________\n",
            "dense_2 (Dense)              (None, 16)                528       \n",
            "_________________________________________________________________\n",
            "activation_2 (Activation)    (None, 16)                0         \n",
            "_________________________________________________________________\n",
            "dense_3 (Dense)              (None, 10)                170       \n",
            "_________________________________________________________________\n",
            "activation_3 (Activation)    (None, 10)                0         \n",
            "=================================================================\n",
            "Total params: 786,746\n",
            "Trainable params: 786,746\n",
            "Non-trainable params: 0\n",
            "_________________________________________________________________\n"
          ],
          "name": "stdout"
        }
      ]
    },
    {
      "cell_type": "code",
      "metadata": {
        "colab": {
          "base_uri": "https://localhost:8080/"
        },
        "id": "UO8qzjuLji6z",
        "outputId": "ea8e5a67-0509-48a7-dadd-9a35b521524c"
      },
      "source": [
        "  m=model_LSTM.fit(x_train, y_train,epochs=iter,batch_size=256,verbose=1,validation_data=(x_test, y_test))"
      ],
      "execution_count": null,
      "outputs": [
        {
          "output_type": "stream",
          "text": [
            "Epoch 1/100\n",
            "179/179 [==============================] - 38s 159ms/step - loss: 2.0234 - accuracy: 0.2416 - val_loss: 1.7207 - val_accuracy: 0.2897\n",
            "Epoch 2/100\n",
            "179/179 [==============================] - 26s 145ms/step - loss: 1.7440 - accuracy: 0.2866 - val_loss: 1.6943 - val_accuracy: 0.3090\n",
            "Epoch 3/100\n",
            "179/179 [==============================] - 26s 146ms/step - loss: 1.7168 - accuracy: 0.2979 - val_loss: 1.6787 - val_accuracy: 0.3108\n",
            "Epoch 4/100\n",
            "179/179 [==============================] - 26s 145ms/step - loss: 1.6967 - accuracy: 0.3028 - val_loss: 1.6668 - val_accuracy: 0.3143\n",
            "Epoch 5/100\n",
            "179/179 [==============================] - 26s 145ms/step - loss: 1.6799 - accuracy: 0.3139 - val_loss: 1.6466 - val_accuracy: 0.3312\n",
            "Epoch 6/100\n",
            "179/179 [==============================] - 26s 146ms/step - loss: 1.6652 - accuracy: 0.3212 - val_loss: 1.6276 - val_accuracy: 0.3345\n",
            "Epoch 7/100\n",
            "179/179 [==============================] - 26s 145ms/step - loss: 1.6578 - accuracy: 0.3179 - val_loss: 1.6204 - val_accuracy: 0.3374\n",
            "Epoch 8/100\n",
            "179/179 [==============================] - 26s 144ms/step - loss: 1.6507 - accuracy: 0.3219 - val_loss: 1.6116 - val_accuracy: 0.3388\n",
            "Epoch 9/100\n",
            "179/179 [==============================] - 26s 145ms/step - loss: 1.6342 - accuracy: 0.3303 - val_loss: 1.5998 - val_accuracy: 0.3406\n",
            "Epoch 10/100\n",
            "179/179 [==============================] - 26s 145ms/step - loss: 1.6307 - accuracy: 0.3350 - val_loss: 1.6102 - val_accuracy: 0.3480\n",
            "Epoch 11/100\n",
            "179/179 [==============================] - 26s 144ms/step - loss: 1.6188 - accuracy: 0.3366 - val_loss: 1.5732 - val_accuracy: 0.3560\n",
            "Epoch 12/100\n",
            "179/179 [==============================] - 26s 145ms/step - loss: 1.5984 - accuracy: 0.3495 - val_loss: 1.5495 - val_accuracy: 0.3711\n",
            "Epoch 13/100\n",
            "179/179 [==============================] - 26s 144ms/step - loss: 1.5893 - accuracy: 0.3505 - val_loss: 1.5493 - val_accuracy: 0.3751\n",
            "Epoch 14/100\n",
            "179/179 [==============================] - 26s 145ms/step - loss: 1.5771 - accuracy: 0.3631 - val_loss: 1.5319 - val_accuracy: 0.3839\n",
            "Epoch 15/100\n",
            "179/179 [==============================] - 26s 145ms/step - loss: 1.5567 - accuracy: 0.3702 - val_loss: 1.4930 - val_accuracy: 0.3965\n",
            "Epoch 16/100\n",
            "179/179 [==============================] - 26s 144ms/step - loss: 1.5453 - accuracy: 0.3755 - val_loss: 1.4911 - val_accuracy: 0.3958\n",
            "Epoch 17/100\n",
            "179/179 [==============================] - 26s 144ms/step - loss: 1.5308 - accuracy: 0.3833 - val_loss: 1.4862 - val_accuracy: 0.4014\n",
            "Epoch 18/100\n",
            "179/179 [==============================] - 26s 145ms/step - loss: 1.5286 - accuracy: 0.3855 - val_loss: 1.4575 - val_accuracy: 0.4184\n",
            "Epoch 19/100\n",
            "179/179 [==============================] - 26s 144ms/step - loss: 1.5046 - accuracy: 0.3992 - val_loss: 1.4437 - val_accuracy: 0.4175\n",
            "Epoch 20/100\n",
            "179/179 [==============================] - 26s 144ms/step - loss: 1.4956 - accuracy: 0.3984 - val_loss: 1.4212 - val_accuracy: 0.4332\n",
            "Epoch 21/100\n",
            "179/179 [==============================] - 26s 145ms/step - loss: 1.4844 - accuracy: 0.4049 - val_loss: 1.4104 - val_accuracy: 0.4346\n",
            "Epoch 22/100\n",
            "179/179 [==============================] - 26s 144ms/step - loss: 1.4621 - accuracy: 0.4163 - val_loss: 1.4029 - val_accuracy: 0.4356\n",
            "Epoch 23/100\n",
            "179/179 [==============================] - 26s 144ms/step - loss: 1.4468 - accuracy: 0.4229 - val_loss: 1.3772 - val_accuracy: 0.4488\n",
            "Epoch 24/100\n",
            "179/179 [==============================] - 26s 145ms/step - loss: 1.4393 - accuracy: 0.4292 - val_loss: 1.3683 - val_accuracy: 0.4554\n",
            "Epoch 25/100\n",
            "179/179 [==============================] - 26s 144ms/step - loss: 1.4254 - accuracy: 0.4298 - val_loss: 1.3614 - val_accuracy: 0.4569\n",
            "Epoch 26/100\n",
            "179/179 [==============================] - 26s 145ms/step - loss: 1.4023 - accuracy: 0.4445 - val_loss: 1.3251 - val_accuracy: 0.4637\n",
            "Epoch 27/100\n",
            "179/179 [==============================] - 26s 144ms/step - loss: 1.3937 - accuracy: 0.4455 - val_loss: 1.3161 - val_accuracy: 0.4761\n",
            "Epoch 28/100\n",
            "179/179 [==============================] - 26s 145ms/step - loss: 1.3769 - accuracy: 0.4543 - val_loss: 1.3069 - val_accuracy: 0.4748\n",
            "Epoch 29/100\n",
            "179/179 [==============================] - 26s 145ms/step - loss: 1.3583 - accuracy: 0.4629 - val_loss: 1.2704 - val_accuracy: 0.4913\n",
            "Epoch 30/100\n",
            "179/179 [==============================] - 26s 144ms/step - loss: 1.3402 - accuracy: 0.4699 - val_loss: 1.2744 - val_accuracy: 0.4958\n",
            "Epoch 31/100\n",
            "179/179 [==============================] - 26s 145ms/step - loss: 1.3283 - accuracy: 0.4734 - val_loss: 1.2513 - val_accuracy: 0.5029\n",
            "Epoch 32/100\n",
            "179/179 [==============================] - 26s 144ms/step - loss: 1.3116 - accuracy: 0.4838 - val_loss: 1.2359 - val_accuracy: 0.5139\n",
            "Epoch 33/100\n",
            "179/179 [==============================] - 26s 144ms/step - loss: 1.2956 - accuracy: 0.4929 - val_loss: 1.2154 - val_accuracy: 0.5250\n",
            "Epoch 34/100\n",
            "179/179 [==============================] - 26s 145ms/step - loss: 1.2808 - accuracy: 0.5003 - val_loss: 1.1809 - val_accuracy: 0.5390\n",
            "Epoch 35/100\n",
            "179/179 [==============================] - 26s 144ms/step - loss: 1.2624 - accuracy: 0.5097 - val_loss: 1.1640 - val_accuracy: 0.5501\n",
            "Epoch 36/100\n",
            "179/179 [==============================] - 26s 144ms/step - loss: 1.2329 - accuracy: 0.5234 - val_loss: 1.1650 - val_accuracy: 0.5450\n",
            "Epoch 37/100\n",
            "179/179 [==============================] - 26s 145ms/step - loss: 1.2342 - accuracy: 0.5225 - val_loss: 1.1559 - val_accuracy: 0.5576\n",
            "Epoch 38/100\n",
            "179/179 [==============================] - 26s 145ms/step - loss: 1.2057 - accuracy: 0.5343 - val_loss: 1.1504 - val_accuracy: 0.5634\n",
            "Epoch 39/100\n",
            "179/179 [==============================] - 26s 144ms/step - loss: 1.1883 - accuracy: 0.5486 - val_loss: 1.1320 - val_accuracy: 0.5688\n",
            "Epoch 40/100\n",
            "179/179 [==============================] - 26s 144ms/step - loss: 1.1767 - accuracy: 0.5495 - val_loss: 1.0939 - val_accuracy: 0.5837\n",
            "Epoch 41/100\n",
            "179/179 [==============================] - 26s 144ms/step - loss: 1.1660 - accuracy: 0.5551 - val_loss: 1.0691 - val_accuracy: 0.5917\n",
            "Epoch 42/100\n",
            "179/179 [==============================] - 26s 144ms/step - loss: 1.1424 - accuracy: 0.5638 - val_loss: 1.0582 - val_accuracy: 0.5987\n",
            "Epoch 43/100\n",
            "179/179 [==============================] - 26s 145ms/step - loss: 1.1190 - accuracy: 0.5765 - val_loss: 1.0400 - val_accuracy: 0.6079\n",
            "Epoch 44/100\n",
            "179/179 [==============================] - 26s 144ms/step - loss: 1.1023 - accuracy: 0.5805 - val_loss: 1.0363 - val_accuracy: 0.6060\n",
            "Epoch 45/100\n",
            "179/179 [==============================] - 26s 145ms/step - loss: 1.1012 - accuracy: 0.5879 - val_loss: 0.9936 - val_accuracy: 0.6309\n",
            "Epoch 46/100\n",
            "179/179 [==============================] - 26s 144ms/step - loss: 1.0708 - accuracy: 0.5973 - val_loss: 1.0118 - val_accuracy: 0.6241\n",
            "Epoch 47/100\n",
            "179/179 [==============================] - 26s 145ms/step - loss: 1.0603 - accuracy: 0.6033 - val_loss: 0.9745 - val_accuracy: 0.6472\n",
            "Epoch 48/100\n",
            "179/179 [==============================] - 26s 145ms/step - loss: 1.0439 - accuracy: 0.6121 - val_loss: 0.9986 - val_accuracy: 0.6339\n",
            "Epoch 49/100\n",
            "179/179 [==============================] - 26s 144ms/step - loss: 1.0362 - accuracy: 0.6162 - val_loss: 0.9769 - val_accuracy: 0.6385\n",
            "Epoch 50/100\n",
            "179/179 [==============================] - 26s 145ms/step - loss: 1.0123 - accuracy: 0.6261 - val_loss: 0.9715 - val_accuracy: 0.6449\n",
            "Epoch 51/100\n",
            "179/179 [==============================] - 26s 144ms/step - loss: 1.0209 - accuracy: 0.6244 - val_loss: 0.9426 - val_accuracy: 0.6542\n",
            "Epoch 52/100\n",
            "179/179 [==============================] - 26s 144ms/step - loss: 0.9773 - accuracy: 0.6384 - val_loss: 0.9324 - val_accuracy: 0.6577\n",
            "Epoch 53/100\n",
            "179/179 [==============================] - 26s 144ms/step - loss: 0.9813 - accuracy: 0.6408 - val_loss: 0.8866 - val_accuracy: 0.6770\n",
            "Epoch 54/100\n",
            "179/179 [==============================] - 26s 145ms/step - loss: 0.9589 - accuracy: 0.6472 - val_loss: 0.8923 - val_accuracy: 0.6764\n",
            "Epoch 55/100\n",
            "179/179 [==============================] - 26s 144ms/step - loss: 0.9471 - accuracy: 0.6534 - val_loss: 0.8623 - val_accuracy: 0.6877\n",
            "Epoch 56/100\n",
            "179/179 [==============================] - 26s 144ms/step - loss: 0.9336 - accuracy: 0.6614 - val_loss: 0.8771 - val_accuracy: 0.6900\n",
            "Epoch 57/100\n",
            "179/179 [==============================] - 26s 145ms/step - loss: 0.9163 - accuracy: 0.6628 - val_loss: 0.8534 - val_accuracy: 0.6947\n",
            "Epoch 58/100\n",
            "179/179 [==============================] - 26s 144ms/step - loss: 0.9073 - accuracy: 0.6755 - val_loss: 0.8550 - val_accuracy: 0.6916\n",
            "Epoch 59/100\n",
            "179/179 [==============================] - 26s 145ms/step - loss: 0.8873 - accuracy: 0.6805 - val_loss: 0.8376 - val_accuracy: 0.7028\n",
            "Epoch 60/100\n",
            "179/179 [==============================] - 26s 144ms/step - loss: 0.8942 - accuracy: 0.6786 - val_loss: 0.8525 - val_accuracy: 0.7049\n",
            "Epoch 61/100\n",
            "179/179 [==============================] - 26s 144ms/step - loss: 0.8693 - accuracy: 0.6889 - val_loss: 0.8222 - val_accuracy: 0.7108\n",
            "Epoch 62/100\n",
            "179/179 [==============================] - 26s 144ms/step - loss: 0.8599 - accuracy: 0.6913 - val_loss: 0.8178 - val_accuracy: 0.7133\n",
            "Epoch 63/100\n",
            "179/179 [==============================] - 26s 144ms/step - loss: 0.8524 - accuracy: 0.6992 - val_loss: 0.7982 - val_accuracy: 0.7205\n",
            "Epoch 64/100\n",
            "179/179 [==============================] - 26s 144ms/step - loss: 0.8302 - accuracy: 0.7021 - val_loss: 0.7916 - val_accuracy: 0.7264\n",
            "Epoch 65/100\n",
            "179/179 [==============================] - 26s 144ms/step - loss: 0.8182 - accuracy: 0.7078 - val_loss: 0.8308 - val_accuracy: 0.7149\n",
            "Epoch 66/100\n",
            "179/179 [==============================] - 26s 144ms/step - loss: 0.8224 - accuracy: 0.7056 - val_loss: 0.7952 - val_accuracy: 0.7235\n",
            "Epoch 67/100\n",
            "179/179 [==============================] - 26s 144ms/step - loss: 0.8176 - accuracy: 0.7058 - val_loss: 0.7885 - val_accuracy: 0.7280\n",
            "Epoch 68/100\n",
            "179/179 [==============================] - 26s 144ms/step - loss: 0.7862 - accuracy: 0.7190 - val_loss: 0.7820 - val_accuracy: 0.7273\n",
            "Epoch 69/100\n",
            "179/179 [==============================] - 26s 144ms/step - loss: 0.7994 - accuracy: 0.7162 - val_loss: 0.7769 - val_accuracy: 0.7341\n",
            "Epoch 70/100\n",
            "179/179 [==============================] - 26s 145ms/step - loss: 0.7814 - accuracy: 0.7251 - val_loss: 0.7421 - val_accuracy: 0.7428\n",
            "Epoch 71/100\n",
            "179/179 [==============================] - 26s 144ms/step - loss: 0.7624 - accuracy: 0.7262 - val_loss: 0.7650 - val_accuracy: 0.7378\n",
            "Epoch 72/100\n",
            "179/179 [==============================] - 26s 145ms/step - loss: 0.7622 - accuracy: 0.7314 - val_loss: 0.7647 - val_accuracy: 0.7456\n",
            "Epoch 73/100\n",
            "179/179 [==============================] - 26s 145ms/step - loss: 0.7506 - accuracy: 0.7385 - val_loss: 0.7416 - val_accuracy: 0.7510\n",
            "Epoch 74/100\n",
            "179/179 [==============================] - 26s 144ms/step - loss: 0.7307 - accuracy: 0.7426 - val_loss: 0.7190 - val_accuracy: 0.7588\n",
            "Epoch 75/100\n",
            "179/179 [==============================] - 26s 145ms/step - loss: 0.7192 - accuracy: 0.7452 - val_loss: 0.7283 - val_accuracy: 0.7607\n",
            "Epoch 76/100\n",
            "179/179 [==============================] - 26s 144ms/step - loss: 0.7320 - accuracy: 0.7445 - val_loss: 0.7359 - val_accuracy: 0.7576\n",
            "Epoch 77/100\n",
            "179/179 [==============================] - 26s 144ms/step - loss: 0.7059 - accuracy: 0.7494 - val_loss: 0.7275 - val_accuracy: 0.7607\n",
            "Epoch 78/100\n",
            "179/179 [==============================] - 26s 145ms/step - loss: 0.7049 - accuracy: 0.7556 - val_loss: 0.7461 - val_accuracy: 0.7517\n",
            "Epoch 79/100\n",
            "179/179 [==============================] - 26s 144ms/step - loss: 0.6982 - accuracy: 0.7536 - val_loss: 0.6960 - val_accuracy: 0.7717\n",
            "Epoch 80/100\n",
            "179/179 [==============================] - 26s 145ms/step - loss: 0.6799 - accuracy: 0.7622 - val_loss: 0.7132 - val_accuracy: 0.7666\n",
            "Epoch 81/100\n",
            "179/179 [==============================] - 26s 144ms/step - loss: 0.6818 - accuracy: 0.7619 - val_loss: 0.7231 - val_accuracy: 0.7639\n",
            "Epoch 82/100\n",
            "179/179 [==============================] - 26s 144ms/step - loss: 0.6797 - accuracy: 0.7643 - val_loss: 0.7097 - val_accuracy: 0.7670\n",
            "Epoch 83/100\n",
            "179/179 [==============================] - 26s 144ms/step - loss: 0.6597 - accuracy: 0.7713 - val_loss: 0.7043 - val_accuracy: 0.7714\n",
            "Epoch 84/100\n",
            "179/179 [==============================] - 26s 144ms/step - loss: 0.6534 - accuracy: 0.7752 - val_loss: 0.6866 - val_accuracy: 0.7772\n",
            "Epoch 85/100\n",
            "179/179 [==============================] - 26s 145ms/step - loss: 0.6555 - accuracy: 0.7734 - val_loss: 0.7212 - val_accuracy: 0.7711\n",
            "Epoch 86/100\n",
            "179/179 [==============================] - 26s 144ms/step - loss: 0.6692 - accuracy: 0.7698 - val_loss: 0.6923 - val_accuracy: 0.7792\n",
            "Epoch 87/100\n",
            "179/179 [==============================] - 26s 144ms/step - loss: 0.6401 - accuracy: 0.7795 - val_loss: 0.6838 - val_accuracy: 0.7823\n",
            "Epoch 88/100\n",
            "179/179 [==============================] - 26s 144ms/step - loss: 0.6440 - accuracy: 0.7745 - val_loss: 0.6968 - val_accuracy: 0.7820\n",
            "Epoch 89/100\n",
            "179/179 [==============================] - 26s 144ms/step - loss: 0.6395 - accuracy: 0.7809 - val_loss: 0.6757 - val_accuracy: 0.7822\n",
            "Epoch 90/100\n",
            "179/179 [==============================] - 26s 144ms/step - loss: 0.6200 - accuracy: 0.7867 - val_loss: 0.6868 - val_accuracy: 0.7865\n",
            "Epoch 91/100\n",
            "179/179 [==============================] - 26s 145ms/step - loss: 0.6087 - accuracy: 0.7907 - val_loss: 0.6932 - val_accuracy: 0.7843\n",
            "Epoch 92/100\n",
            "179/179 [==============================] - 26s 144ms/step - loss: 0.6080 - accuracy: 0.7927 - val_loss: 0.6725 - val_accuracy: 0.7873\n",
            "Epoch 93/100\n",
            "179/179 [==============================] - 26s 144ms/step - loss: 0.6057 - accuracy: 0.7918 - val_loss: 0.6737 - val_accuracy: 0.7906\n",
            "Epoch 94/100\n",
            "179/179 [==============================] - 26s 144ms/step - loss: 0.6063 - accuracy: 0.7902 - val_loss: 0.6441 - val_accuracy: 0.7996\n",
            "Epoch 95/100\n",
            "179/179 [==============================] - 26s 144ms/step - loss: 0.5846 - accuracy: 0.8018 - val_loss: 0.6445 - val_accuracy: 0.8038\n",
            "Epoch 96/100\n",
            "179/179 [==============================] - 26s 145ms/step - loss: 0.5763 - accuracy: 0.8074 - val_loss: 0.6740 - val_accuracy: 0.7910\n",
            "Epoch 97/100\n",
            "179/179 [==============================] - 26s 144ms/step - loss: 0.5763 - accuracy: 0.8032 - val_loss: 0.7040 - val_accuracy: 0.7912\n",
            "Epoch 98/100\n",
            "179/179 [==============================] - 26s 144ms/step - loss: 0.5923 - accuracy: 0.8006 - val_loss: 0.6559 - val_accuracy: 0.8046\n",
            "Epoch 99/100\n",
            "179/179 [==============================] - 26s 144ms/step - loss: 0.5647 - accuracy: 0.8087 - val_loss: 0.6442 - val_accuracy: 0.8040\n",
            "Epoch 100/100\n",
            "179/179 [==============================] - 26s 144ms/step - loss: 0.5603 - accuracy: 0.8104 - val_loss: 0.6517 - val_accuracy: 0.8054\n"
          ],
          "name": "stdout"
        }
      ]
    },
    {
      "cell_type": "code",
      "metadata": {
        "colab": {
          "base_uri": "https://localhost:8080/"
        },
        "id": "tMHylwJOjy4S",
        "outputId": "08cd3a0f-3ff7-4e27-8a3a-8cdb72e02457"
      },
      "source": [
        "model_score = model_LSTM.evaluate(x_test, y_test, verbose=1)\n",
        "print('Test loss:', model_score[0])\n",
        "print('Test accuracy:', model_score[1])"
      ],
      "execution_count": null,
      "outputs": [
        {
          "output_type": "stream",
          "text": [
            "357/357 [==============================] - 19s 53ms/step - loss: 0.6517 - accuracy: 0.8054\n",
            "Test loss: 0.6516743898391724\n",
            "Test accuracy: 0.8054460883140564\n"
          ],
          "name": "stdout"
        }
      ]
    },
    {
      "cell_type": "code",
      "metadata": {
        "colab": {
          "base_uri": "https://localhost:8080/"
        },
        "id": "8gejv0T_MsOu",
        "outputId": "dd47caf2-72aa-4c98-f401-b4be7baa2b8a"
      },
      "source": [
        "# list all data in history\n",
        "print(m.history.keys())\n",
        "import matplotlib.pyplot as plt\n",
        "import numpy\n"
      ],
      "execution_count": null,
      "outputs": [
        {
          "output_type": "stream",
          "text": [
            "dict_keys(['loss', 'accuracy', 'val_loss', 'val_accuracy'])\n"
          ],
          "name": "stdout"
        }
      ]
    },
    {
      "cell_type": "markdown",
      "metadata": {
        "id": "BZobzLkLpfiP"
      },
      "source": [
        "# Plots -  epcohs vs Accuracy/loss"
      ]
    },
    {
      "cell_type": "code",
      "metadata": {
        "colab": {
          "base_uri": "https://localhost:8080/",
          "height": 312
        },
        "id": "WJe4w_FCj3eq",
        "outputId": "9f131139-edcd-4730-e77d-ce821679cd48"
      },
      "source": [
        "import matplotlib.pyplot as plt\n",
        "print(m.history.keys())\n",
        "# summarize history for accuracy\n",
        "plt.plot(m.history['accuracy'])\n",
        "plt.plot(m.history['val_accuracy'])\n",
        "plt.title('model accuracy')\n",
        "plt.ylabel('accuracy')\n",
        "plt.xlabel('epoch')\n",
        "plt.legend(['train', 'test'], loc='upper left')\n",
        "plt.show()"
      ],
      "execution_count": null,
      "outputs": [
        {
          "output_type": "stream",
          "text": [
            "dict_keys(['loss', 'accuracy', 'val_loss', 'val_accuracy'])\n"
          ],
          "name": "stdout"
        },
        {
          "output_type": "display_data",
          "data": {
            "image/png": "[encoded data removed]",
            "text/plain": [
              "<Figure size 432x288 with 1 Axes>"
            ]
          },
          "metadata": {
            "tags": [],
            "needs_background": "light"
          }
        }
      ]
    },
    {
      "cell_type": "code",
      "metadata": {
        "colab": {
          "base_uri": "https://localhost:8080/",
          "height": 295
        },
        "id": "_GtfiOYkj9Nm",
        "outputId": "81087f5a-8ab7-4acd-eac1-ffd14debe374"
      },
      "source": [
        "# summarize history for loss\n",
        "plt.plot(m.history['loss'])\n",
        "plt.plot(m.history['val_loss'])\n",
        "plt.title('model loss')\n",
        "plt.ylabel('loss')\n",
        "plt.xlabel('epoch')\n",
        "plt.legend(['train', 'test'], loc='upper left')\n",
        "plt.show()"
      ],
      "execution_count": null,
      "outputs": [
        {
          "output_type": "display_data",
          "data": {
            "image/png": "[encoded data removed]",
            "text/plain": [
              "<Figure size 432x288 with 1 Axes>"
            ]
          },
          "metadata": {
            "tags": [],
            "needs_background": "light"
          }
        }
      ]
    },
    {
      "cell_type": "code",
      "metadata": {
        "colab": {
          "base_uri": "https://localhost:8080/",
          "height": 295
        },
        "id": "4Ez0qR0fj_su",
        "outputId": "cec39e17-fb74-4c82-d7bb-d062ed137bd9"
      },
      "source": [
        "plt.plot(m.history['val_accuracy'])\n",
        "plt.plot(m.history['val_loss'])\n",
        "plt.title('test model')\n",
        "plt.ylabel('test accuracy')\n",
        "plt.xlabel('test loss')\n",
        "plt.show()"
      ],
      "execution_count": null,
      "outputs": [
        {
          "output_type": "display_data",
          "data": {
            "image/png": "[encoded data removed]",
            "text/plain": [
              "<Figure size 432x288 with 1 Axes>"
            ]
          },
          "metadata": {
            "tags": [],
            "needs_background": "light"
          }
        }
      ]
    },
    {
      "cell_type": "code",
      "metadata": {
        "id": "TMYBA6XIkBe_"
      },
      "source": [
        "M=m\n"
      ],
      "execution_count": null,
      "outputs": []
    },
    {
      "cell_type": "code",
      "metadata": {
        "id": "8BMEQVwuMIG4"
      },
      "source": [
        "y_pred=model_LSTM.predict(x_test)\n",
        "from sklearn.metrics import confusion_matrix\n",
        "import numpy as np"
      ],
      "execution_count": null,
      "outputs": []
    },
    {
      "cell_type": "code",
      "metadata": {
        "colab": {
          "base_uri": "https://localhost:8080/",
          "height": 599
        },
        "id": "wsDT0UtqkB6z",
        "outputId": "d4b04df6-08f3-4adf-9d20-76012c6f7511"
      },
      "source": [
        "y_test[1]\n",
        "y_pred[1]\n",
        "y_test1=np.argmax(y_test, axis=1)\n",
        "y_pred=np.argmax(y_pred,axis=1)\n",
        "cmatrix=confusion_matrix(y_test1, y_pred)\n",
        "import seaborn as sns\n",
        "figure = plt.figure(figsize=(8, 8))\n",
        "sns.heatmap(cmatrix, annot=True,cmap=plt.cm.Blues)\n",
        "plt.tight_layout()\n",
        "plt.ylabel('True label')\n",
        "plt.xlabel('Predicted label')\n",
        "plt.show()"
      ],
      "execution_count": null,
      "outputs": [
        {
          "output_type": "display_data",
          "data": {
            "image/png": "[encoded data removed]",
            "text/plain": [
              "<Figure size 576x576 with 2 Axes>"
            ]
          },
          "metadata": {
            "tags": [],
            "needs_background": "light"
          }
        }
      ]
    },
    {
      "cell_type": "code",
      "metadata": {
        "colab": {
          "base_uri": "https://localhost:8080/"
        },
        "id": "fnGoSvD-kFN5",
        "outputId": "19b53947-9610-4912-f4cb-751741065dbf"
      },
      "source": [
        "m"
      ],
      "execution_count": null,
      "outputs": [
        {
          "output_type": "execute_result",
          "data": {
            "text/plain": [
              "<tensorflow.python.keras.callbacks.History at 0x7f2602b8fd50>"
            ]
          },
          "metadata": {
            "tags": []
          },
          "execution_count": 31
        }
      ]
    },
    {
      "cell_type": "markdown",
      "metadata": {
        "id": "zRRJGIrklAaO"
      },
      "source": [
        "# ROC curves"
      ]
    },
    {
      "cell_type": "code",
      "metadata": {
        "id": "RM_rn1xhL6EX"
      },
      "source": [
        "import numpy as np\n",
        "import matplotlib.pyplot as plt\n",
        "from itertools import cycle\n",
        "\n",
        "from sklearn import svm, datasets\n",
        "from sklearn.metrics import roc_curve, auc\n",
        "from sklearn.model_selection import train_test_split\n",
        "from sklearn.preprocessing import label_binarize\n",
        "from sklearn.multiclass import OneVsRestClassifier\n",
        "from scipy import interp\n",
        "from sklearn.metrics import roc_auc_score"
      ],
      "execution_count": null,
      "outputs": []
    },
    {
      "cell_type": "code",
      "metadata": {
        "id": "eu_QAzOXo8ZK",
        "colab": {
          "base_uri": "https://localhost:8080/"
        },
        "outputId": "91cc52ce-0ce8-4994-e61f-db45751886dd"
      },
      "source": [
        "# make probability predictions with the model\n",
        "predictions = model_LSTM.predict(x_test)\n",
        "# round predictions \n",
        "rounded = [round(x[0]) for x in predictions]\n",
        "rounded = np.array(rounded)\n",
        "rounded.shape"
      ],
      "execution_count": null,
      "outputs": [
        {
          "output_type": "execute_result",
          "data": {
            "text/plain": [
              "(11421,)"
            ]
          },
          "metadata": {
            "tags": []
          },
          "execution_count": 33
        }
      ]
    },
    {
      "cell_type": "code",
      "metadata": {
        "id": "LDCxKeQAL8Sf"
      },
      "source": [
        "# make class predictions with the model\n",
        "predictions = model_LSTM.predict_classes(x_test)"
      ],
      "execution_count": null,
      "outputs": []
    },
    {
      "cell_type": "code",
      "metadata": {
        "colab": {
          "base_uri": "https://localhost:8080/"
        },
        "id": "y4ym8VgcxRXp",
        "outputId": "bcb887fb-a361-4870-ac2f-d977d35df154"
      },
      "source": [
        "temp = label_binarize(predictions,classes = [0,1,2,3,4,5,6,7,8,9] )\n",
        "temp\n",
        "temp1 = label_binarize(y_test,classes = [0,1,2,3,4,5,6,7,8,9] )\n",
        "temp1"
      ],
      "execution_count": null,
      "outputs": [
        {
          "output_type": "execute_result",
          "data": {
            "text/plain": [
              "array([[0, 0, 0, ..., 0, 0, 0],\n",
              "       [0, 0, 0, ..., 0, 0, 0],\n",
              "       [0, 0, 0, ..., 0, 0, 0],\n",
              "       ...,\n",
              "       [0, 0, 1, ..., 0, 0, 0],\n",
              "       [0, 0, 1, ..., 0, 0, 0],\n",
              "       [0, 0, 1, ..., 0, 0, 0]])"
            ]
          },
          "metadata": {
            "tags": []
          },
          "execution_count": 35
        }
      ]
    },
    {
      "cell_type": "code",
      "metadata": {
        "id": "pwZw_MpElCmu"
      },
      "source": [
        "false_pr = dict()\n",
        "true_pr = dict()\n",
        "roc_auc = dict()\n",
        "for i in range(classes-1):\n",
        "    false_pr[i], true_pr[i], _ = roc_curve(temp1[:, i], temp[:, i])\n",
        "    roc_auc[i] = auc(false_pr[i], true_pr[i])\n",
        "\n",
        "false_pr[\"micro\"], true_pr[\"micro\"], _ = roc_curve(temp1.ravel(), temp.ravel())\n",
        "roc_auc[\"micro\"] = auc(false_pr[\"micro\"], true_pr[\"micro\"])"
      ],
      "execution_count": null,
      "outputs": []
    },
    {
      "cell_type": "code",
      "metadata": {
        "id": "sIZ3GfnIxq1H"
      },
      "source": [
        "classes = classes  -1\n",
        "lw = 2"
      ],
      "execution_count": null,
      "outputs": []
    },
    {
      "cell_type": "code",
      "metadata": {
        "colab": {
          "base_uri": "https://localhost:8080/",
          "height": 295
        },
        "id": "lyq00IiYmFy2",
        "outputId": "a60ada82-c1b1-4e9b-ed6f-a0eb7f907ae7"
      },
      "source": [
        "combined_fpr = np.unique(np.concatenate([false_pr[i] for i in range(classes)]))\n",
        "\n",
        "# Then interpolate all ROC curves at this points\n",
        "average_tpr = np.zeros_like(combined_fpr)\n",
        "for i in range(classes):\n",
        "    average_tpr += interp(combined_fpr, false_pr[i], true_pr[i])\n",
        "\n",
        "average_tpr /= (classes)\n",
        "\n",
        "false_pr[\"macro\"] = combined_fpr\n",
        "true_pr[\"macro\"] = average_tpr\n",
        "roc_auc[\"macro\"] = auc(false_pr[\"macro\"], true_pr[\"macro\"])\n",
        "\n",
        "# Plot all ROC curves\n",
        "plt.figure()\n",
        "plt.plot(false_pr[\"micro\"], true_pr[\"micro\"],\n",
        "         label='micro-average (area = {0:0.2f})'\n",
        "               ''.format(roc_auc[\"micro\"]),\n",
        "         color='deeppink', linestyle=':', linewidth=4)\n",
        "\n",
        "plt.plot(false_pr[\"macro\"], true_pr[\"macro\"],\n",
        "         label='macro-average(area = {0:0.2f})'\n",
        "               ''.format(roc_auc[\"macro\"]),\n",
        "         color='navy', linestyle=':', linewidth=4)\n",
        "\n",
        "colors = cycle(['aqua', 'darkorange', 'cornflowerblue'])\n",
        "for i, color in zip(range(classes), colors):\n",
        "    plt.plot(false_pr[i], true_pr[i], color=color, lw=lw,\n",
        "             label='ROC curve of class {0} (area = {1:0.2f})'\n",
        "             ''.format(i, roc_auc[i]))\n",
        "\n",
        "plt.plot([0, 1], [0, 1], 'k--', lw=lw)\n",
        "plt.xlim([0.0, 1.0])\n",
        "plt.ylim([0.0, 1.05])\n",
        "plt.xlabel('False Positive Rate')\n",
        "plt.ylabel('True Positive Rate')\n",
        "plt.title('Multi-class ROC')\n",
        "plt.legend(loc=\"lower right\")\n",
        "plt.show()"
      ],
      "execution_count": null,
      "outputs": [
        {
          "output_type": "display_data",
          "data": {
            "image/png": "[encoded data removed]",
            "text/plain": [
              "<Figure size 432x288 with 1 Axes>"
            ]
          },
          "metadata": {
            "tags": [],
            "needs_background": "light"
          }
        }
      ]
    },
    {
      "cell_type": "code",
      "metadata": {
        "colab": {
          "base_uri": "https://localhost:8080/"
        },
        "id": "uGIsJ_d8xkfF",
        "outputId": "fed32a3a-1bff-460f-b170-e536f37e9628"
      },
      "source": [
        "cm = cmatrix\n",
        "cm"
      ],
      "execution_count": null,
      "outputs": [
        {
          "output_type": "execute_result",
          "data": {
            "text/plain": [
              "array([[1317,   21,   15,    0,   21,   25,   51,   15,  195],\n",
              "       [  23,  506,    7,   12,   17,    6,    5,    7,    4],\n",
              "       [  16,   18,  460,   12,   12,   21,   25,   16,    6],\n",
              "       [   5,    7,   17,  568,   31,   16,   26,    8,    5],\n",
              "       [  43,   20,   15,   40, 1677,   44,   37,   16,   59],\n",
              "       [  64,    9,   29,   39,   88, 1767,   79,    8,   64],\n",
              "       [  72,    7,   18,   47,  104,   60, 1462,   29,  156],\n",
              "       [  19,    6,    8,   22,   23,    7,   26,  518,   53],\n",
              "       [ 128,    1,    4,    4,   19,   15,   38,   37,  924]])"
            ]
          },
          "metadata": {
            "tags": []
          },
          "execution_count": 40
        }
      ]
    },
    {
      "cell_type": "code",
      "metadata": {
        "id": "BKhTkxhU0UMs"
      },
      "source": [
        "recall = np.diag(cm) / np.sum(cm, axis = 1)\n",
        "precision = np.diag(cm) / np.sum(cm, axis = 0)"
      ],
      "execution_count": null,
      "outputs": []
    },
    {
      "cell_type": "code",
      "metadata": {
        "colab": {
          "base_uri": "https://localhost:8080/"
        },
        "id": "rAwhaXaR0n84",
        "outputId": "18b62918-21d3-4e43-d33c-03577c741f7e"
      },
      "source": [
        "print(recall)\n",
        "print(precision)"
      ],
      "execution_count": null,
      "outputs": [
        {
          "output_type": "stream",
          "text": [
            "[0.79337349 0.86201022 0.78498294 0.83162518 0.8595592  0.82300885\n",
            " 0.74782609 0.75953079 0.78974359]\n",
            "[0.78067576 0.85042017 0.80279232 0.76344086 0.84186747 0.90107088\n",
            " 0.83590623 0.79204893 0.63028649]\n"
          ],
          "name": "stdout"
        }
      ]
    },
    {
      "cell_type": "code",
      "metadata": {
        "colab": {
          "base_uri": "https://localhost:8080/"
        },
        "id": "BIUqstvA0wM2",
        "outputId": "cb154d5d-cd4c-4124-ac06-592c4a7a291d"
      },
      "source": [
        "print(\"Recall\",np.nanmean(recall))\n",
        "print(\"Recall\",np.nanmean(precision))"
      ],
      "execution_count": null,
      "outputs": [
        {
          "output_type": "stream",
          "text": [
            "Recall 0.8057400391185783\n",
            "Recall 0.7998343458798085\n"
          ],
          "name": "stdout"
        }
      ]
    }
  ]
}